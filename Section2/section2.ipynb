{
 "cells": [
  {
   "cell_type": "markdown",
   "metadata": {},
   "source": [
    "## ENVECON 147 - Section 2\n",
    "\n",
    "## Intro to Python"
   ]
  },
  {
   "cell_type": "markdown",
   "metadata": {},
   "source": [
    "In this lab you will be familiarizing yourself with the programming language called Python. Python is a so-called high level programming language. Which means it is very abstracted from machine languages and are easily readable by humans. \n",
    "\n",
    "Python is one of the most popular programming languages nowadays, and is used in various spheres from research and Data Science to Machine Learning and Artificial Intelligence.\n",
    "\n",
    "In this lab you will also learn some of the most popular Python libraries such as Pandas and Matplotlib. Libraries are used to make Python more efficient. By itself (solely with built-in functions and methods), Python is not a very useful language, hence people keep building libraries (sets of functions and methods) that can be used together with Python in order to make it more useful.\n",
    "\n",
    "If at anytime you want to restart the session from scratch, click Kernel -> Restart & Clear Output\n",
    "\n",
    "*Much credit for the creation of this notebook goes to the team behind the UC Berkeley Data Science Modules' Hamilton notebook, from which we borrowed."
   ]
  },
  {
   "cell_type": "markdown",
   "metadata": {},
   "source": [
    "### 1. Python's Data Types "
   ]
  },
  {
   "cell_type": "markdown",
   "metadata": {},
   "source": [
    "#### 1.1 Numerals"
   ]
  },
  {
   "cell_type": "markdown",
   "metadata": {},
   "source": [
    "One of the data types that is commonly used in Python are numerals (aka numbers). \n",
    "With numerals, Python can be used as a calculator. Run the cells below to see it for yourself."
   ]
  },
  {
   "cell_type": "code",
   "execution_count": 1,
   "metadata": {},
   "outputs": [
    {
     "data": {
      "text/plain": [
       "8"
      ]
     },
     "execution_count": 1,
     "metadata": {},
     "output_type": "execute_result"
    }
   ],
   "source": [
    "3+5"
   ]
  },
  {
   "cell_type": "code",
   "execution_count": 2,
   "metadata": {},
   "outputs": [
    {
     "data": {
      "text/plain": [
       "120"
      ]
     },
     "execution_count": 2,
     "metadata": {},
     "output_type": "execute_result"
    }
   ],
   "source": [
    "140-20"
   ]
  },
  {
   "cell_type": "code",
   "execution_count": 3,
   "metadata": {},
   "outputs": [
    {
     "data": {
      "text/plain": [
       "20.0"
      ]
     },
     "execution_count": 3,
     "metadata": {},
     "output_type": "execute_result"
    }
   ],
   "source": [
    "40/2"
   ]
  },
  {
   "cell_type": "code",
   "execution_count": 4,
   "metadata": {},
   "outputs": [
    {
     "data": {
      "text/plain": [
       "4"
      ]
     },
     "execution_count": 4,
     "metadata": {},
     "output_type": "execute_result"
    }
   ],
   "source": [
    "2*2"
   ]
  },
  {
   "cell_type": "code",
   "execution_count": 5,
   "metadata": {},
   "outputs": [
    {
     "data": {
      "text/plain": [
       "12"
      ]
     },
     "execution_count": 5,
     "metadata": {},
     "output_type": "execute_result"
    }
   ],
   "source": [
    "2*(5+1)"
   ]
  },
  {
   "cell_type": "markdown",
   "metadata": {},
   "source": [
    "Guess what a double star notation does? Run the cell below to see if you had the right intuition about it."
   ]
  },
  {
   "cell_type": "code",
   "execution_count": 6,
   "metadata": {},
   "outputs": [
    {
     "data": {
      "text/plain": [
       "27"
      ]
     },
     "execution_count": 6,
     "metadata": {},
     "output_type": "execute_result"
    }
   ],
   "source": [
    "3**3"
   ]
  },
  {
   "cell_type": "markdown",
   "metadata": {},
   "source": [
    "#### 1.2 Variables"
   ]
  },
  {
   "cell_type": "markdown",
   "metadata": {},
   "source": [
    "To store the values in Python (and in many other programming languages) we need to use variables. Variables can store all kinds of information. This is useful if you plan to use the same values later on in your project. It will save you time and make your code more readable. To see how we store values in variables run the cell below. Note, by typing the variable, once assigned, by itself at the end of a cell, the jupyter notebook will report its value"
   ]
  },
  {
   "cell_type": "code",
   "execution_count": 7,
   "metadata": {},
   "outputs": [],
   "source": [
    "x = 2\n",
    "y = 3"
   ]
  },
  {
   "cell_type": "code",
   "execution_count": 8,
   "metadata": {},
   "outputs": [
    {
     "name": "stdout",
     "output_type": "stream",
     "text": [
      "2\n",
      "3\n"
     ]
    }
   ],
   "source": [
    "print(x)\n",
    "print(y)"
   ]
  },
  {
   "cell_type": "markdown",
   "metadata": {},
   "source": [
    "Note that a variable will keep its value unless assigned a new value.  Try running the following three cells to see this."
   ]
  },
  {
   "cell_type": "code",
   "execution_count": 9,
   "metadata": {},
   "outputs": [
    {
     "data": {
      "text/plain": [
       "5"
      ]
     },
     "execution_count": 9,
     "metadata": {},
     "output_type": "execute_result"
    }
   ],
   "source": [
    "x + 3"
   ]
  },
  {
   "cell_type": "code",
   "execution_count": 10,
   "metadata": {},
   "outputs": [
    {
     "name": "stdout",
     "output_type": "stream",
     "text": [
      "2\n",
      "3\n"
     ]
    }
   ],
   "source": [
    "x + y\n",
    "print(x)\n",
    "print(y)"
   ]
  },
  {
   "cell_type": "code",
   "execution_count": 11,
   "metadata": {},
   "outputs": [
    {
     "name": "stdout",
     "output_type": "stream",
     "text": [
      "5\n",
      "3\n"
     ]
    }
   ],
   "source": [
    "x = x + y\n",
    "print(x)\n",
    "print(y)"
   ]
  },
  {
   "cell_type": "markdown",
   "metadata": {},
   "source": [
    "A variable will keep the value most recently assigned to it.  Try running the following cell."
   ]
  },
  {
   "cell_type": "code",
   "execution_count": 12,
   "metadata": {},
   "outputs": [
    {
     "name": "stdout",
     "output_type": "stream",
     "text": [
      "5\n",
      "3\n"
     ]
    }
   ],
   "source": [
    "print(x)\n",
    "print(y)"
   ]
  },
  {
   "cell_type": "markdown",
   "metadata": {},
   "source": [
    "#### 1.3 Strings"
   ]
  },
  {
   "cell_type": "markdown",
   "metadata": {},
   "source": [
    "Strings are text values.  You can use single and double quotes for the strings, but sometimes you need to use single quotes inside of the string and that might cause a problem (it will \"exit it out\"). \n",
    "\n",
    "You can just always use the double quotation marks on the outside to avoid such problem. Or, you can use a backslash before the single quotation mark. It will tell Python to ignore it and not to exit it out. You can see an example of it below:"
   ]
  },
  {
   "cell_type": "code",
   "execution_count": 13,
   "metadata": {},
   "outputs": [
    {
     "name": "stdout",
     "output_type": "stream",
     "text": [
      "This is a string\n",
      "This is also a string\n"
     ]
    }
   ],
   "source": [
    "print('This is a string')\n",
    "print(\"This is also a string\")"
   ]
  },
  {
   "cell_type": "markdown",
   "metadata": {},
   "source": [
    "The strings can also be \"added\" onto one another. Run the cell below to see how it works."
   ]
  },
  {
   "cell_type": "code",
   "execution_count": 14,
   "metadata": {},
   "outputs": [
    {
     "data": {
      "text/plain": [
       "'string 1string 2'"
      ]
     },
     "execution_count": 14,
     "metadata": {},
     "output_type": "execute_result"
    }
   ],
   "source": [
    "\"string 1\" + \"string 2\""
   ]
  },
  {
   "cell_type": "markdown",
   "metadata": {},
   "source": [
    "Strings can be assigned to variables, just like numbers."
   ]
  },
  {
   "cell_type": "code",
   "execution_count": 15,
   "metadata": {},
   "outputs": [
    {
     "name": "stdout",
     "output_type": "stream",
     "text": [
      "This variable is a string\n"
     ]
    }
   ],
   "source": [
    "my_string = 'This variable is a string'\n",
    "print(my_string)"
   ]
  },
  {
   "cell_type": "markdown",
   "metadata": {},
   "source": [
    "#### 1.4 Lists"
   ]
  },
  {
   "cell_type": "markdown",
   "metadata": {},
   "source": [
    "Another useful and very popular data type is a Python list.\n",
    "Lists can take various data types (both numerals, strings, arrays, other lists, etc). \n",
    "\n",
    "To create an empty list just make your variable equal to \"[ ]\", like so:"
   ]
  },
  {
   "cell_type": "code",
   "execution_count": 16,
   "metadata": {},
   "outputs": [
    {
     "name": "stdout",
     "output_type": "stream",
     "text": [
      "[]\n"
     ]
    }
   ],
   "source": [
    "mylist = []\n",
    "print(mylist)"
   ]
  },
  {
   "cell_type": "markdown",
   "metadata": {},
   "source": [
    "You can assign one or more values to a list, separated by a comma, as in the following:"
   ]
  },
  {
   "cell_type": "code",
   "execution_count": 17,
   "metadata": {},
   "outputs": [
    {
     "name": "stdout",
     "output_type": "stream",
     "text": [
      "[100]\n"
     ]
    }
   ],
   "source": [
    "mylist = [100]\n",
    "print(mylist)"
   ]
  },
  {
   "cell_type": "code",
   "execution_count": 18,
   "metadata": {},
   "outputs": [
    {
     "name": "stdout",
     "output_type": "stream",
     "text": [
      "[100, 200]\n"
     ]
    }
   ],
   "source": [
    "mylist = [100, 200]\n",
    "print(mylist)"
   ]
  },
  {
   "cell_type": "code",
   "execution_count": 19,
   "metadata": {},
   "outputs": [
    {
     "name": "stdout",
     "output_type": "stream",
     "text": [
      "[100, 'a string']\n"
     ]
    }
   ],
   "source": [
    "mylist = [100, 'a string']\n",
    "print(mylist)"
   ]
  },
  {
   "cell_type": "markdown",
   "metadata": {},
   "source": [
    "To add values into an existing list, you can use the .append() method."
   ]
  },
  {
   "cell_type": "code",
   "execution_count": 20,
   "metadata": {},
   "outputs": [
    {
     "name": "stdout",
     "output_type": "stream",
     "text": [
      "[100, 200, 300]\n"
     ]
    }
   ],
   "source": [
    "mylist = [100, 200]\n",
    "mylist.append(300)\n",
    "print(mylist)"
   ]
  },
  {
   "cell_type": "markdown",
   "metadata": {},
   "source": [
    "You can select values from a list with an index.  Note that Python indices start from 0 (that is, 0 indexes the first element, 1 indexes the second element, etc.)  In the following cell, we select the second element from our list. "
   ]
  },
  {
   "cell_type": "code",
   "execution_count": 21,
   "metadata": {},
   "outputs": [
    {
     "name": "stdout",
     "output_type": "stream",
     "text": [
      "200\n"
     ]
    }
   ],
   "source": [
    "print(mylist[1])"
   ]
  },
  {
   "cell_type": "markdown",
   "metadata": {},
   "source": [
    "### 2. Built-in Functions"
   ]
  },
  {
   "cell_type": "markdown",
   "metadata": {},
   "source": [
    "Python has built-in functions.  In the following cells, we take the min and max of a set of numbers."
   ]
  },
  {
   "cell_type": "code",
   "execution_count": 22,
   "metadata": {},
   "outputs": [
    {
     "data": {
      "text/plain": [
       "0"
      ]
     },
     "execution_count": 22,
     "metadata": {},
     "output_type": "execute_result"
    }
   ],
   "source": [
    "min(1, 3, 0, 10)"
   ]
  },
  {
   "cell_type": "code",
   "execution_count": 23,
   "metadata": {},
   "outputs": [
    {
     "data": {
      "text/plain": [
       "10"
      ]
     },
     "execution_count": 23,
     "metadata": {},
     "output_type": "execute_result"
    }
   ],
   "source": [
    "max(1, 3, 0, 10)"
   ]
  },
  {
   "cell_type": "markdown",
   "metadata": {},
   "source": [
    "### 3. Conditionals and For-loops"
   ]
  },
  {
   "cell_type": "markdown",
   "metadata": {},
   "source": [
    "#### 3.1 Conditionals"
   ]
  },
  {
   "cell_type": "markdown",
   "metadata": {},
   "source": [
    "Conditionals are also known as **booleans**. With conditional statements we can let the computer know when (aka under which condition) we want a specific operation to be executed. Under the hood the computer evaluates if the condition is True and performs a specific operation (like print( ), return( ), etc). Some of the most popular conditional statements are:"
   ]
  },
  {
   "cell_type": "markdown",
   "metadata": {},
   "source": [
    "**A == B: True if A equals B**\n",
    "\n",
    "**A != B: True if A is not equal to B**\n",
    "\n",
    "**A > B: True if A is greater than B. Same syntax for \"<\"**\n",
    "\n",
    "**A >= B: True if A is greater than or equal to B. Same syntax for \"<=\"**"
   ]
  },
  {
   "cell_type": "markdown",
   "metadata": {},
   "source": [
    "We have three types of statements in the Python conditionals: if, elif, and else. We always start with \"if\", we always end with \"else\". The \"elif\" statement is optional. It literally means \"else if\". While both \"if\" and \"else\" can only be used once, \"elif\" can be used multiple times, and let you add many more conditions to your statement.\n",
    "\n",
    "If the condition in the if case is False, then we move to the elif case. If the elif case is false, then we will move to the else case and perform whatever is inside the else condition. We move into the condition that has a True conditional value first and evaluate that."
   ]
  },
  {
   "cell_type": "code",
   "execution_count": 24,
   "metadata": {},
   "outputs": [],
   "source": [
    "x = 2\n",
    "\n",
    "if x == 3:\n",
    "    print (True)"
   ]
  },
  {
   "cell_type": "code",
   "execution_count": 25,
   "metadata": {},
   "outputs": [
    {
     "name": "stdout",
     "output_type": "stream",
     "text": [
      "False\n"
     ]
    }
   ],
   "source": [
    "x = 2\n",
    "\n",
    "if x == 3:\n",
    "    print (True)\n",
    "else:\n",
    "    print (False)"
   ]
  },
  {
   "cell_type": "markdown",
   "metadata": {},
   "source": [
    "You can link multiple conditionals together using &, meaning \"and,\" and |, meaning \"or.\"  If you have two conditions, condition 1 and condition 2, the following statement checks if both condition 1 and condition 2 are true:\n",
    "\n",
    "(condition 1) & (condition 2)\n",
    "\n",
    "If either of the above two conditions are False, the above statement is False.  Only if both conditions are True will the above statement be True.\n",
    "\n",
    "The following statement checks if either condition 1, or condition 2, are True (or both):\n",
    "\n",
    "(condition 1) | (condition 2)\n",
    "\n",
    "If either of the above two conditions are True, the above statement is True.  Only if both conditions are False will the above statement be False."
   ]
  },
  {
   "cell_type": "code",
   "execution_count": 26,
   "metadata": {},
   "outputs": [
    {
     "name": "stdout",
     "output_type": "stream",
     "text": [
      "True\n"
     ]
    }
   ],
   "source": [
    "x = 2\n",
    "\n",
    "if (x == 2) | (x == 3):\n",
    "    print (True)\n",
    "else:\n",
    "    print (False)"
   ]
  },
  {
   "cell_type": "markdown",
   "metadata": {},
   "source": [
    "**Note:** \"=\" and \"==\" are not the same operations in Python. A single equals sign (=) assignes the value to the right of it to the variable name to the left of it. While the double equals sign (==) compares if the value on the right is equal to the value to the left of it. "
   ]
  },
  {
   "cell_type": "markdown",
   "metadata": {},
   "source": [
    "#### 3.2 Loops"
   ]
  },
  {
   "cell_type": "markdown",
   "metadata": {},
   "source": [
    "Loops (aka for-loops) allow for some code to be executed repeatedly. For example, if you wish to print the numbers from 0 to 10, you can do that with the for-loop. \n",
    "\n",
    "A for-loop iterates through a sequence of elements (list, string, array, etc.) and reassigns an element (which can have any name, most common are \"x\", \"i\", \"elem\", the name in itself doesn't matter) to each element of the sequence sequentially. "
   ]
  },
  {
   "cell_type": "code",
   "execution_count": 27,
   "metadata": {},
   "outputs": [
    {
     "name": "stdout",
     "output_type": "stream",
     "text": [
      "3\n",
      "2\n",
      "1\n",
      "1\n"
     ]
    }
   ],
   "source": [
    "for i in [3, 2, 1]:   \n",
    "    print(i)\n",
    "\n",
    "print(i)"
   ]
  },
  {
   "cell_type": "markdown",
   "metadata": {},
   "source": [
    "In the previous code cell we can see that when i is called at the end of the loop, it is equal to 1 which is the last element of the sequence.  This was the last value assigned to i in the loop."
   ]
  },
  {
   "cell_type": "markdown",
   "metadata": {},
   "source": [
    "\n",
    "In the cell below we will be using the built-in function called range( ). It enumerates the numbers from 0 up to a number you put in (exclusive of that last number).\n",
    "\n",
    "**Note:** remember that Python starts to count from 0, hence the last number you specify is not going to be included."
   ]
  },
  {
   "cell_type": "code",
   "execution_count": 28,
   "metadata": {},
   "outputs": [
    {
     "name": "stdout",
     "output_type": "stream",
     "text": [
      "0\n",
      "1\n",
      "2\n"
     ]
    }
   ],
   "source": [
    "for i in range(3):\n",
    "    print(i)"
   ]
  },
  {
   "cell_type": "markdown",
   "metadata": {},
   "source": [
    "We can combine the len() function, which tells us the length of a list, with the range function, to loop over the indices of a list."
   ]
  },
  {
   "cell_type": "code",
   "execution_count": 29,
   "metadata": {},
   "outputs": [
    {
     "name": "stdout",
     "output_type": "stream",
     "text": [
      "0 100\n",
      "1 200\n",
      "2 300\n"
     ]
    }
   ],
   "source": [
    "mylist = [100, 200, 300]\n",
    "for i in range(len(mylist)):\n",
    "    print(i, mylist[i])"
   ]
  },
  {
   "cell_type": "markdown",
   "metadata": {},
   "source": [
    "### 4. Data Frames"
   ]
  },
  {
   "cell_type": "markdown",
   "metadata": {},
   "source": [
    "We will work with dataframes in the ESG game. In order to work with dataframes, we need to import the Pandas packages."
   ]
  },
  {
   "cell_type": "code",
   "execution_count": 30,
   "metadata": {},
   "outputs": [],
   "source": [
    "import pandas as pd"
   ]
  },
  {
   "cell_type": "markdown",
   "metadata": {},
   "source": [
    "Let's load in and look at the table of ESG portfolios.  Note that to view dataframes, you should use display() instead of print().  We can use .head() to show only the first few rows of the table."
   ]
  },
  {
   "cell_type": "code",
   "execution_count": 31,
   "metadata": {},
   "outputs": [
    {
     "data": {
      "text/html": [
       "<div>\n",
       "<style scoped>\n",
       "    .dataframe tbody tr th:only-of-type {\n",
       "        vertical-align: middle;\n",
       "    }\n",
       "\n",
       "    .dataframe tbody tr th {\n",
       "        vertical-align: top;\n",
       "    }\n",
       "\n",
       "    .dataframe thead th {\n",
       "        text-align: right;\n",
       "    }\n",
       "</style>\n",
       "<table border=\"1\" class=\"dataframe\">\n",
       "  <thead>\n",
       "    <tr style=\"text-align: right;\">\n",
       "      <th></th>\n",
       "      <th>Group</th>\n",
       "      <th>UNIT NAME</th>\n",
       "      <th>Capacity_MW</th>\n",
       "      <th>Var_Cost_USDperMWH</th>\n",
       "      <th>Carbon_tonsperMWH</th>\n",
       "      <th>FixedCst_OandM_perDay</th>\n",
       "    </tr>\n",
       "  </thead>\n",
       "  <tbody>\n",
       "    <tr>\n",
       "      <th>0</th>\n",
       "      <td>Big Coal</td>\n",
       "      <td>FOUR CORNERS</td>\n",
       "      <td>1900</td>\n",
       "      <td>36.50</td>\n",
       "      <td>1.10</td>\n",
       "      <td>8000</td>\n",
       "    </tr>\n",
       "    <tr>\n",
       "      <th>1</th>\n",
       "      <td>Big Coal</td>\n",
       "      <td>ALAMITOS 7</td>\n",
       "      <td>250</td>\n",
       "      <td>73.72</td>\n",
       "      <td>0.85</td>\n",
       "      <td>0</td>\n",
       "    </tr>\n",
       "    <tr>\n",
       "      <th>2</th>\n",
       "      <td>Big Coal</td>\n",
       "      <td>HUNTINGTON BEACH 1&amp;2</td>\n",
       "      <td>300</td>\n",
       "      <td>40.50</td>\n",
       "      <td>0.46</td>\n",
       "      <td>2000</td>\n",
       "    </tr>\n",
       "    <tr>\n",
       "      <th>3</th>\n",
       "      <td>Big Coal</td>\n",
       "      <td>HUNTINGTON BEACH 5</td>\n",
       "      <td>150</td>\n",
       "      <td>66.50</td>\n",
       "      <td>0.77</td>\n",
       "      <td>2000</td>\n",
       "    </tr>\n",
       "    <tr>\n",
       "      <th>4</th>\n",
       "      <td>Big Coal</td>\n",
       "      <td>REDONDO 5&amp;6</td>\n",
       "      <td>350</td>\n",
       "      <td>41.94</td>\n",
       "      <td>0.48</td>\n",
       "      <td>3000</td>\n",
       "    </tr>\n",
       "  </tbody>\n",
       "</table>\n",
       "</div>"
      ],
      "text/plain": [
       "      Group             UNIT NAME  Capacity_MW  Var_Cost_USDperMWH  \\\n",
       "0  Big Coal          FOUR CORNERS         1900               36.50   \n",
       "1  Big Coal            ALAMITOS 7          250               73.72   \n",
       "2  Big Coal  HUNTINGTON BEACH 1&2          300               40.50   \n",
       "3  Big Coal    HUNTINGTON BEACH 5          150               66.50   \n",
       "4  Big Coal           REDONDO 5&6          350               41.94   \n",
       "\n",
       "   Carbon_tonsperMWH  FixedCst_OandM_perDay  \n",
       "0               1.10                   8000  \n",
       "1               0.85                      0  \n",
       "2               0.46                   2000  \n",
       "3               0.77                   2000  \n",
       "4               0.48                   3000  "
      ]
     },
     "metadata": {},
     "output_type": "display_data"
    }
   ],
   "source": [
    "ESG = pd.read_csv('ESGPortfolios.csv')\n",
    "display(ESG.head())"
   ]
  },
  {
   "cell_type": "markdown",
   "metadata": {},
   "source": [
    "We can call a column in our dataset by indexing with brackets, [], and typing the column name into the brackets.\n",
    "\n",
    "**Note:** it will return an array of values"
   ]
  },
  {
   "cell_type": "code",
   "execution_count": 32,
   "metadata": {},
   "outputs": [
    {
     "data": {
      "text/plain": [
       "0    1900\n",
       "1     250\n",
       "2     300\n",
       "3     150\n",
       "4     350\n",
       "Name: Capacity_MW, dtype: int64"
      ]
     },
     "execution_count": 32,
     "metadata": {},
     "output_type": "execute_result"
    }
   ],
   "source": [
    "ESG['Capacity_MW'].head()"
   ]
  },
  {
   "cell_type": "markdown",
   "metadata": {},
   "source": [
    "Let's find all the rows for the East Bay portfolio.  We do this by selecting the indices of ESG where ESG['Group'] == 'East Bay'."
   ]
  },
  {
   "cell_type": "code",
   "execution_count": 33,
   "metadata": {
    "scrolled": true
   },
   "outputs": [
    {
     "data": {
      "text/html": [
       "<div>\n",
       "<style scoped>\n",
       "    .dataframe tbody tr th:only-of-type {\n",
       "        vertical-align: middle;\n",
       "    }\n",
       "\n",
       "    .dataframe tbody tr th {\n",
       "        vertical-align: top;\n",
       "    }\n",
       "\n",
       "    .dataframe thead th {\n",
       "        text-align: right;\n",
       "    }\n",
       "</style>\n",
       "<table border=\"1\" class=\"dataframe\">\n",
       "  <thead>\n",
       "    <tr style=\"text-align: right;\">\n",
       "      <th></th>\n",
       "      <th>Group</th>\n",
       "      <th>UNIT NAME</th>\n",
       "      <th>Capacity_MW</th>\n",
       "      <th>Var_Cost_USDperMWH</th>\n",
       "      <th>Carbon_tonsperMWH</th>\n",
       "      <th>FixedCst_OandM_perDay</th>\n",
       "    </tr>\n",
       "  </thead>\n",
       "  <tbody>\n",
       "    <tr>\n",
       "      <th>26</th>\n",
       "      <td>East Bay</td>\n",
       "      <td>PITTSBURGH 1-4</td>\n",
       "      <td>650</td>\n",
       "      <td>40.94</td>\n",
       "      <td>0.48</td>\n",
       "      <td>2500</td>\n",
       "    </tr>\n",
       "    <tr>\n",
       "      <th>27</th>\n",
       "      <td>East Bay</td>\n",
       "      <td>PITTSBURGH 5&amp;6</td>\n",
       "      <td>650</td>\n",
       "      <td>36.61</td>\n",
       "      <td>0.43</td>\n",
       "      <td>2500</td>\n",
       "    </tr>\n",
       "    <tr>\n",
       "      <th>28</th>\n",
       "      <td>East Bay</td>\n",
       "      <td>PITTSBURGH 7</td>\n",
       "      <td>700</td>\n",
       "      <td>59.72</td>\n",
       "      <td>0.70</td>\n",
       "      <td>4000</td>\n",
       "    </tr>\n",
       "    <tr>\n",
       "      <th>29</th>\n",
       "      <td>East Bay</td>\n",
       "      <td>CONTRA COSTA 4&amp;5</td>\n",
       "      <td>150</td>\n",
       "      <td>58.28</td>\n",
       "      <td>0.68</td>\n",
       "      <td>1000</td>\n",
       "    </tr>\n",
       "    <tr>\n",
       "      <th>30</th>\n",
       "      <td>East Bay</td>\n",
       "      <td>CONTRA COSTA 6&amp;7</td>\n",
       "      <td>700</td>\n",
       "      <td>39.50</td>\n",
       "      <td>0.46</td>\n",
       "      <td>6000</td>\n",
       "    </tr>\n",
       "    <tr>\n",
       "      <th>31</th>\n",
       "      <td>East Bay</td>\n",
       "      <td>POTRERO HILL</td>\n",
       "      <td>150</td>\n",
       "      <td>69.83</td>\n",
       "      <td>0.82</td>\n",
       "      <td>0</td>\n",
       "    </tr>\n",
       "  </tbody>\n",
       "</table>\n",
       "</div>"
      ],
      "text/plain": [
       "       Group         UNIT NAME  Capacity_MW  Var_Cost_USDperMWH  \\\n",
       "26  East Bay    PITTSBURGH 1-4          650               40.94   \n",
       "27  East Bay    PITTSBURGH 5&6          650               36.61   \n",
       "28  East Bay      PITTSBURGH 7          700               59.72   \n",
       "29  East Bay  CONTRA COSTA 4&5          150               58.28   \n",
       "30  East Bay  CONTRA COSTA 6&7          700               39.50   \n",
       "31  East Bay      POTRERO HILL          150               69.83   \n",
       "\n",
       "    Carbon_tonsperMWH  FixedCst_OandM_perDay  \n",
       "26               0.48                   2500  \n",
       "27               0.43                   2500  \n",
       "28               0.70                   4000  \n",
       "29               0.68                   1000  \n",
       "30               0.46                   6000  \n",
       "31               0.82                      0  "
      ]
     },
     "execution_count": 33,
     "metadata": {},
     "output_type": "execute_result"
    }
   ],
   "source": [
    "ESG[ESG['Group'] == 'East Bay']"
   ]
  },
  {
   "cell_type": "markdown",
   "metadata": {},
   "source": [
    "To do visualizations, we will need to import yet another library: pyplot from matplotlib."
   ]
  },
  {
   "cell_type": "code",
   "execution_count": 34,
   "metadata": {},
   "outputs": [],
   "source": [
    "import matplotlib.pyplot as plt"
   ]
  },
  {
   "cell_type": "markdown",
   "metadata": {},
   "source": [
    "Next, we will create a scatterplot of 'Var_Cost_USDperMWH' vs. 'Carbon_tonsperMWH'.  We use plt.scatter().  We can set the title and axis labels before displaying the plot with plt.show()."
   ]
  },
  {
   "cell_type": "code",
   "execution_count": 35,
   "metadata": {},
   "outputs": [
    {
     "data": {
      "image/png": "[encoded data removed]",
      "text/plain": [
       "<Figure size 432x288 with 1 Axes>"
      ]
     },
     "metadata": {
      "needs_background": "light"
     },
     "output_type": "display_data"
    }
   ],
   "source": [
    "plt.scatter(x = ESG['Var_Cost_USDperMWH'], y = ESG['Carbon_tonsperMWH'])\n",
    "plt.title('Variable Cost vs. Emissions')\n",
    "plt.xlabel('Total Variable Cost USD per MWH')\n",
    "plt.ylabel('Carbon Tons per MWH')\n",
    "plt.show()"
   ]
  },
  {
   "cell_type": "markdown",
   "metadata": {},
   "source": [
    "Next, we will sort the dataframe.  Let's sort by the emissions rate, 'Carbon_tonsperMWH', from lowest to highest (ascending=True).  If we want the index to refer to the row number of the sorted table, we have to set the ignore_index argument equal to False."
   ]
  },
  {
   "cell_type": "code",
   "execution_count": 36,
   "metadata": {},
   "outputs": [
    {
     "data": {
      "text/html": [
       "<div>\n",
       "<style scoped>\n",
       "    .dataframe tbody tr th:only-of-type {\n",
       "        vertical-align: middle;\n",
       "    }\n",
       "\n",
       "    .dataframe tbody tr th {\n",
       "        vertical-align: top;\n",
       "    }\n",
       "\n",
       "    .dataframe thead th {\n",
       "        text-align: right;\n",
       "    }\n",
       "</style>\n",
       "<table border=\"1\" class=\"dataframe\">\n",
       "  <thead>\n",
       "    <tr style=\"text-align: right;\">\n",
       "      <th></th>\n",
       "      <th>Group</th>\n",
       "      <th>UNIT NAME</th>\n",
       "      <th>Capacity_MW</th>\n",
       "      <th>Var_Cost_USDperMWH</th>\n",
       "      <th>Carbon_tonsperMWH</th>\n",
       "      <th>FixedCst_OandM_perDay</th>\n",
       "    </tr>\n",
       "  </thead>\n",
       "  <tbody>\n",
       "    <tr>\n",
       "      <th>0</th>\n",
       "      <td>Old Timers</td>\n",
       "      <td>BIG CREEK</td>\n",
       "      <td>1000</td>\n",
       "      <td>0.00</td>\n",
       "      <td>0.00</td>\n",
       "      <td>15000</td>\n",
       "    </tr>\n",
       "    <tr>\n",
       "      <th>1</th>\n",
       "      <td>Fossil Light</td>\n",
       "      <td>HELMS</td>\n",
       "      <td>800</td>\n",
       "      <td>0.50</td>\n",
       "      <td>0.00</td>\n",
       "      <td>15000</td>\n",
       "    </tr>\n",
       "    <tr>\n",
       "      <th>2</th>\n",
       "      <td>Fossil Light</td>\n",
       "      <td>DIABLO CANYON 1</td>\n",
       "      <td>1000</td>\n",
       "      <td>11.50</td>\n",
       "      <td>0.00</td>\n",
       "      <td>20000</td>\n",
       "    </tr>\n",
       "    <tr>\n",
       "      <th>3</th>\n",
       "      <td>Bay Views</td>\n",
       "      <td>MOSS LANDING 7</td>\n",
       "      <td>750</td>\n",
       "      <td>32.56</td>\n",
       "      <td>0.37</td>\n",
       "      <td>8000</td>\n",
       "    </tr>\n",
       "    <tr>\n",
       "      <th>4</th>\n",
       "      <td>Bay Views</td>\n",
       "      <td>MOSS LANDING 6</td>\n",
       "      <td>750</td>\n",
       "      <td>32.56</td>\n",
       "      <td>0.37</td>\n",
       "      <td>8000</td>\n",
       "    </tr>\n",
       "  </tbody>\n",
       "</table>\n",
       "</div>"
      ],
      "text/plain": [
       "          Group        UNIT NAME  Capacity_MW  Var_Cost_USDperMWH  \\\n",
       "0    Old Timers        BIG CREEK         1000                0.00   \n",
       "1  Fossil Light            HELMS          800                0.50   \n",
       "2  Fossil Light  DIABLO CANYON 1         1000               11.50   \n",
       "3     Bay Views   MOSS LANDING 7          750               32.56   \n",
       "4     Bay Views   MOSS LANDING 6          750               32.56   \n",
       "\n",
       "   Carbon_tonsperMWH  FixedCst_OandM_perDay  \n",
       "0               0.00                  15000  \n",
       "1               0.00                  15000  \n",
       "2               0.00                  20000  \n",
       "3               0.37                   8000  \n",
       "4               0.37                   8000  "
      ]
     },
     "metadata": {},
     "output_type": "display_data"
    }
   ],
   "source": [
    "ESG = ESG.sort_values('Var_Cost_USDperMWH', ascending=True, ignore_index=True)\n",
    "display(ESG.head())"
   ]
  },
  {
   "cell_type": "markdown",
   "metadata": {},
   "source": [
    "We can add a new column to a dataframe.  Let's define a new column, 'Total_Carbon_Emissions', which will be equal to the 'Capacity_MW' column times the 'Carbon_tonsperMWH' column.  To do this, simply index the dataframe on the new column, and assign to it the appropriate values; here, the product of two other columns."
   ]
  },
  {
   "cell_type": "code",
   "execution_count": 37,
   "metadata": {},
   "outputs": [
    {
     "data": {
      "text/html": [
       "<div>\n",
       "<style scoped>\n",
       "    .dataframe tbody tr th:only-of-type {\n",
       "        vertical-align: middle;\n",
       "    }\n",
       "\n",
       "    .dataframe tbody tr th {\n",
       "        vertical-align: top;\n",
       "    }\n",
       "\n",
       "    .dataframe thead th {\n",
       "        text-align: right;\n",
       "    }\n",
       "</style>\n",
       "<table border=\"1\" class=\"dataframe\">\n",
       "  <thead>\n",
       "    <tr style=\"text-align: right;\">\n",
       "      <th></th>\n",
       "      <th>Group</th>\n",
       "      <th>UNIT NAME</th>\n",
       "      <th>Capacity_MW</th>\n",
       "      <th>Var_Cost_USDperMWH</th>\n",
       "      <th>Carbon_tonsperMWH</th>\n",
       "      <th>FixedCst_OandM_perDay</th>\n",
       "      <th>Total_Carbon_Emissions</th>\n",
       "    </tr>\n",
       "  </thead>\n",
       "  <tbody>\n",
       "    <tr>\n",
       "      <th>0</th>\n",
       "      <td>Old Timers</td>\n",
       "      <td>BIG CREEK</td>\n",
       "      <td>1000</td>\n",
       "      <td>0.00</td>\n",
       "      <td>0.00</td>\n",
       "      <td>15000</td>\n",
       "      <td>0.0</td>\n",
       "    </tr>\n",
       "    <tr>\n",
       "      <th>1</th>\n",
       "      <td>Fossil Light</td>\n",
       "      <td>HELMS</td>\n",
       "      <td>800</td>\n",
       "      <td>0.50</td>\n",
       "      <td>0.00</td>\n",
       "      <td>15000</td>\n",
       "      <td>0.0</td>\n",
       "    </tr>\n",
       "    <tr>\n",
       "      <th>2</th>\n",
       "      <td>Fossil Light</td>\n",
       "      <td>DIABLO CANYON 1</td>\n",
       "      <td>1000</td>\n",
       "      <td>11.50</td>\n",
       "      <td>0.00</td>\n",
       "      <td>20000</td>\n",
       "      <td>0.0</td>\n",
       "    </tr>\n",
       "    <tr>\n",
       "      <th>3</th>\n",
       "      <td>Bay Views</td>\n",
       "      <td>MOSS LANDING 7</td>\n",
       "      <td>750</td>\n",
       "      <td>32.56</td>\n",
       "      <td>0.37</td>\n",
       "      <td>8000</td>\n",
       "      <td>277.5</td>\n",
       "    </tr>\n",
       "    <tr>\n",
       "      <th>4</th>\n",
       "      <td>Bay Views</td>\n",
       "      <td>MOSS LANDING 6</td>\n",
       "      <td>750</td>\n",
       "      <td>32.56</td>\n",
       "      <td>0.37</td>\n",
       "      <td>8000</td>\n",
       "      <td>277.5</td>\n",
       "    </tr>\n",
       "  </tbody>\n",
       "</table>\n",
       "</div>"
      ],
      "text/plain": [
       "          Group        UNIT NAME  Capacity_MW  Var_Cost_USDperMWH  \\\n",
       "0    Old Timers        BIG CREEK         1000                0.00   \n",
       "1  Fossil Light            HELMS          800                0.50   \n",
       "2  Fossil Light  DIABLO CANYON 1         1000               11.50   \n",
       "3     Bay Views   MOSS LANDING 7          750               32.56   \n",
       "4     Bay Views   MOSS LANDING 6          750               32.56   \n",
       "\n",
       "   Carbon_tonsperMWH  FixedCst_OandM_perDay  Total_Carbon_Emissions  \n",
       "0               0.00                  15000                     0.0  \n",
       "1               0.00                  15000                     0.0  \n",
       "2               0.00                  20000                     0.0  \n",
       "3               0.37                   8000                   277.5  \n",
       "4               0.37                   8000                   277.5  "
      ]
     },
     "metadata": {},
     "output_type": "display_data"
    }
   ],
   "source": [
    "import numpy as np\n",
    "\n",
    "ESG['Total_Carbon_Emissions'] = ESG['Capacity_MW'] * ESG['Carbon_tonsperMWH']\n",
    "display(ESG.head())"
   ]
  },
  {
   "cell_type": "markdown",
   "metadata": {},
   "source": [
    "Suppose we want to pull out a specific value from the table.  Let's say, the Capacity_MW at the HELMS powerplant.  We need to use a .loc[] statement to index on both rows and columns.  The format is .loc[rows, columns].  For rows, we would use a conditional: we want the row where the 'UNIT NAME' column is equal to 'HELMS'.  For the columns, we can just put the name of the column we're interested in, 'Capacity_MW'."
   ]
  },
  {
   "cell_type": "code",
   "execution_count": 38,
   "metadata": {},
   "outputs": [
    {
     "name": "stdout",
     "output_type": "stream",
     "text": [
      "1    800\n",
      "Name: Capacity_MW, dtype: int64\n"
     ]
    }
   ],
   "source": [
    "helms_capacity = ESG.loc[ESG['UNIT NAME'] == 'HELMS', 'Capacity_MW']\n",
    "print(helms_capacity)"
   ]
  },
  {
   "cell_type": "markdown",
   "metadata": {},
   "source": [
    "The above format is a bit odd.  If we just want the value, 800, add .values[0] to the end of the statement."
   ]
  },
  {
   "cell_type": "code",
   "execution_count": 39,
   "metadata": {},
   "outputs": [
    {
     "name": "stdout",
     "output_type": "stream",
     "text": [
      "800\n"
     ]
    }
   ],
   "source": [
    "helms_capacity = ESG.loc[ESG['UNIT NAME'] == 'HELMS', 'Capacity_MW'].values[0]\n",
    "print(helms_capacity)"
   ]
  },
  {
   "cell_type": "markdown",
   "metadata": {},
   "source": [
    "Now, we will combine a few of the previous steps to do something a bit more complicated.  Suppose we want to view all of the high emissions plants.  Let's define high emissions plants as those whose Carbon_tonsperMWH is greater than or equal to 0.8.  Let's find these plants using .loc[].  Note that since we aren't selecting specific columns, we can just use the syntax .loc[rows], replacing rows with the appropriate conditional. "
   ]
  },
  {
   "cell_type": "code",
   "execution_count": 40,
   "metadata": {},
   "outputs": [
    {
     "data": {
      "text/html": [
       "<div>\n",
       "<style scoped>\n",
       "    .dataframe tbody tr th:only-of-type {\n",
       "        vertical-align: middle;\n",
       "    }\n",
       "\n",
       "    .dataframe tbody tr th {\n",
       "        vertical-align: top;\n",
       "    }\n",
       "\n",
       "    .dataframe thead th {\n",
       "        text-align: right;\n",
       "    }\n",
       "</style>\n",
       "<table border=\"1\" class=\"dataframe\">\n",
       "  <thead>\n",
       "    <tr style=\"text-align: right;\">\n",
       "      <th></th>\n",
       "      <th>Group</th>\n",
       "      <th>UNIT NAME</th>\n",
       "      <th>Capacity_MW</th>\n",
       "      <th>Var_Cost_USDperMWH</th>\n",
       "      <th>Carbon_tonsperMWH</th>\n",
       "      <th>FixedCst_OandM_perDay</th>\n",
       "      <th>Total_Carbon_Emissions</th>\n",
       "    </tr>\n",
       "  </thead>\n",
       "  <tbody>\n",
       "    <tr>\n",
       "      <th>5</th>\n",
       "      <td>Old Timers</td>\n",
       "      <td>MOHAVE 2</td>\n",
       "      <td>750</td>\n",
       "      <td>34.50</td>\n",
       "      <td>0.94</td>\n",
       "      <td>15000</td>\n",
       "      <td>705.0</td>\n",
       "    </tr>\n",
       "    <tr>\n",
       "      <th>6</th>\n",
       "      <td>Old Timers</td>\n",
       "      <td>MOHAVE 1</td>\n",
       "      <td>750</td>\n",
       "      <td>34.50</td>\n",
       "      <td>0.94</td>\n",
       "      <td>15000</td>\n",
       "      <td>705.0</td>\n",
       "    </tr>\n",
       "    <tr>\n",
       "      <th>7</th>\n",
       "      <td>Big Coal</td>\n",
       "      <td>FOUR CORNERS</td>\n",
       "      <td>1900</td>\n",
       "      <td>36.50</td>\n",
       "      <td>1.10</td>\n",
       "      <td>8000</td>\n",
       "      <td>2090.0</td>\n",
       "    </tr>\n",
       "    <tr>\n",
       "      <th>37</th>\n",
       "      <td>East Bay</td>\n",
       "      <td>POTRERO HILL</td>\n",
       "      <td>150</td>\n",
       "      <td>69.83</td>\n",
       "      <td>0.82</td>\n",
       "      <td>0</td>\n",
       "      <td>123.0</td>\n",
       "    </tr>\n",
       "    <tr>\n",
       "      <th>38</th>\n",
       "      <td>Big Coal</td>\n",
       "      <td>ALAMITOS 7</td>\n",
       "      <td>250</td>\n",
       "      <td>73.72</td>\n",
       "      <td>0.85</td>\n",
       "      <td>0</td>\n",
       "      <td>212.5</td>\n",
       "    </tr>\n",
       "    <tr>\n",
       "      <th>39</th>\n",
       "      <td>Beachfront</td>\n",
       "      <td>ELLWOOD</td>\n",
       "      <td>300</td>\n",
       "      <td>75.61</td>\n",
       "      <td>0.89</td>\n",
       "      <td>0</td>\n",
       "      <td>267.0</td>\n",
       "    </tr>\n",
       "    <tr>\n",
       "      <th>40</th>\n",
       "      <td>Fossil Light</td>\n",
       "      <td>HUNTERS POINT 4</td>\n",
       "      <td>250</td>\n",
       "      <td>75.89</td>\n",
       "      <td>0.88</td>\n",
       "      <td>1000</td>\n",
       "      <td>220.0</td>\n",
       "    </tr>\n",
       "    <tr>\n",
       "      <th>41</th>\n",
       "      <td>Big Gas</td>\n",
       "      <td>KEARNY</td>\n",
       "      <td>200</td>\n",
       "      <td>90.06</td>\n",
       "      <td>1.06</td>\n",
       "      <td>0</td>\n",
       "      <td>212.0</td>\n",
       "    </tr>\n",
       "  </tbody>\n",
       "</table>\n",
       "</div>"
      ],
      "text/plain": [
       "           Group        UNIT NAME  Capacity_MW  Var_Cost_USDperMWH  \\\n",
       "5     Old Timers         MOHAVE 2          750               34.50   \n",
       "6     Old Timers         MOHAVE 1          750               34.50   \n",
       "7       Big Coal     FOUR CORNERS         1900               36.50   \n",
       "37      East Bay     POTRERO HILL          150               69.83   \n",
       "38      Big Coal       ALAMITOS 7          250               73.72   \n",
       "39    Beachfront          ELLWOOD          300               75.61   \n",
       "40  Fossil Light  HUNTERS POINT 4          250               75.89   \n",
       "41       Big Gas           KEARNY          200               90.06   \n",
       "\n",
       "    Carbon_tonsperMWH  FixedCst_OandM_perDay  Total_Carbon_Emissions  \n",
       "5                0.94                  15000                   705.0  \n",
       "6                0.94                  15000                   705.0  \n",
       "7                1.10                   8000                  2090.0  \n",
       "37               0.82                      0                   123.0  \n",
       "38               0.85                      0                   212.5  \n",
       "39               0.89                      0                   267.0  \n",
       "40               0.88                   1000                   220.0  \n",
       "41               1.06                      0                   212.0  "
      ]
     },
     "metadata": {},
     "output_type": "display_data"
    }
   ],
   "source": [
    "display(ESG.loc[ESG['Carbon_tonsperMWH']>=.8])"
   ]
  },
  {
   "cell_type": "markdown",
   "metadata": {},
   "source": [
    "Suppose now that we want to only look at the Big Coal plants which have an emissions rate greater than or equal to 0.8.  We now have two conditions.  We can combine both conditions with &, making sure to wrap each condition in parentheses, as such:\n",
    "\n",
    "(condition 1) & (condition 2)"
   ]
  },
  {
   "cell_type": "code",
   "execution_count": 41,
   "metadata": {
    "scrolled": true
   },
   "outputs": [
    {
     "data": {
      "text/html": [
       "<div>\n",
       "<style scoped>\n",
       "    .dataframe tbody tr th:only-of-type {\n",
       "        vertical-align: middle;\n",
       "    }\n",
       "\n",
       "    .dataframe tbody tr th {\n",
       "        vertical-align: top;\n",
       "    }\n",
       "\n",
       "    .dataframe thead th {\n",
       "        text-align: right;\n",
       "    }\n",
       "</style>\n",
       "<table border=\"1\" class=\"dataframe\">\n",
       "  <thead>\n",
       "    <tr style=\"text-align: right;\">\n",
       "      <th></th>\n",
       "      <th>Group</th>\n",
       "      <th>UNIT NAME</th>\n",
       "      <th>Capacity_MW</th>\n",
       "      <th>Var_Cost_USDperMWH</th>\n",
       "      <th>Carbon_tonsperMWH</th>\n",
       "      <th>FixedCst_OandM_perDay</th>\n",
       "      <th>Total_Carbon_Emissions</th>\n",
       "    </tr>\n",
       "  </thead>\n",
       "  <tbody>\n",
       "    <tr>\n",
       "      <th>7</th>\n",
       "      <td>Big Coal</td>\n",
       "      <td>FOUR CORNERS</td>\n",
       "      <td>1900</td>\n",
       "      <td>36.50</td>\n",
       "      <td>1.10</td>\n",
       "      <td>8000</td>\n",
       "      <td>2090.0</td>\n",
       "    </tr>\n",
       "    <tr>\n",
       "      <th>38</th>\n",
       "      <td>Big Coal</td>\n",
       "      <td>ALAMITOS 7</td>\n",
       "      <td>250</td>\n",
       "      <td>73.72</td>\n",
       "      <td>0.85</td>\n",
       "      <td>0</td>\n",
       "      <td>212.5</td>\n",
       "    </tr>\n",
       "  </tbody>\n",
       "</table>\n",
       "</div>"
      ],
      "text/plain": [
       "       Group     UNIT NAME  Capacity_MW  Var_Cost_USDperMWH  \\\n",
       "7   Big Coal  FOUR CORNERS         1900               36.50   \n",
       "38  Big Coal    ALAMITOS 7          250               73.72   \n",
       "\n",
       "    Carbon_tonsperMWH  FixedCst_OandM_perDay  Total_Carbon_Emissions  \n",
       "7                1.10                   8000                  2090.0  \n",
       "38               0.85                      0                   212.5  "
      ]
     },
     "metadata": {},
     "output_type": "display_data"
    }
   ],
   "source": [
    "display(ESG.loc[(ESG['Carbon_tonsperMWH']>=.8) & (ESG['Group']=='Big Coal')])"
   ]
  },
  {
   "cell_type": "markdown",
   "metadata": {},
   "source": [
    "In the previous cell, our two conditionals make the .loc[] statement quite long.  We can save our conditions as a variable, which we will then use to index the rows."
   ]
  },
  {
   "cell_type": "code",
   "execution_count": 42,
   "metadata": {},
   "outputs": [
    {
     "data": {
      "text/html": [
       "<div>\n",
       "<style scoped>\n",
       "    .dataframe tbody tr th:only-of-type {\n",
       "        vertical-align: middle;\n",
       "    }\n",
       "\n",
       "    .dataframe tbody tr th {\n",
       "        vertical-align: top;\n",
       "    }\n",
       "\n",
       "    .dataframe thead th {\n",
       "        text-align: right;\n",
       "    }\n",
       "</style>\n",
       "<table border=\"1\" class=\"dataframe\">\n",
       "  <thead>\n",
       "    <tr style=\"text-align: right;\">\n",
       "      <th></th>\n",
       "      <th>Group</th>\n",
       "      <th>UNIT NAME</th>\n",
       "      <th>Capacity_MW</th>\n",
       "      <th>Var_Cost_USDperMWH</th>\n",
       "      <th>Carbon_tonsperMWH</th>\n",
       "      <th>FixedCst_OandM_perDay</th>\n",
       "      <th>Total_Carbon_Emissions</th>\n",
       "    </tr>\n",
       "  </thead>\n",
       "  <tbody>\n",
       "    <tr>\n",
       "      <th>7</th>\n",
       "      <td>Big Coal</td>\n",
       "      <td>FOUR CORNERS</td>\n",
       "      <td>1900</td>\n",
       "      <td>36.50</td>\n",
       "      <td>1.10</td>\n",
       "      <td>8000</td>\n",
       "      <td>2090.0</td>\n",
       "    </tr>\n",
       "    <tr>\n",
       "      <th>38</th>\n",
       "      <td>Big Coal</td>\n",
       "      <td>ALAMITOS 7</td>\n",
       "      <td>250</td>\n",
       "      <td>73.72</td>\n",
       "      <td>0.85</td>\n",
       "      <td>0</td>\n",
       "      <td>212.5</td>\n",
       "    </tr>\n",
       "  </tbody>\n",
       "</table>\n",
       "</div>"
      ],
      "text/plain": [
       "       Group     UNIT NAME  Capacity_MW  Var_Cost_USDperMWH  \\\n",
       "7   Big Coal  FOUR CORNERS         1900               36.50   \n",
       "38  Big Coal    ALAMITOS 7          250               73.72   \n",
       "\n",
       "    Carbon_tonsperMWH  FixedCst_OandM_perDay  Total_Carbon_Emissions  \n",
       "7                1.10                   8000                  2090.0  \n",
       "38               0.85                      0                   212.5  "
      ]
     },
     "metadata": {},
     "output_type": "display_data"
    }
   ],
   "source": [
    "row_conditions = (ESG['Carbon_tonsperMWH']>=.8) & (ESG['Group']=='Big Coal')\n",
    "display(ESG.loc[row_conditions])"
   ]
  },
  {
   "cell_type": "markdown",
   "metadata": {},
   "source": [
    "Finally, we want to know how much of Big Coal's capacity has an emissions rate >= 0.8.  That is, we want to sum the values of the Capacity_MW column of the previous dataframe.  Now, we can add the column back into .loc[] and use the method .sum() at the end."
   ]
  },
  {
   "cell_type": "code",
   "execution_count": 43,
   "metadata": {},
   "outputs": [
    {
     "name": "stdout",
     "output_type": "stream",
     "text": [
      "2150\n"
     ]
    }
   ],
   "source": [
    "print(ESG.loc[row_conditions, 'Capacity_MW'].sum())"
   ]
  },
  {
   "cell_type": "markdown",
   "metadata": {},
   "source": [
    "### 6. Extra tips"
   ]
  },
  {
   "cell_type": "markdown",
   "metadata": {},
   "source": [
    "To add a new code cell, simply click the '+' sign. To add a new markdown (text) cell, click the '+' sign, and then switch the dropdown menu from 'Code' to 'Markdown'."
   ]
  },
  {
   "cell_type": "markdown",
   "metadata": {},
   "source": [
    "To get help about a function, you can use the help function (or google it!)"
   ]
  },
  {
   "cell_type": "code",
   "execution_count": 44,
   "metadata": {},
   "outputs": [
    {
     "name": "stdout",
     "output_type": "stream",
     "text": [
      "Help on function scatter in module matplotlib.pyplot:\n",
      "\n",
      "scatter(x, y, s=None, c=None, marker=None, cmap=None, norm=None, vmin=None, vmax=None, alpha=None, linewidths=None, verts=<deprecated parameter>, edgecolors=None, *, plotnonfinite=False, data=None, **kwargs)\n",
      "    A scatter plot of *y* vs. *x* with varying marker size and/or color.\n",
      "    \n",
      "    Parameters\n",
      "    ----------\n",
      "    x, y : float or array-like, shape (n, )\n",
      "        The data positions.\n",
      "    \n",
      "    s : float or array-like, shape (n, ), optional\n",
      "        The marker size in points**2.\n",
      "        Default is ``rcParams['lines.markersize'] ** 2``.\n",
      "    \n",
      "    c : array-like or list of colors or color, optional\n",
      "        The marker colors. Possible values:\n",
      "    \n",
      "        - A scalar or sequence of n numbers to be mapped to colors using\n",
      "          *cmap* and *norm*.\n",
      "        - A 2-D array in which the rows are RGB or RGBA.\n",
      "        - A sequence of colors of length n.\n",
      "        - A single color format string.\n",
      "    \n",
      "        Note that *c* should not be a single numeric RGB or RGBA sequence\n",
      "        because that is indistinguishable from an array of values to be\n",
      "        colormapped. If you want to specify the same RGB or RGBA value for\n",
      "        all points, use a 2-D array with a single row.  Otherwise, value-\n",
      "        matching will have precedence in case of a size matching with *x*\n",
      "        and *y*.\n",
      "    \n",
      "        If you wish to specify a single color for all points\n",
      "        prefer the *color* keyword argument.\n",
      "    \n",
      "        Defaults to `None`. In that case the marker color is determined\n",
      "        by the value of *color*, *facecolor* or *facecolors*. In case\n",
      "        those are not specified or `None`, the marker color is determined\n",
      "        by the next color of the ``Axes``' current \"shape and fill\" color\n",
      "        cycle. This cycle defaults to :rc:`axes.prop_cycle`.\n",
      "    \n",
      "    marker : `~.markers.MarkerStyle`, default: :rc:`scatter.marker`\n",
      "        The marker style. *marker* can be either an instance of the class\n",
      "        or the text shorthand for a particular marker.\n",
      "        See :mod:`matplotlib.markers` for more information about marker\n",
      "        styles.\n",
      "    \n",
      "    cmap : str or `~matplotlib.colors.Colormap`, default: :rc:`image.cmap`\n",
      "        A `.Colormap` instance or registered colormap name. *cmap* is only\n",
      "        used if *c* is an array of floats.\n",
      "    \n",
      "    norm : `~matplotlib.colors.Normalize`, default: None\n",
      "        If *c* is an array of floats, *norm* is used to scale the color\n",
      "        data, *c*, in the range 0 to 1, in order to map into the colormap\n",
      "        *cmap*.\n",
      "        If *None*, use the default `.colors.Normalize`.\n",
      "    \n",
      "    vmin, vmax : float, default: None\n",
      "        *vmin* and *vmax* are used in conjunction with the default norm to\n",
      "        map the color array *c* to the colormap *cmap*. If None, the\n",
      "        respective min and max of the color array is used.\n",
      "        It is deprecated to use *vmin*/*vmax* when *norm* is given.\n",
      "    \n",
      "    alpha : float, default: None\n",
      "        The alpha blending value, between 0 (transparent) and 1 (opaque).\n",
      "    \n",
      "    linewidths : float or array-like, default: :rc:`lines.linewidth`\n",
      "        The linewidth of the marker edges. Note: The default *edgecolors*\n",
      "        is 'face'. You may want to change this as well.\n",
      "    \n",
      "    edgecolors : {'face', 'none', *None*} or color or sequence of color, default: :rc:`scatter.edgecolors`\n",
      "        The edge color of the marker. Possible values:\n",
      "    \n",
      "        - 'face': The edge color will always be the same as the face color.\n",
      "        - 'none': No patch boundary will be drawn.\n",
      "        - A color or sequence of colors.\n",
      "    \n",
      "        For non-filled markers, the *edgecolors* kwarg is ignored and\n",
      "        forced to 'face' internally.\n",
      "    \n",
      "    plotnonfinite : bool, default: False\n",
      "        Set to plot points with nonfinite *c*, in conjunction with\n",
      "        `~matplotlib.colors.Colormap.set_bad`.\n",
      "    \n",
      "    Returns\n",
      "    -------\n",
      "    `~matplotlib.collections.PathCollection`\n",
      "    \n",
      "    Other Parameters\n",
      "    ----------------\n",
      "    **kwargs : `~matplotlib.collections.Collection` properties\n",
      "    \n",
      "    See Also\n",
      "    --------\n",
      "    plot : To plot scatter plots when markers are identical in size and\n",
      "        color.\n",
      "    \n",
      "    Notes\n",
      "    -----\n",
      "    * The `.plot` function will be faster for scatterplots where markers\n",
      "      don't vary in size or color.\n",
      "    \n",
      "    * Any or all of *x*, *y*, *s*, and *c* may be masked arrays, in which\n",
      "      case all masks will be combined and only unmasked points will be\n",
      "      plotted.\n",
      "    \n",
      "    * Fundamentally, scatter works with 1-D arrays; *x*, *y*, *s*, and *c*\n",
      "      may be input as N-D arrays, but within scatter they will be\n",
      "      flattened. The exception is *c*, which will be flattened only if its\n",
      "      size matches the size of *x* and *y*.\n",
      "    \n",
      "    .. note::\n",
      "        In addition to the above described arguments, this function can take\n",
      "        a *data* keyword argument. If such a *data* argument is given,\n",
      "        the following arguments can also be string ``s``, which is\n",
      "        interpreted as ``data[s]`` (unless this raises an exception):\n",
      "        *x*, *y*, *s*, *linewidths*, *edgecolors*, *c*, *facecolor*, *facecolors*, *color*.\n",
      "    \n",
      "        Objects passed as **data** must support item access (``data[s]``) and\n",
      "        membership test (``s in data``).\n",
      "\n"
     ]
    }
   ],
   "source": [
    "help(plt.scatter)"
   ]
  },
  {
   "cell_type": "markdown",
   "metadata": {},
   "source": [
    "If you ever want to see a list of the created items, type this:"
   ]
  },
  {
   "cell_type": "code",
   "execution_count": 45,
   "metadata": {},
   "outputs": [
    {
     "name": "stdout",
     "output_type": "stream",
     "text": [
      "ESG\t helms_capacity\t i\t my_string\t mylist\t np\t pd\t plt\t row_conditions\t \n",
      "x\t y\t \n"
     ]
    }
   ],
   "source": [
    "%who"
   ]
  }
 ],
 "metadata": {
  "history": [
   {
    "code": "3+5",
    "id": "74989ed05fec49548ebaf0029789f2d7",
    "idx": 5,
    "time": "2021-01-18T02:43:19.405Z",
    "type": "execution"
   },
   {
    "id": "74989ed05fec49548ebaf0029789f2d7",
    "time": "2021-01-18T02:43:19.498Z",
    "type": "completion"
   },
   {
    "code": "140-20",
    "id": "268dd0107af244b6863c1c1544650478",
    "idx": 6,
    "time": "2021-01-18T02:43:21.485Z",
    "type": "execution"
   },
   {
    "id": "268dd0107af244b6863c1c1544650478",
    "time": "2021-01-18T02:43:21.544Z",
    "type": "completion"
   },
   {
    "code": "40/2",
    "id": "74c1f979dcd44054a78a25de51cb0ed3",
    "idx": 7,
    "time": "2021-01-18T02:43:22.962Z",
    "type": "execution"
   },
   {
    "id": "74c1f979dcd44054a78a25de51cb0ed3",
    "time": "2021-01-18T02:43:23.021Z",
    "type": "completion"
   },
   {
    "code": "2*2",
    "id": "f8b5d31f0cd041de90fef05bd9b47fae",
    "idx": 8,
    "time": "2021-01-18T02:43:24.258Z",
    "type": "execution"
   },
   {
    "id": "f8b5d31f0cd041de90fef05bd9b47fae",
    "time": "2021-01-18T02:43:24.320Z",
    "type": "completion"
   },
   {
    "code": "2*5+1",
    "id": "d039a0e375ff498e88802fe2c36b1017",
    "idx": 10,
    "time": "2021-01-18T02:43:29.388Z",
    "type": "execution"
   },
   {
    "id": "d039a0e375ff498e88802fe2c36b1017",
    "time": "2021-01-18T02:43:29.447Z",
    "type": "completion"
   },
   {
    "code": "2*(5+1)",
    "id": "587b05f9c25644ba8192868d4bd6b941",
    "idx": 9,
    "time": "2021-01-18T02:43:43.327Z",
    "type": "execution"
   },
   {
    "id": "587b05f9c25644ba8192868d4bd6b941",
    "time": "2021-01-18T02:43:43.380Z",
    "type": "completion"
   },
   {
    "code": "3^3",
    "id": "54aef33ad76d40f7b38dd1dc1252a56d",
    "idx": 11,
    "time": "2021-01-18T02:43:48.790Z",
    "type": "execution"
   },
   {
    "id": "54aef33ad76d40f7b38dd1dc1252a56d",
    "time": "2021-01-18T02:43:48.855Z",
    "type": "completion"
   },
   {
    "code": "3**3",
    "id": "54aef33ad76d40f7b38dd1dc1252a56d",
    "idx": 11,
    "time": "2021-01-18T02:43:52.392Z",
    "type": "execution"
   },
   {
    "id": "54aef33ad76d40f7b38dd1dc1252a56d",
    "time": "2021-01-18T02:43:52.474Z",
    "type": "completion"
   },
   {
    "code": "my_number = 2",
    "id": "810a4429d13b42758d645dd7b23e5c71",
    "idx": 14,
    "time": "2021-01-18T02:45:14.403Z",
    "type": "execution"
   },
   {
    "id": "810a4429d13b42758d645dd7b23e5c71",
    "time": "2021-01-18T02:45:14.464Z",
    "type": "completion"
   },
   {
    "code": "print(my_number)",
    "id": "8050571e583041ff8dd4784199b18b34",
    "idx": 15,
    "time": "2021-01-18T02:45:15.867Z",
    "type": "execution"
   },
   {
    "id": "8050571e583041ff8dd4784199b18b34",
    "time": "2021-01-18T02:45:15.934Z",
    "type": "completion"
   },
   {
    "code": "my_number + 2",
    "id": "44106b24c6d446cb8d8cdd0764dd59bc",
    "idx": 16,
    "time": "2021-01-18T02:45:24.678Z",
    "type": "execution"
   },
   {
    "id": "44106b24c6d446cb8d8cdd0764dd59bc",
    "time": "2021-01-18T02:45:24.741Z",
    "type": "completion"
   },
   {
    "code": "my_number + 3",
    "id": "44106b24c6d446cb8d8cdd0764dd59bc",
    "idx": 16,
    "time": "2021-01-18T02:45:27.460Z",
    "type": "execution"
   },
   {
    "id": "44106b24c6d446cb8d8cdd0764dd59bc",
    "time": "2021-01-18T02:45:27.533Z",
    "type": "completion"
   },
   {
    "code": "print(my_number)",
    "id": "81d1dc0eaba84434a29c0b87bcb2363c",
    "idx": 17,
    "time": "2021-01-18T02:45:35.035Z",
    "type": "execution"
   },
   {
    "id": "81d1dc0eaba84434a29c0b87bcb2363c",
    "time": "2021-01-18T02:45:35.094Z",
    "type": "completion"
   },
   {
    "code": "my_number = 2\nmy_number + 3\nprint(my_number)",
    "id": "81d1dc0eaba84434a29c0b87bcb2363c",
    "idx": 17,
    "time": "2021-01-18T02:46:36.807Z",
    "type": "execution"
   },
   {
    "id": "81d1dc0eaba84434a29c0b87bcb2363c",
    "time": "2021-01-18T02:46:36.909Z",
    "type": "completion"
   },
   {
    "code": "my_number = 2\nmy_number = my_number + 3\nprint(my_number)",
    "id": "715d4f664fc94790939bf2ac45cdd722",
    "idx": 18,
    "time": "2021-01-18T02:46:38.861Z",
    "type": "execution"
   },
   {
    "id": "715d4f664fc94790939bf2ac45cdd722",
    "time": "2021-01-18T02:46:38.918Z",
    "type": "completion"
   },
   {
    "code": "my_number = 2\nmy_number += 3\nprint(my_number)",
    "id": "8221afcc5993403cbe7f53097aa2b816",
    "idx": 19,
    "time": "2021-01-18T02:46:40.570Z",
    "type": "execution"
   },
   {
    "id": "8221afcc5993403cbe7f53097aa2b816",
    "time": "2021-01-18T02:46:40.626Z",
    "type": "completion"
   },
   {
    "code": "x = 2\ny = 3\nx += y\nprint(x)",
    "id": "8221afcc5993403cbe7f53097aa2b816",
    "idx": 19,
    "time": "2021-01-18T02:47:43.333Z",
    "type": "execution"
   },
   {
    "id": "8221afcc5993403cbe7f53097aa2b816",
    "time": "2021-01-18T02:47:43.432Z",
    "type": "completion"
   },
   {
    "code": "x = 2\ny = 3\nx = x + y\nprint(x)\nprint(y)",
    "id": "715d4f664fc94790939bf2ac45cdd722",
    "idx": 18,
    "time": "2021-01-18T02:48:11.047Z",
    "type": "execution"
   },
   {
    "id": "715d4f664fc94790939bf2ac45cdd722",
    "time": "2021-01-18T02:48:11.125Z",
    "type": "completion"
   },
   {
    "code": "x = 2\ny = 3\nx += y\nprint(x)\nprint(y)",
    "id": "8221afcc5993403cbe7f53097aa2b816",
    "idx": 19,
    "time": "2021-01-18T02:48:12.272Z",
    "type": "execution"
   },
   {
    "id": "8221afcc5993403cbe7f53097aa2b816",
    "time": "2021-01-18T02:48:12.345Z",
    "type": "completion"
   },
   {
    "code": "x = 2\ny = 3\nx + y\nprint(x)\nprint(y)",
    "id": "81d1dc0eaba84434a29c0b87bcb2363c",
    "idx": 17,
    "time": "2021-01-18T02:48:17.354Z",
    "type": "execution"
   },
   {
    "id": "81d1dc0eaba84434a29c0b87bcb2363c",
    "time": "2021-01-18T02:48:17.428Z",
    "type": "completion"
   },
   {
    "code": "\"string 1\" + \"string 2\"",
    "id": "34966c10a53d4fc0bcf3b5893e2b3bf9",
    "idx": 26,
    "time": "2021-01-18T02:51:33.207Z",
    "type": "execution"
   },
   {
    "id": "34966c10a53d4fc0bcf3b5893e2b3bf9",
    "time": "2021-01-18T02:51:33.276Z",
    "type": "completion"
   },
   {
    "code": "my_string = 'This variable is a string'\nmy_string",
    "id": "1d32fa13c06d45478250e36bd8dd4fd0",
    "idx": 28,
    "time": "2021-01-18T02:52:30.919Z",
    "type": "execution"
   },
   {
    "id": "1d32fa13c06d45478250e36bd8dd4fd0",
    "time": "2021-01-18T02:52:30.976Z",
    "type": "completion"
   },
   {
    "code": "my_string = 'This variable is a string'\nprint(my_string)",
    "id": "1d32fa13c06d45478250e36bd8dd4fd0",
    "idx": 28,
    "time": "2021-01-18T02:52:38.449Z",
    "type": "execution"
   },
   {
    "id": "1d32fa13c06d45478250e36bd8dd4fd0",
    "time": "2021-01-18T02:52:38.540Z",
    "type": "completion"
   },
   {
    "code": "mylist = []\nmylist",
    "id": "b906f0794c344c509746c097d3ff4246",
    "idx": 31,
    "time": "2021-01-18T02:53:09.585Z",
    "type": "execution"
   },
   {
    "id": "b906f0794c344c509746c097d3ff4246",
    "time": "2021-01-18T02:53:09.638Z",
    "type": "completion"
   },
   {
    "code": "mylist = [1]\nprint(mylist)",
    "id": "ec9dc6b7b03d456a84eeffeff72da5e6",
    "idx": 32,
    "time": "2021-01-18T02:55:01.412Z",
    "type": "execution"
   },
   {
    "id": "ec9dc6b7b03d456a84eeffeff72da5e6",
    "time": "2021-01-18T02:55:01.477Z",
    "type": "completion"
   },
   {
    "code": "mylist = [1, 2]\nprint(mylist)",
    "id": "dc7e377fc487425f850b97958a7d7fd7",
    "idx": 34,
    "time": "2021-01-18T02:55:57.910Z",
    "type": "execution"
   },
   {
    "id": "dc7e377fc487425f850b97958a7d7fd7",
    "time": "2021-01-18T02:55:57.967Z",
    "type": "completion"
   },
   {
    "code": "mylist = [1, \"a string\"]\nprint(mylist)",
    "id": "17ecb4f2d45b46c99b312d6e353af544",
    "idx": 35,
    "time": "2021-01-18T02:56:09.274Z",
    "type": "execution"
   },
   {
    "id": "17ecb4f2d45b46c99b312d6e353af544",
    "time": "2021-01-18T02:56:09.349Z",
    "type": "completion"
   },
   {
    "code": "mylist = [1, 2]\nmylist.append(3)\nprint(mylist)",
    "id": "264dff55a846470c92ab671137a74af1",
    "idx": 37,
    "time": "2021-01-18T02:57:12.410Z",
    "type": "execution"
   },
   {
    "id": "264dff55a846470c92ab671137a74af1",
    "time": "2021-01-18T02:57:12.485Z",
    "type": "completion"
   },
   {
    "code": "mylist = [100, 200]\nmylist.append(300)\nprint(mylist)",
    "id": "264dff55a846470c92ab671137a74af1",
    "idx": 37,
    "time": "2021-01-18T03:01:13.439Z",
    "type": "execution"
   },
   {
    "id": "264dff55a846470c92ab671137a74af1",
    "time": "2021-01-18T03:01:13.538Z",
    "type": "completion"
   },
   {
    "code": "print(mylist[1])",
    "id": "187716d9453840b08fd20ca3b2667f8d",
    "idx": 39,
    "time": "2021-01-18T03:01:22.200Z",
    "type": "execution"
   },
   {
    "id": "187716d9453840b08fd20ca3b2667f8d",
    "time": "2021-01-18T03:01:22.256Z",
    "type": "completion"
   },
   {
    "code": "print(lst[1:3])",
    "id": "9a30d7424b294557842168b771653816",
    "idx": 42,
    "time": "2021-01-18T03:04:15.207Z",
    "type": "execution"
   },
   {
    "id": "9a30d7424b294557842168b771653816",
    "time": "2021-01-18T03:04:15.340Z",
    "type": "completion"
   },
   {
    "code": "mylist = [6,7,8,9,10]\nprint(mylist)",
    "id": "f74fc3f130d743c89fca327a7d39948b",
    "idx": 41,
    "time": "2021-01-18T03:04:25.954Z",
    "type": "execution"
   },
   {
    "id": "f74fc3f130d743c89fca327a7d39948b",
    "time": "2021-01-18T03:04:26.008Z",
    "type": "completion"
   },
   {
    "code": "print(lst[1:3])",
    "id": "9a30d7424b294557842168b771653816",
    "idx": 42,
    "time": "2021-01-18T03:04:27.200Z",
    "type": "execution"
   },
   {
    "id": "9a30d7424b294557842168b771653816",
    "time": "2021-01-18T03:04:27.298Z",
    "type": "completion"
   },
   {
    "code": "print(mylist[1:3])",
    "id": "9a30d7424b294557842168b771653816",
    "idx": 42,
    "time": "2021-01-18T03:04:32.475Z",
    "type": "execution"
   },
   {
    "id": "9a30d7424b294557842168b771653816",
    "time": "2021-01-18T03:04:32.564Z",
    "type": "completion"
   },
   {
    "code": "min(1, 3, 0, 10)",
    "id": "79bdb783d360416f873b5358c77d1227",
    "idx": 42,
    "time": "2021-01-18T03:06:46.403Z",
    "type": "execution"
   },
   {
    "id": "79bdb783d360416f873b5358c77d1227",
    "time": "2021-01-18T03:06:46.493Z",
    "type": "completion"
   },
   {
    "code": "max(15, 25, 70, 0, 100)",
    "id": "e03413fb53074e7e8b8cf73fdb735000",
    "idx": 43,
    "time": "2021-01-18T03:06:47.737Z",
    "type": "execution"
   },
   {
    "id": "e03413fb53074e7e8b8cf73fdb735000",
    "time": "2021-01-18T03:06:47.797Z",
    "type": "completion"
   },
   {
    "code": "max(15, 25, 70, 0, 100)\nmax([1, 2, 3])",
    "id": "e03413fb53074e7e8b8cf73fdb735000",
    "idx": 43,
    "time": "2021-01-18T03:07:05.200Z",
    "type": "execution"
   },
   {
    "id": "e03413fb53074e7e8b8cf73fdb735000",
    "time": "2021-01-18T03:07:05.273Z",
    "type": "completion"
   },
   {
    "code": "max(15, 25, 70, 0, 100)",
    "id": "e03413fb53074e7e8b8cf73fdb735000",
    "idx": 43,
    "time": "2021-01-18T03:07:24.474Z",
    "type": "execution"
   },
   {
    "id": "e03413fb53074e7e8b8cf73fdb735000",
    "time": "2021-01-18T03:07:24.550Z",
    "type": "completion"
   },
   {
    "code": "max(1, 3, 0, 10)",
    "id": "e03413fb53074e7e8b8cf73fdb735000",
    "idx": 43,
    "time": "2021-01-18T03:07:37.640Z",
    "type": "execution"
   },
   {
    "id": "e03413fb53074e7e8b8cf73fdb735000",
    "time": "2021-01-18T03:07:37.710Z",
    "type": "completion"
   },
   {
    "code": "x = 2\n\nif x == 3:\n    print (True)\nelse:\n    print (False)",
    "id": "cccd7989d9954a958ad01c813faed0e4",
    "idx": 49,
    "time": "2021-01-18T03:08:51.632Z",
    "type": "execution"
   },
   {
    "id": "cccd7989d9954a958ad01c813faed0e4",
    "time": "2021-01-18T03:08:51.703Z",
    "type": "completion"
   },
   {
    "code": "x = 2\n\nif x == 3:\n    print (True)",
    "id": "cccd7989d9954a958ad01c813faed0e4",
    "idx": 49,
    "time": "2021-01-18T03:09:46.818Z",
    "type": "execution"
   },
   {
    "id": "cccd7989d9954a958ad01c813faed0e4",
    "time": "2021-01-18T03:09:46.879Z",
    "type": "completion"
   },
   {
    "code": "if x == 2:\n    print (True)\nelse:\n    print (False)",
    "id": "95c3d04e06a1416fba7444e617d90077",
    "idx": 50,
    "time": "2021-01-18T03:09:48.431Z",
    "type": "execution"
   },
   {
    "id": "95c3d04e06a1416fba7444e617d90077",
    "time": "2021-01-18T03:09:48.550Z",
    "type": "completion"
   },
   {
    "code": "x = 2\n\nif x == 3:\n    print (True)\nelse:\n    print (False)",
    "id": "95c3d04e06a1416fba7444e617d90077",
    "idx": 50,
    "time": "2021-01-18T03:09:57.793Z",
    "type": "execution"
   },
   {
    "id": "95c3d04e06a1416fba7444e617d90077",
    "time": "2021-01-18T03:09:57.870Z",
    "type": "completion"
   },
   {
    "code": "x = 2\n\nif x == 2 or x == 3:\n    print (True)\nelse:\n    print (False)",
    "id": "143247cdf41641c385b740ec2e056961",
    "idx": 51,
    "time": "2021-01-18T03:11:02.717Z",
    "type": "execution"
   },
   {
    "id": "143247cdf41641c385b740ec2e056961",
    "time": "2021-01-18T03:11:02.807Z",
    "type": "completion"
   },
   {
    "code": "for elem in ['a', 'b', 'c']:   \n    print(elem)\n\nelem",
    "id": "bb12c9f79485457aa1cb3a7ac0dceacb",
    "idx": 55,
    "time": "2021-01-18T03:12:46.878Z",
    "type": "execution"
   },
   {
    "id": "bb12c9f79485457aa1cb3a7ac0dceacb",
    "time": "2021-01-18T03:12:46.981Z",
    "type": "completion"
   },
   {
    "code": "for elem in ['a', 'b', 'c']:   \n    print(elem)\n\nprint(elem)",
    "id": "bb12c9f79485457aa1cb3a7ac0dceacb",
    "idx": 55,
    "time": "2021-01-18T03:12:55.844Z",
    "type": "execution"
   },
   {
    "id": "bb12c9f79485457aa1cb3a7ac0dceacb",
    "time": "2021-01-18T03:12:55.909Z",
    "type": "completion"
   },
   {
    "code": "for elem in [3, 2, 1]:   \n    print(elem)\n\nprint(elem)",
    "id": "bb12c9f79485457aa1cb3a7ac0dceacb",
    "idx": 55,
    "time": "2021-01-18T03:13:08.345Z",
    "type": "execution"
   },
   {
    "id": "bb12c9f79485457aa1cb3a7ac0dceacb",
    "time": "2021-01-18T03:13:08.410Z",
    "type": "completion"
   },
   {
    "code": "for i in range(3):\n    print(i)",
    "id": "e550b3fc64ce4b0f879c96c0785b7d82",
    "idx": 58,
    "time": "2021-01-18T03:13:24.020Z",
    "type": "execution"
   },
   {
    "id": "e550b3fc64ce4b0f879c96c0785b7d82",
    "time": "2021-01-18T03:13:24.116Z",
    "type": "completion"
   },
   {
    "code": "for i in range(3):\n    print(i)",
    "id": "e550b3fc64ce4b0f879c96c0785b7d82",
    "idx": 58,
    "time": "2021-01-18T03:17:48.666Z",
    "type": "execution"
   },
   {
    "id": "e550b3fc64ce4b0f879c96c0785b7d82",
    "time": "2021-01-18T03:17:48.729Z",
    "type": "completion"
   },
   {
    "code": "##fill this cell in\nmylist = [100, 200, 300]\nfor i in range(len(mylist)):\n    print(mylist[i])",
    "id": "dd5f5f4478d241788e49f0454d2f0c44",
    "idx": 60,
    "time": "2021-01-18T03:17:50.609Z",
    "type": "execution"
   },
   {
    "id": "dd5f5f4478d241788e49f0454d2f0c44",
    "time": "2021-01-18T03:17:50.693Z",
    "type": "completion"
   },
   {
    "code": "##fill this cell in\nmylist = [100, 200, 300]\nfor i in range(len(mylist)):\n    print(i, mylist[i])\n    print(mylist[i])",
    "id": "dd5f5f4478d241788e49f0454d2f0c44",
    "idx": 60,
    "time": "2021-01-18T03:18:05.815Z",
    "type": "execution"
   },
   {
    "id": "dd5f5f4478d241788e49f0454d2f0c44",
    "time": "2021-01-18T03:18:05.884Z",
    "type": "completion"
   },
   {
    "code": "##fill this cell in\nmylist = [100, 200, 300]\nfor i in range(len(mylist)):\n    print(i, mylist[i])",
    "id": "dd5f5f4478d241788e49f0454d2f0c44",
    "idx": 60,
    "time": "2021-01-18T03:18:08.937Z",
    "type": "execution"
   },
   {
    "id": "dd5f5f4478d241788e49f0454d2f0c44",
    "time": "2021-01-18T03:18:08.997Z",
    "type": "completion"
   },
   {
    "code": "import pandas as pd\nimport numpy as np",
    "id": "8067c232f5c4446180e2dd3d46e783bb",
    "idx": 63,
    "time": "2021-01-18T03:19:13.852Z",
    "type": "execution"
   },
   {
    "id": "8067c232f5c4446180e2dd3d46e783bb",
    "time": "2021-01-18T03:19:14.267Z",
    "type": "completion"
   },
   {
    "code": "from datascience import *\nimport pandas as pd",
    "id": "1c7dcdba9e8d4f1eb170742c23ac2de0",
    "idx": 63,
    "time": "2021-01-18T03:23:26.809Z",
    "type": "execution"
   },
   {
    "id": "1c7dcdba9e8d4f1eb170742c23ac2de0",
    "time": "2021-01-18T03:23:30.836Z",
    "type": "completion"
   },
   {
    "code": "ESG = Table.read_table('ESGPorfolios.csv')",
    "id": "a154e883868541f683ccabc38ea960c1",
    "idx": 65,
    "time": "2021-01-18T03:25:07.971Z",
    "type": "execution"
   },
   {
    "id": "a154e883868541f683ccabc38ea960c1",
    "time": "2021-01-18T03:25:08.044Z",
    "type": "completion"
   },
   {
    "code": "ESG = Table.read_table('ESGPorfolios.csv')\ndisplay(ESG)",
    "id": "a154e883868541f683ccabc38ea960c1",
    "idx": 65,
    "time": "2021-01-18T03:25:26.531Z",
    "type": "execution"
   },
   {
    "id": "a154e883868541f683ccabc38ea960c1",
    "time": "2021-01-18T03:25:26.602Z",
    "type": "completion"
   },
   {
    "code": "ESG = Table.read_table('ESGPorfolios.csv')\nprint(ESG)",
    "id": "a154e883868541f683ccabc38ea960c1",
    "idx": 65,
    "time": "2021-01-18T03:25:31.167Z",
    "type": "execution"
   },
   {
    "id": "a154e883868541f683ccabc38ea960c1",
    "time": "2021-01-18T03:25:31.258Z",
    "type": "completion"
   },
   {
    "code": "ESG = Table.read_table('ESGPorfolios.csv')\ndisplay(ESG)",
    "id": "a154e883868541f683ccabc38ea960c1",
    "idx": 65,
    "time": "2021-01-18T03:25:34.111Z",
    "type": "execution"
   },
   {
    "id": "a154e883868541f683ccabc38ea960c1",
    "time": "2021-01-18T03:25:34.185Z",
    "type": "completion"
   },
   {
    "code": "ESG = Table.read_table('ESGPorfolios.csv')\ndisplay(ESG)",
    "id": "a154e883868541f683ccabc38ea960c1",
    "idx": 65,
    "time": "2021-01-18T03:26:25.422Z",
    "type": "execution"
   },
   {
    "id": "a154e883868541f683ccabc38ea960c1",
    "time": "2021-01-18T03:26:25.510Z",
    "type": "completion"
   },
   {
    "code": "ESG = Table.read_table('ESGPorfolios.csv')\ndisplay(ESG.head())",
    "id": "a154e883868541f683ccabc38ea960c1",
    "idx": 65,
    "time": "2021-01-18T03:26:46.297Z",
    "type": "execution"
   },
   {
    "id": "a154e883868541f683ccabc38ea960c1",
    "time": "2021-01-18T03:26:46.467Z",
    "type": "completion"
   },
   {
    "code": "ESG = Table.read_table('ESGPorfolios.csv')\ndisplay(ESG.head)",
    "id": "a154e883868541f683ccabc38ea960c1",
    "idx": 65,
    "time": "2021-01-18T03:26:51.572Z",
    "type": "execution"
   },
   {
    "id": "a154e883868541f683ccabc38ea960c1",
    "time": "2021-01-18T03:26:51.646Z",
    "type": "completion"
   },
   {
    "code": "ESG = Table.read_table('ESGPorfolios.csv')\ndisplay(ESG[:5])",
    "id": "a154e883868541f683ccabc38ea960c1",
    "idx": 65,
    "time": "2021-01-18T03:26:57.097Z",
    "type": "execution"
   },
   {
    "id": "a154e883868541f683ccabc38ea960c1",
    "time": "2021-01-18T03:26:57.232Z",
    "type": "completion"
   },
   {
    "code": "ESG = Table.read_table('ESGPorfolios.csv')\ndisplay(ESG[:5,:])",
    "id": "a154e883868541f683ccabc38ea960c1",
    "idx": 65,
    "time": "2021-01-18T03:27:01.538Z",
    "type": "execution"
   },
   {
    "id": "a154e883868541f683ccabc38ea960c1",
    "time": "2021-01-18T03:27:01.642Z",
    "type": "completion"
   },
   {
    "code": "ESG = Table.read_table('ESGPorfolios.csv')\ndisplay(ESG.iloc[:5,:])",
    "id": "a154e883868541f683ccabc38ea960c1",
    "idx": 65,
    "time": "2021-01-18T03:27:06.229Z",
    "type": "execution"
   },
   {
    "id": "a154e883868541f683ccabc38ea960c1",
    "time": "2021-01-18T03:27:06.332Z",
    "type": "completion"
   },
   {
    "code": "ESG = pd.read_csv('ESGPorfolios.csv')\ndisplay(ESG.iloc[:5,:])",
    "id": "a154e883868541f683ccabc38ea960c1",
    "idx": 65,
    "time": "2021-01-18T03:28:33.034Z",
    "type": "execution"
   },
   {
    "id": "a154e883868541f683ccabc38ea960c1",
    "time": "2021-01-18T03:28:33.170Z",
    "type": "completion"
   },
   {
    "code": "ESG = pd.read_csv('ESGPorfolios.csv')\ndisplay(ESG.head())",
    "id": "a154e883868541f683ccabc38ea960c1",
    "idx": 65,
    "time": "2021-01-18T03:28:36.724Z",
    "type": "execution"
   },
   {
    "id": "a154e883868541f683ccabc38ea960c1",
    "time": "2021-01-18T03:28:36.808Z",
    "type": "completion"
   },
   {
    "code": "ESG = pd.read_csv('ESGPorfolios.csv')\nprint(ESG.head())",
    "id": "a154e883868541f683ccabc38ea960c1",
    "idx": 65,
    "time": "2021-01-18T03:28:59.415Z",
    "type": "execution"
   },
   {
    "id": "a154e883868541f683ccabc38ea960c1",
    "time": "2021-01-18T03:28:59.520Z",
    "type": "completion"
   },
   {
    "code": "ESG = pd.read_csv('ESGPorfolios.csv')\ndisplay(ESG.head())",
    "id": "a154e883868541f683ccabc38ea960c1",
    "idx": 65,
    "time": "2021-01-18T03:29:02.064Z",
    "type": "execution"
   },
   {
    "id": "a154e883868541f683ccabc38ea960c1",
    "time": "2021-01-18T03:29:02.186Z",
    "type": "completion"
   },
   {
    "code": "broadway['Capacity_MW']",
    "id": "122943aa512943bf8712de3c7a869a78",
    "idx": 67,
    "time": "2021-01-18T03:40:41.321Z",
    "type": "execution"
   },
   {
    "id": "122943aa512943bf8712de3c7a869a78",
    "time": "2021-01-18T03:40:41.402Z",
    "type": "completion"
   },
   {
    "code": "ESG['Capacity_MW']",
    "id": "122943aa512943bf8712de3c7a869a78",
    "idx": 67,
    "time": "2021-01-18T03:40:46.035Z",
    "type": "execution"
   },
   {
    "id": "122943aa512943bf8712de3c7a869a78",
    "time": "2021-01-18T03:40:46.146Z",
    "type": "completion"
   },
   {
    "code": "ESG['Capacity_MW'].head()",
    "id": "122943aa512943bf8712de3c7a869a78",
    "idx": 67,
    "time": "2021-01-18T03:40:52.478Z",
    "type": "execution"
   },
   {
    "id": "122943aa512943bf8712de3c7a869a78",
    "time": "2021-01-18T03:40:52.537Z",
    "type": "completion"
   },
   {
    "code": "ESG[ESG['Group'] == 'East Bay']",
    "id": "0434dbd072a44dbdba7cda5f6dcff285",
    "idx": 69,
    "time": "2021-01-18T03:43:13.377Z",
    "type": "execution"
   },
   {
    "id": "0434dbd072a44dbdba7cda5f6dcff285",
    "time": "2021-01-18T03:43:13.531Z",
    "type": "completion"
   },
   {
    "code": "import matplotlib.pyplot as plt",
    "id": "10b3f8fc49844a228efd4c4724b63470",
    "idx": 71,
    "time": "2021-01-18T03:46:12.814Z",
    "type": "execution"
   },
   {
    "id": "10b3f8fc49844a228efd4c4724b63470",
    "time": "2021-01-18T03:46:12.873Z",
    "type": "completion"
   },
   {
    "code": "ESG[ESG['Group'] == 'East Bay']",
    "id": "0434dbd072a44dbdba7cda5f6dcff285",
    "idx": 69,
    "time": "2021-01-18T03:47:09.371Z",
    "type": "execution"
   },
   {
    "id": "0434dbd072a44dbdba7cda5f6dcff285",
    "time": "2021-01-18T03:47:09.445Z",
    "type": "completion"
   },
   {
    "code": "EB = ESG[ESG['Group'] == 'East Bay']\nplt.plot(EB['Total_Var_Cost_USDperMWH'], EB['Capacity_MW'])\nplt.show()",
    "id": "b1323e56cfb7484a919a83361de3227f",
    "idx": 73,
    "time": "2021-01-18T03:48:37.989Z",
    "type": "execution"
   },
   {
    "id": "b1323e56cfb7484a919a83361de3227f",
    "time": "2021-01-18T03:48:38.071Z",
    "type": "completion"
   },
   {
    "code": "EB = ESG[ESG['Group'] == 'East Bay']\nplt.plot(EB['Total_Var_Cost_USDperMWH'], EB['Capacity_MW'])\nplt.show()",
    "id": "b1323e56cfb7484a919a83361de3227f",
    "idx": 73,
    "time": "2021-01-18T03:48:41.156Z",
    "type": "execution"
   },
   {
    "id": "b1323e56cfb7484a919a83361de3227f",
    "time": "2021-01-18T03:48:41.214Z",
    "type": "completion"
   },
   {
    "code": "import matplotlib.pyplot as plt",
    "id": "10b3f8fc49844a228efd4c4724b63470",
    "idx": 71,
    "time": "2021-01-18T03:48:43.333Z",
    "type": "execution"
   },
   {
    "id": "10b3f8fc49844a228efd4c4724b63470",
    "time": "2021-01-18T03:48:43.386Z",
    "type": "completion"
   },
   {
    "code": "EB = ESG[ESG['Group'] == 'East Bay']\nplt.plot(EB['Total_Var_Cost_USDperMWH'], EB['Capacity_MW'])\nplt.show()",
    "id": "b1323e56cfb7484a919a83361de3227f",
    "idx": 73,
    "time": "2021-01-18T03:48:44.508Z",
    "type": "execution"
   },
   {
    "id": "b1323e56cfb7484a919a83361de3227f",
    "time": "2021-01-18T03:48:44.563Z",
    "type": "completion"
   },
   {
    "code": "EB = ESG[ESG['Group'] == 'East Bay']\nplt.plot(EB['Total_Var_Cost_USDperMWH'], EB['Capacity_MW'])\nplt.show()\nEB",
    "id": "b1323e56cfb7484a919a83361de3227f",
    "idx": 73,
    "time": "2021-01-18T03:49:09.668Z",
    "type": "execution"
   },
   {
    "id": "b1323e56cfb7484a919a83361de3227f",
    "time": "2021-01-18T03:49:09.750Z",
    "type": "completion"
   },
   {
    "code": "EB = ESG[ESG['Group'] == 'East Bay']\nplt.plot(EB['Total_Var_Cost_USDperMWH'], EB['Capacity_MW'])\nplt.show()",
    "id": "b1323e56cfb7484a919a83361de3227f",
    "idx": 73,
    "time": "2021-01-18T03:49:12.874Z",
    "type": "execution"
   },
   {
    "id": "b1323e56cfb7484a919a83361de3227f",
    "time": "2021-01-18T03:49:12.933Z",
    "type": "completion"
   },
   {
    "code": "import matplotlib.pyplot as plt",
    "id": "10b3f8fc49844a228efd4c4724b63470",
    "idx": 71,
    "time": "2021-01-18T03:49:14.614Z",
    "type": "execution"
   },
   {
    "id": "10b3f8fc49844a228efd4c4724b63470",
    "time": "2021-01-18T03:49:14.667Z",
    "type": "completion"
   },
   {
    "code": "EB = ESG[ESG['Group'] == 'East Bay']\nplt.bar(EB['Total_Var_Cost_USDperMWH'], EB['Capacity_MW'])\nplt.show()",
    "id": "b1323e56cfb7484a919a83361de3227f",
    "idx": 73,
    "time": "2021-01-18T03:49:31.084Z",
    "type": "execution"
   },
   {
    "id": "b1323e56cfb7484a919a83361de3227f",
    "time": "2021-01-18T03:49:31.143Z",
    "type": "completion"
   },
   {
    "code": "EB = ESG[ESG['Group'] == 'East Bay']\nplt.bar(EB['Total_Var_Cost_USDperMWH'], EB['Capacity_MW'])\nplt.show()",
    "id": "c70c8f35b8784ac598de1920420cbf8a",
    "idx": 73,
    "time": "2021-01-18T03:49:56.648Z",
    "type": "execution"
   },
   {
    "id": "c70c8f35b8784ac598de1920420cbf8a",
    "time": "2021-01-18T03:49:56.713Z",
    "type": "completion"
   },
   {
    "code": "EB = ESG[ESG['Group'] == 'East Bay']\nplt.bar(EB['Total_Var_Cost_USDperMWH'], EB['Capacity_MW'])\n#plt.show()",
    "id": "c70c8f35b8784ac598de1920420cbf8a",
    "idx": 73,
    "time": "2021-01-18T03:50:04.643Z",
    "type": "execution"
   },
   {
    "id": "c70c8f35b8784ac598de1920420cbf8a",
    "time": "2021-01-18T03:50:04.707Z",
    "type": "completion"
   },
   {
    "code": "ESG[ESG['Group'] == 'East Bay']",
    "id": "cb7a8b8fbd0c458d837ca0798e44d3fa",
    "idx": 69,
    "time": "2021-01-18T03:50:29.434Z",
    "type": "execution"
   },
   {
    "id": "cb7a8b8fbd0c458d837ca0798e44d3fa",
    "time": "2021-01-18T03:50:29.514Z",
    "type": "completion"
   },
   {
    "code": "ESG[ESG['Group'] == 'East Bay']",
    "id": "cb7a8b8fbd0c458d837ca0798e44d3fa",
    "idx": 69,
    "time": "2021-01-18T03:50:30.824Z",
    "type": "execution"
   },
   {
    "id": "cb7a8b8fbd0c458d837ca0798e44d3fa",
    "time": "2021-01-18T03:50:30.893Z",
    "type": "completion"
   },
   {
    "code": "ESG[ESG['Group'] == 'East Bay']",
    "id": "cb7a8b8fbd0c458d837ca0798e44d3fa",
    "idx": 69,
    "time": "2021-01-18T03:50:31.328Z",
    "type": "execution"
   },
   {
    "id": "cb7a8b8fbd0c458d837ca0798e44d3fa",
    "time": "2021-01-18T03:50:31.397Z",
    "type": "completion"
   },
   {
    "code": "import matplotlib.pyplot as plt",
    "id": "2c918175a84c487184e3cc8315c37376",
    "idx": 71,
    "time": "2021-01-18T03:50:33.146Z",
    "type": "execution"
   },
   {
    "id": "2c918175a84c487184e3cc8315c37376",
    "time": "2021-01-18T03:50:33.202Z",
    "type": "completion"
   },
   {
    "code": "EB = ESG[ESG['Group'] == 'East Bay']\nplt.bar(EB['Total_Var_Cost_USDperMWH'], EB['Capacity_MW'])\n#plt.show()",
    "id": "c70c8f35b8784ac598de1920420cbf8a",
    "idx": 73,
    "time": "2021-01-18T03:50:34.913Z",
    "type": "execution"
   },
   {
    "id": "c70c8f35b8784ac598de1920420cbf8a",
    "time": "2021-01-18T03:50:34.984Z",
    "type": "completion"
   },
   {
    "code": "EB = ESG[ESG['Group'] == 'East Bay']\nplt.bar(EB['Total_Var_Cost_USDperMWH'], EB['Capacity_MW'])\nplt.show()",
    "id": "c70c8f35b8784ac598de1920420cbf8a",
    "idx": 73,
    "time": "2021-01-18T03:50:37.063Z",
    "type": "execution"
   },
   {
    "id": "c70c8f35b8784ac598de1920420cbf8a",
    "time": "2021-01-18T03:50:37.126Z",
    "type": "completion"
   },
   {
    "code": "phantom = broadway[broadway['Name'] == \"The Phantom Of The Opera\"]\nplt.scatter(phantom['Year'], phantom['Gross'])\nplt.show()",
    "id": "bc5cc93652a34b1c86d57d7d8b106961",
    "idx": 75,
    "time": "2021-01-18T03:50:50.514Z",
    "type": "execution"
   },
   {
    "id": "bc5cc93652a34b1c86d57d7d8b106961",
    "time": "2021-01-18T03:50:50.599Z",
    "type": "completion"
   },
   {
    "code": "broadway = pd.read_csv('broadway.csv')\nphantom = broadway[broadway['Name'] == \"The Phantom Of The Opera\"]\nplt.scatter(phantom['Year'], phantom['Gross'])\nplt.show()",
    "id": "bc5cc93652a34b1c86d57d7d8b106961",
    "idx": 75,
    "time": "2021-01-18T03:51:05.013Z",
    "type": "execution"
   },
   {
    "id": "bc5cc93652a34b1c86d57d7d8b106961",
    "time": "2021-01-18T03:51:05.124Z",
    "type": "completion"
   },
   {
    "code": "3+5",
    "id": "cb9bacd7c10c481d83b8612f7e6de553",
    "idx": 5,
    "time": "2021-01-18T03:51:52.190Z",
    "type": "execution"
   },
   {
    "code": "140-20",
    "id": "c9c913c6d18b44c48b175468bf127eec",
    "idx": 6,
    "time": "2021-01-18T03:51:52.198Z",
    "type": "execution"
   },
   {
    "code": "40/2",
    "id": "bb58ae4fdc7f43f686728121ccb76282",
    "idx": 7,
    "time": "2021-01-18T03:51:52.205Z",
    "type": "execution"
   },
   {
    "code": "2*2",
    "id": "cf32981958c94a808ca3191b1f26e535",
    "idx": 8,
    "time": "2021-01-18T03:51:52.208Z",
    "type": "execution"
   },
   {
    "code": "2*(5+1)",
    "id": "b531d7f04a7342ba845e41b921a5d4fb",
    "idx": 9,
    "time": "2021-01-18T03:51:52.212Z",
    "type": "execution"
   },
   {
    "code": "3**3",
    "id": "c638e308ce2945c4937cef36d09b48d8",
    "idx": 11,
    "time": "2021-01-18T03:51:52.215Z",
    "type": "execution"
   },
   {
    "code": "x = 2\ny = 3",
    "id": "6048e05a168e4757859838ee004d9a3a",
    "idx": 14,
    "time": "2021-01-18T03:51:52.220Z",
    "type": "execution"
   },
   {
    "code": "print(x)\nprint(y)",
    "id": "4aadc8640a8745949931e19b9e8640c2",
    "idx": 15,
    "time": "2021-01-18T03:51:52.223Z",
    "type": "execution"
   },
   {
    "code": "x + 3",
    "id": "ac0e4dffe2d941deac7d6968ac2f4e99",
    "idx": 16,
    "time": "2021-01-18T03:51:52.226Z",
    "type": "execution"
   },
   {
    "code": "x + y\nprint(x)\nprint(y)",
    "id": "b5519966c29141d0b52e726421402b8f",
    "idx": 17,
    "time": "2021-01-18T03:51:52.230Z",
    "type": "execution"
   },
   {
    "code": "x = x + y\nprint(x)\nprint(y)",
    "id": "236bb248072a4a4a8ea7d755202cd42b",
    "idx": 18,
    "time": "2021-01-18T03:51:52.234Z",
    "type": "execution"
   },
   {
    "code": "x += y\nprint(x)\nprint(y)",
    "id": "cd4a7f5d6450453a8db0508762390bd0",
    "idx": 19,
    "time": "2021-01-18T03:51:52.237Z",
    "type": "execution"
   },
   {
    "code": "print(x)\nprint(y)",
    "id": "f6e76cbdd869419f8ae8e6babcdd2391",
    "idx": 20,
    "time": "2021-01-18T03:51:52.241Z",
    "type": "execution"
   },
   {
    "code": "print('This is a string')\nprint(\"This is also a string\")",
    "id": "db0cfce3d89a49ee93b3e0146f4c13a3",
    "idx": 24,
    "time": "2021-01-18T03:51:52.246Z",
    "type": "execution"
   },
   {
    "code": "\"string 1\" + \"string 2\"",
    "id": "7758fc9f175644bebaef21a20a3c6cbe",
    "idx": 26,
    "time": "2021-01-18T03:51:52.249Z",
    "type": "execution"
   },
   {
    "code": "my_string = 'This variable is a string'\nprint(my_string)",
    "id": "dcc114f677df4f888120c123dcd6f9ea",
    "idx": 28,
    "time": "2021-01-18T03:51:52.253Z",
    "type": "execution"
   },
   {
    "code": "mylist = []\nprint(mylist)",
    "id": "912a2573c1df4eecbb6ed4caa4a8cba9",
    "idx": 31,
    "time": "2021-01-18T03:51:52.256Z",
    "type": "execution"
   },
   {
    "code": "mylist = [100]\nprint(mylist)",
    "id": "c7b80d6b7471487994df94a82453b8b0",
    "idx": 33,
    "time": "2021-01-18T03:51:52.260Z",
    "type": "execution"
   },
   {
    "code": "mylist = [100, 200]\nprint(mylist)",
    "id": "d4f9b36b83ff48af9f56d4df975d137e",
    "idx": 34,
    "time": "2021-01-18T03:51:52.264Z",
    "type": "execution"
   },
   {
    "code": "mylist = [100, 'a string']\nprint(mylist)",
    "id": "30a3b9b338984a03baccc8dd04dc9b4d",
    "idx": 35,
    "time": "2021-01-18T03:51:52.267Z",
    "type": "execution"
   },
   {
    "code": "mylist = [100, 200]\nmylist.append(300)\nprint(mylist)",
    "id": "173212dedad24863872f872eb357aa48",
    "idx": 37,
    "time": "2021-01-18T03:51:52.272Z",
    "type": "execution"
   },
   {
    "code": "print(mylist[1])",
    "id": "076fe26456bf439e8f3e655f4e719553",
    "idx": 39,
    "time": "2021-01-18T03:51:52.276Z",
    "type": "execution"
   },
   {
    "code": "min(1, 3, 0, 10)",
    "id": "ad15bb1a609c4c12b12913c3484b1480",
    "idx": 42,
    "time": "2021-01-18T03:51:52.279Z",
    "type": "execution"
   },
   {
    "code": "max(1, 3, 0, 10)",
    "id": "79007a99d8ac46198fd461ebcdea6175",
    "idx": 43,
    "time": "2021-01-18T03:51:52.282Z",
    "type": "execution"
   },
   {
    "code": "x = 2\n\nif x == 3:\n    print (True)",
    "id": "319e0ef552c34a8997203cd796522ff7",
    "idx": 49,
    "time": "2021-01-18T03:51:52.287Z",
    "type": "execution"
   },
   {
    "code": "x = 2\n\nif x == 3:\n    print (True)\nelse:\n    print (False)",
    "id": "968a69f066324533987e8b295dbb58ea",
    "idx": 50,
    "time": "2021-01-18T03:51:52.290Z",
    "type": "execution"
   },
   {
    "code": "x = 2\n\nif (x == 2) or (x == 3):\n    print (True)\nelse:\n    print (False)",
    "id": "37be7b1c527847598deebc5fdb162408",
    "idx": 51,
    "time": "2021-01-18T03:51:52.296Z",
    "type": "execution"
   },
   {
    "code": "for i in [3, 2, 1]:   \n    print(i)\n\nprint(i)",
    "id": "931a0bb5e04846708384066c53c31615",
    "idx": 55,
    "time": "2021-01-18T03:51:52.300Z",
    "type": "execution"
   },
   {
    "code": "for i in range(3):\n    print(i)",
    "id": "447b23b6b82341f98b2085f135cf2f31",
    "idx": 58,
    "time": "2021-01-18T03:51:52.307Z",
    "type": "execution"
   },
   {
    "code": "##fill this cell in\nmylist = [100, 200, 300]\nfor i in range(len(mylist)):\n    print(i, mylist[i])",
    "id": "3bef04754f884cd0a0b96f97bea8765f",
    "idx": 60,
    "time": "2021-01-18T03:51:52.310Z",
    "type": "execution"
   },
   {
    "code": "import pandas as pd",
    "id": "fe9bb99fd8e34f1993a05c0302e737bf",
    "idx": 63,
    "time": "2021-01-18T03:51:52.315Z",
    "type": "execution"
   },
   {
    "code": "ESG = pd.read_csv('ESGPorfolios.csv')\ndisplay(ESG.head())",
    "id": "71e007534b6b4dd7be58a90230f88ebf",
    "idx": 65,
    "time": "2021-01-18T03:51:52.321Z",
    "type": "execution"
   },
   {
    "code": "ESG['Capacity_MW'].head()",
    "id": "402090296025477a95ae6e7773961dc7",
    "idx": 67,
    "time": "2021-01-18T03:51:52.327Z",
    "type": "execution"
   },
   {
    "code": "ESG[ESG['Group'] == 'East Bay']",
    "id": "c41a8f9e42fd497db41e4c8090068438",
    "idx": 69,
    "time": "2021-01-18T03:51:52.332Z",
    "type": "execution"
   },
   {
    "code": "import matplotlib.pyplot as plt",
    "id": "054f8e3a75e44e9b86cf11c609208843",
    "idx": 71,
    "time": "2021-01-18T03:51:52.337Z",
    "type": "execution"
   },
   {
    "id": "cb9bacd7c10c481d83b8612f7e6de553",
    "time": "2021-01-18T03:51:52.420Z",
    "type": "completion"
   },
   {
    "id": "c9c913c6d18b44c48b175468bf127eec",
    "time": "2021-01-18T03:51:52.427Z",
    "type": "completion"
   },
   {
    "id": "bb58ae4fdc7f43f686728121ccb76282",
    "time": "2021-01-18T03:51:52.431Z",
    "type": "completion"
   },
   {
    "id": "cf32981958c94a808ca3191b1f26e535",
    "time": "2021-01-18T03:51:52.436Z",
    "type": "completion"
   },
   {
    "id": "b531d7f04a7342ba845e41b921a5d4fb",
    "time": "2021-01-18T03:51:52.439Z",
    "type": "completion"
   },
   {
    "id": "c638e308ce2945c4937cef36d09b48d8",
    "time": "2021-01-18T03:51:52.442Z",
    "type": "completion"
   },
   {
    "id": "6048e05a168e4757859838ee004d9a3a",
    "time": "2021-01-18T03:51:52.444Z",
    "type": "completion"
   },
   {
    "id": "4aadc8640a8745949931e19b9e8640c2",
    "time": "2021-01-18T03:51:52.447Z",
    "type": "completion"
   },
   {
    "id": "ac0e4dffe2d941deac7d6968ac2f4e99",
    "time": "2021-01-18T03:51:52.453Z",
    "type": "completion"
   },
   {
    "id": "b5519966c29141d0b52e726421402b8f",
    "time": "2021-01-18T03:51:52.457Z",
    "type": "completion"
   },
   {
    "id": "236bb248072a4a4a8ea7d755202cd42b",
    "time": "2021-01-18T03:51:52.461Z",
    "type": "completion"
   },
   {
    "id": "cd4a7f5d6450453a8db0508762390bd0",
    "time": "2021-01-18T03:51:52.466Z",
    "type": "completion"
   },
   {
    "id": "f6e76cbdd869419f8ae8e6babcdd2391",
    "time": "2021-01-18T03:51:52.469Z",
    "type": "completion"
   },
   {
    "id": "db0cfce3d89a49ee93b3e0146f4c13a3",
    "time": "2021-01-18T03:51:52.471Z",
    "type": "completion"
   },
   {
    "id": "7758fc9f175644bebaef21a20a3c6cbe",
    "time": "2021-01-18T03:51:52.474Z",
    "type": "completion"
   },
   {
    "id": "dcc114f677df4f888120c123dcd6f9ea",
    "time": "2021-01-18T03:51:52.518Z",
    "type": "completion"
   },
   {
    "id": "912a2573c1df4eecbb6ed4caa4a8cba9",
    "time": "2021-01-18T03:51:52.527Z",
    "type": "completion"
   },
   {
    "id": "c7b80d6b7471487994df94a82453b8b0",
    "time": "2021-01-18T03:51:52.537Z",
    "type": "completion"
   },
   {
    "id": "d4f9b36b83ff48af9f56d4df975d137e",
    "time": "2021-01-18T03:51:52.541Z",
    "type": "completion"
   },
   {
    "id": "30a3b9b338984a03baccc8dd04dc9b4d",
    "time": "2021-01-18T03:51:52.544Z",
    "type": "completion"
   },
   {
    "id": "173212dedad24863872f872eb357aa48",
    "time": "2021-01-18T03:51:52.554Z",
    "type": "completion"
   },
   {
    "id": "076fe26456bf439e8f3e655f4e719553",
    "time": "2021-01-18T03:51:52.556Z",
    "type": "completion"
   },
   {
    "id": "ad15bb1a609c4c12b12913c3484b1480",
    "time": "2021-01-18T03:51:52.559Z",
    "type": "completion"
   },
   {
    "id": "79007a99d8ac46198fd461ebcdea6175",
    "time": "2021-01-18T03:51:52.564Z",
    "type": "completion"
   },
   {
    "id": "319e0ef552c34a8997203cd796522ff7",
    "time": "2021-01-18T03:51:52.566Z",
    "type": "completion"
   },
   {
    "id": "968a69f066324533987e8b295dbb58ea",
    "time": "2021-01-18T03:51:52.592Z",
    "type": "completion"
   },
   {
    "id": "37be7b1c527847598deebc5fdb162408",
    "time": "2021-01-18T03:51:52.602Z",
    "type": "completion"
   },
   {
    "id": "931a0bb5e04846708384066c53c31615",
    "time": "2021-01-18T03:51:52.612Z",
    "type": "completion"
   },
   {
    "id": "447b23b6b82341f98b2085f135cf2f31",
    "time": "2021-01-18T03:51:52.615Z",
    "type": "completion"
   },
   {
    "id": "3bef04754f884cd0a0b96f97bea8765f",
    "time": "2021-01-18T03:51:52.621Z",
    "type": "completion"
   },
   {
    "id": "fe9bb99fd8e34f1993a05c0302e737bf",
    "time": "2021-01-18T03:51:52.623Z",
    "type": "completion"
   },
   {
    "id": "71e007534b6b4dd7be58a90230f88ebf",
    "time": "2021-01-18T03:51:52.639Z",
    "type": "completion"
   },
   {
    "id": "402090296025477a95ae6e7773961dc7",
    "time": "2021-01-18T03:51:52.642Z",
    "type": "completion"
   },
   {
    "id": "c41a8f9e42fd497db41e4c8090068438",
    "time": "2021-01-18T03:51:52.650Z",
    "type": "completion"
   },
   {
    "id": "054f8e3a75e44e9b86cf11c609208843",
    "time": "2021-01-18T03:51:52.651Z",
    "type": "completion"
   },
   {
    "code": "EB = ESG[ESG['Group'] == 'East Bay']\nplt.bar(EB['Total_Var_Cost_USDperMWH'], EB['Capacity_MW'])\nplt.show()",
    "id": "0bf30bd72fed4edaae215154202b0881",
    "idx": 73,
    "time": "2021-01-18T03:51:55.116Z",
    "type": "execution"
   },
   {
    "id": "0bf30bd72fed4edaae215154202b0881",
    "time": "2021-01-18T03:51:55.177Z",
    "type": "completion"
   },
   {
    "code": "3+5",
    "id": "cb9bacd7c10c481d83b8612f7e6de553",
    "idx": 5,
    "time": "2021-01-18T03:52:12.970Z",
    "type": "execution"
   },
   {
    "code": "140-20",
    "id": "c9c913c6d18b44c48b175468bf127eec",
    "idx": 6,
    "time": "2021-01-18T03:52:12.973Z",
    "type": "execution"
   },
   {
    "code": "40/2",
    "id": "bb58ae4fdc7f43f686728121ccb76282",
    "idx": 7,
    "time": "2021-01-18T03:52:12.975Z",
    "type": "execution"
   },
   {
    "code": "2*2",
    "id": "cf32981958c94a808ca3191b1f26e535",
    "idx": 8,
    "time": "2021-01-18T03:52:12.978Z",
    "type": "execution"
   },
   {
    "code": "2*(5+1)",
    "id": "b531d7f04a7342ba845e41b921a5d4fb",
    "idx": 9,
    "time": "2021-01-18T03:52:12.981Z",
    "type": "execution"
   },
   {
    "code": "3**3",
    "id": "c638e308ce2945c4937cef36d09b48d8",
    "idx": 11,
    "time": "2021-01-18T03:52:12.984Z",
    "type": "execution"
   },
   {
    "code": "x = 2\ny = 3",
    "id": "6048e05a168e4757859838ee004d9a3a",
    "idx": 14,
    "time": "2021-01-18T03:52:12.987Z",
    "type": "execution"
   },
   {
    "code": "print(x)\nprint(y)",
    "id": "4aadc8640a8745949931e19b9e8640c2",
    "idx": 15,
    "time": "2021-01-18T03:52:12.990Z",
    "type": "execution"
   },
   {
    "code": "x + 3",
    "id": "ac0e4dffe2d941deac7d6968ac2f4e99",
    "idx": 16,
    "time": "2021-01-18T03:52:12.993Z",
    "type": "execution"
   },
   {
    "code": "x + y\nprint(x)\nprint(y)",
    "id": "b5519966c29141d0b52e726421402b8f",
    "idx": 17,
    "time": "2021-01-18T03:52:12.998Z",
    "type": "execution"
   },
   {
    "code": "x = x + y\nprint(x)\nprint(y)",
    "id": "236bb248072a4a4a8ea7d755202cd42b",
    "idx": 18,
    "time": "2021-01-18T03:52:13.003Z",
    "type": "execution"
   },
   {
    "code": "x += y\nprint(x)\nprint(y)",
    "id": "cd4a7f5d6450453a8db0508762390bd0",
    "idx": 19,
    "time": "2021-01-18T03:52:13.006Z",
    "type": "execution"
   },
   {
    "code": "print(x)\nprint(y)",
    "id": "f6e76cbdd869419f8ae8e6babcdd2391",
    "idx": 20,
    "time": "2021-01-18T03:52:13.009Z",
    "type": "execution"
   },
   {
    "code": "print('This is a string')\nprint(\"This is also a string\")",
    "id": "db0cfce3d89a49ee93b3e0146f4c13a3",
    "idx": 24,
    "time": "2021-01-18T03:52:13.013Z",
    "type": "execution"
   },
   {
    "code": "\"string 1\" + \"string 2\"",
    "id": "7758fc9f175644bebaef21a20a3c6cbe",
    "idx": 26,
    "time": "2021-01-18T03:52:13.016Z",
    "type": "execution"
   },
   {
    "code": "my_string = 'This variable is a string'\nprint(my_string)",
    "id": "dcc114f677df4f888120c123dcd6f9ea",
    "idx": 28,
    "time": "2021-01-18T03:52:13.019Z",
    "type": "execution"
   },
   {
    "code": "mylist = []\nprint(mylist)",
    "id": "912a2573c1df4eecbb6ed4caa4a8cba9",
    "idx": 31,
    "time": "2021-01-18T03:52:13.025Z",
    "type": "execution"
   },
   {
    "code": "mylist = [100]\nprint(mylist)",
    "id": "c7b80d6b7471487994df94a82453b8b0",
    "idx": 33,
    "time": "2021-01-18T03:52:13.028Z",
    "type": "execution"
   },
   {
    "code": "mylist = [100, 200]\nprint(mylist)",
    "id": "d4f9b36b83ff48af9f56d4df975d137e",
    "idx": 34,
    "time": "2021-01-18T03:52:13.032Z",
    "type": "execution"
   },
   {
    "code": "mylist = [100, 'a string']\nprint(mylist)",
    "id": "30a3b9b338984a03baccc8dd04dc9b4d",
    "idx": 35,
    "time": "2021-01-18T03:52:13.035Z",
    "type": "execution"
   },
   {
    "code": "mylist = [100, 200]\nmylist.append(300)\nprint(mylist)",
    "id": "173212dedad24863872f872eb357aa48",
    "idx": 37,
    "time": "2021-01-18T03:52:13.039Z",
    "type": "execution"
   },
   {
    "code": "print(mylist[1])",
    "id": "076fe26456bf439e8f3e655f4e719553",
    "idx": 39,
    "time": "2021-01-18T03:52:13.041Z",
    "type": "execution"
   },
   {
    "code": "min(1, 3, 0, 10)",
    "id": "ad15bb1a609c4c12b12913c3484b1480",
    "idx": 42,
    "time": "2021-01-18T03:52:13.044Z",
    "type": "execution"
   },
   {
    "code": "max(1, 3, 0, 10)",
    "id": "79007a99d8ac46198fd461ebcdea6175",
    "idx": 43,
    "time": "2021-01-18T03:52:13.047Z",
    "type": "execution"
   },
   {
    "code": "x = 2\n\nif x == 3:\n    print (True)",
    "id": "319e0ef552c34a8997203cd796522ff7",
    "idx": 49,
    "time": "2021-01-18T03:52:13.052Z",
    "type": "execution"
   },
   {
    "code": "x = 2\n\nif x == 3:\n    print (True)\nelse:\n    print (False)",
    "id": "968a69f066324533987e8b295dbb58ea",
    "idx": 50,
    "time": "2021-01-18T03:52:13.054Z",
    "type": "execution"
   },
   {
    "code": "x = 2\n\nif (x == 2) or (x == 3):\n    print (True)\nelse:\n    print (False)",
    "id": "37be7b1c527847598deebc5fdb162408",
    "idx": 51,
    "time": "2021-01-18T03:52:13.056Z",
    "type": "execution"
   },
   {
    "code": "for i in [3, 2, 1]:   \n    print(i)\n\nprint(i)",
    "id": "931a0bb5e04846708384066c53c31615",
    "idx": 55,
    "time": "2021-01-18T03:52:13.060Z",
    "type": "execution"
   },
   {
    "code": "for i in range(3):\n    print(i)",
    "id": "447b23b6b82341f98b2085f135cf2f31",
    "idx": 58,
    "time": "2021-01-18T03:52:13.063Z",
    "type": "execution"
   },
   {
    "code": "##fill this cell in\nmylist = [100, 200, 300]\nfor i in range(len(mylist)):\n    print(i, mylist[i])",
    "id": "3bef04754f884cd0a0b96f97bea8765f",
    "idx": 60,
    "time": "2021-01-18T03:52:13.069Z",
    "type": "execution"
   },
   {
    "code": "import pandas as pd",
    "id": "fe9bb99fd8e34f1993a05c0302e737bf",
    "idx": 63,
    "time": "2021-01-18T03:52:13.073Z",
    "type": "execution"
   },
   {
    "code": "ESG = pd.read_csv('ESGPorfolios.csv')\ndisplay(ESG.head())",
    "id": "71e007534b6b4dd7be58a90230f88ebf",
    "idx": 65,
    "time": "2021-01-18T03:52:13.079Z",
    "type": "execution"
   },
   {
    "code": "ESG['Capacity_MW'].head()",
    "id": "402090296025477a95ae6e7773961dc7",
    "idx": 67,
    "time": "2021-01-18T03:52:13.082Z",
    "type": "execution"
   },
   {
    "code": "ESG[ESG['Group'] == 'East Bay']",
    "id": "c41a8f9e42fd497db41e4c8090068438",
    "idx": 69,
    "time": "2021-01-18T03:52:13.087Z",
    "type": "execution"
   },
   {
    "code": "import matplotlib.pyplot as plt",
    "id": "054f8e3a75e44e9b86cf11c609208843",
    "idx": 71,
    "time": "2021-01-18T03:52:13.090Z",
    "type": "execution"
   },
   {
    "id": "cb9bacd7c10c481d83b8612f7e6de553",
    "time": "2021-01-18T03:52:13.163Z",
    "type": "completion"
   },
   {
    "id": "c9c913c6d18b44c48b175468bf127eec",
    "time": "2021-01-18T03:52:13.171Z",
    "type": "completion"
   },
   {
    "id": "bb58ae4fdc7f43f686728121ccb76282",
    "time": "2021-01-18T03:52:13.176Z",
    "type": "completion"
   },
   {
    "id": "cf32981958c94a808ca3191b1f26e535",
    "time": "2021-01-18T03:52:13.179Z",
    "type": "completion"
   },
   {
    "id": "b531d7f04a7342ba845e41b921a5d4fb",
    "time": "2021-01-18T03:52:13.183Z",
    "type": "completion"
   },
   {
    "id": "c638e308ce2945c4937cef36d09b48d8",
    "time": "2021-01-18T03:52:13.186Z",
    "type": "completion"
   },
   {
    "id": "6048e05a168e4757859838ee004d9a3a",
    "time": "2021-01-18T03:52:13.187Z",
    "type": "completion"
   },
   {
    "id": "4aadc8640a8745949931e19b9e8640c2",
    "time": "2021-01-18T03:52:13.189Z",
    "type": "completion"
   },
   {
    "id": "ac0e4dffe2d941deac7d6968ac2f4e99",
    "time": "2021-01-18T03:52:13.191Z",
    "type": "completion"
   },
   {
    "id": "b5519966c29141d0b52e726421402b8f",
    "time": "2021-01-18T03:52:13.193Z",
    "type": "completion"
   },
   {
    "id": "236bb248072a4a4a8ea7d755202cd42b",
    "time": "2021-01-18T03:52:13.195Z",
    "type": "completion"
   },
   {
    "id": "cd4a7f5d6450453a8db0508762390bd0",
    "time": "2021-01-18T03:52:13.197Z",
    "type": "completion"
   },
   {
    "id": "f6e76cbdd869419f8ae8e6babcdd2391",
    "time": "2021-01-18T03:52:13.198Z",
    "type": "completion"
   },
   {
    "id": "db0cfce3d89a49ee93b3e0146f4c13a3",
    "time": "2021-01-18T03:52:13.202Z",
    "type": "completion"
   },
   {
    "id": "7758fc9f175644bebaef21a20a3c6cbe",
    "time": "2021-01-18T03:52:13.205Z",
    "type": "completion"
   },
   {
    "id": "dcc114f677df4f888120c123dcd6f9ea",
    "time": "2021-01-18T03:52:13.207Z",
    "type": "completion"
   },
   {
    "id": "912a2573c1df4eecbb6ed4caa4a8cba9",
    "time": "2021-01-18T03:52:13.209Z",
    "type": "completion"
   },
   {
    "id": "c7b80d6b7471487994df94a82453b8b0",
    "time": "2021-01-18T03:52:13.242Z",
    "type": "completion"
   },
   {
    "id": "d4f9b36b83ff48af9f56d4df975d137e",
    "time": "2021-01-18T03:52:13.247Z",
    "type": "completion"
   },
   {
    "id": "30a3b9b338984a03baccc8dd04dc9b4d",
    "time": "2021-01-18T03:52:13.254Z",
    "type": "completion"
   },
   {
    "id": "173212dedad24863872f872eb357aa48",
    "time": "2021-01-18T03:52:13.265Z",
    "type": "completion"
   },
   {
    "id": "076fe26456bf439e8f3e655f4e719553",
    "time": "2021-01-18T03:52:13.267Z",
    "type": "completion"
   },
   {
    "id": "ad15bb1a609c4c12b12913c3484b1480",
    "time": "2021-01-18T03:52:13.270Z",
    "type": "completion"
   },
   {
    "id": "79007a99d8ac46198fd461ebcdea6175",
    "time": "2021-01-18T03:52:13.272Z",
    "type": "completion"
   },
   {
    "id": "319e0ef552c34a8997203cd796522ff7",
    "time": "2021-01-18T03:52:13.273Z",
    "type": "completion"
   },
   {
    "id": "968a69f066324533987e8b295dbb58ea",
    "time": "2021-01-18T03:52:13.278Z",
    "type": "completion"
   },
   {
    "id": "37be7b1c527847598deebc5fdb162408",
    "time": "2021-01-18T03:52:13.280Z",
    "type": "completion"
   },
   {
    "id": "931a0bb5e04846708384066c53c31615",
    "time": "2021-01-18T03:52:13.282Z",
    "type": "completion"
   },
   {
    "id": "447b23b6b82341f98b2085f135cf2f31",
    "time": "2021-01-18T03:52:13.289Z",
    "type": "completion"
   },
   {
    "id": "3bef04754f884cd0a0b96f97bea8765f",
    "time": "2021-01-18T03:52:13.295Z",
    "type": "completion"
   },
   {
    "id": "fe9bb99fd8e34f1993a05c0302e737bf",
    "time": "2021-01-18T03:52:13.501Z",
    "type": "completion"
   },
   {
    "id": "71e007534b6b4dd7be58a90230f88ebf",
    "time": "2021-01-18T03:52:13.557Z",
    "type": "completion"
   },
   {
    "id": "402090296025477a95ae6e7773961dc7",
    "time": "2021-01-18T03:52:13.562Z",
    "type": "completion"
   },
   {
    "id": "c41a8f9e42fd497db41e4c8090068438",
    "time": "2021-01-18T03:52:13.608Z",
    "type": "completion"
   },
   {
    "id": "054f8e3a75e44e9b86cf11c609208843",
    "time": "2021-01-18T03:52:13.818Z",
    "type": "completion"
   },
   {
    "code": "EB = ESG[ESG['Group'] == 'East Bay']\nplt.bar(EB['Total_Var_Cost_USDperMWH'], EB['Capacity_MW'])\nplt.show()",
    "id": "0bf30bd72fed4edaae215154202b0881",
    "idx": 73,
    "time": "2021-01-18T03:52:15.894Z",
    "type": "execution"
   },
   {
    "id": "0bf30bd72fed4edaae215154202b0881",
    "time": "2021-01-18T03:52:16.145Z",
    "type": "completion"
   },
   {
    "code": "EB = ESG[ESG['Group'] == 'East Bay']\nplt.plot(EB['Total_Var_Cost_USDperMWH'], EB['Capacity_MW'])\nplt.show()",
    "id": "0bf30bd72fed4edaae215154202b0881",
    "idx": 73,
    "time": "2021-01-18T03:52:22.734Z",
    "type": "execution"
   },
   {
    "id": "0bf30bd72fed4edaae215154202b0881",
    "time": "2021-01-18T03:52:23.011Z",
    "type": "completion"
   },
   {
    "code": "EB = ESG[ESG['Group'] == 'East Bay']\nplt.scatter(EB['Total_Var_Cost_USDperMWH'], EB['Capacity_MW'])\nplt.show()",
    "id": "0bf30bd72fed4edaae215154202b0881",
    "idx": 73,
    "time": "2021-01-18T03:52:27.036Z",
    "type": "execution"
   },
   {
    "id": "0bf30bd72fed4edaae215154202b0881",
    "time": "2021-01-18T03:52:27.267Z",
    "type": "completion"
   },
   {
    "code": "EB = ESG[ESG['Group'] == 'East Bay']\nplt.scatter(EB['Capacity_MW'], EB['Total_Var_Cost_USDperMWH'])\nplt.show()",
    "id": "0bf30bd72fed4edaae215154202b0881",
    "idx": 73,
    "time": "2021-01-18T03:52:40.795Z",
    "type": "execution"
   },
   {
    "id": "0bf30bd72fed4edaae215154202b0881",
    "time": "2021-01-18T03:52:41.032Z",
    "type": "completion"
   },
   {
    "code": "plt.scatter(ESG['Capacity_MW'], ESG['Total_Var_Cost_USDperMWH'])\nplt.show()",
    "id": "0bf30bd72fed4edaae215154202b0881",
    "idx": 73,
    "time": "2021-01-18T03:53:08.140Z",
    "type": "execution"
   },
   {
    "id": "0bf30bd72fed4edaae215154202b0881",
    "time": "2021-01-18T03:53:08.360Z",
    "type": "completion"
   },
   {
    "code": "#plt.scatter(ESG['Capacity_MW'], ESG['Total_Var_Cost_USDperMWH'])\nplt.scatter(ESG['Capacity_MW'], ESG['Carbon_tonsperMWH'])\nplt.show()",
    "id": "0bf30bd72fed4edaae215154202b0881",
    "idx": 73,
    "time": "2021-01-18T03:53:33.624Z",
    "type": "execution"
   },
   {
    "id": "0bf30bd72fed4edaae215154202b0881",
    "time": "2021-01-18T03:53:33.920Z",
    "type": "completion"
   },
   {
    "code": "#plt.scatter(ESG['Capacity_MW'], ESG['Total_Var_Cost_USDperMWH'])\nplt.scatter(ESG['Carbon_tonsperMWH'], ESG['TotCarbon_tonsperMWHal_Var_Cost_USDperMWH'])\nplt.show()",
    "id": "0bf30bd72fed4edaae215154202b0881",
    "idx": 73,
    "time": "2021-01-18T03:53:39.217Z",
    "type": "execution"
   },
   {
    "id": "0bf30bd72fed4edaae215154202b0881",
    "time": "2021-01-18T03:53:39.413Z",
    "type": "completion"
   },
   {
    "code": "#plt.scatter(ESG['Capacity_MW'], ESG['Total_Var_Cost_USDperMWH'])\nplt.scatter(ESG['Carbon_tonsperMWH'], ESG['Total_Var_Cost_USDperMWH'])\nplt.show()",
    "id": "0bf30bd72fed4edaae215154202b0881",
    "idx": 73,
    "time": "2021-01-18T03:53:50.277Z",
    "type": "execution"
   },
   {
    "id": "0bf30bd72fed4edaae215154202b0881",
    "time": "2021-01-18T03:53:50.487Z",
    "type": "completion"
   },
   {
    "code": "#plt.scatter(ESG['Capacity_MW'], ESG['Total_Var_Cost_USDperMWH'])\nplt.scatter(ESG['Total_Var_Cost_USDperMWH'], ESG['Carbon_tonsperMWH'])\nplt.show()",
    "id": "0bf30bd72fed4edaae215154202b0881",
    "idx": 73,
    "time": "2021-01-18T03:54:12.752Z",
    "type": "execution"
   },
   {
    "id": "0bf30bd72fed4edaae215154202b0881",
    "time": "2021-01-18T03:54:12.970Z",
    "type": "completion"
   },
   {
    "code": "plt.scatter(ESG['Capacity_MW'], ESG['Total_Var_Cost_USDperMWH'])\n#plt.scatter(ESG['Total_Var_Cost_USDperMWH'], ESG['Carbon_tonsperMWH'])\nplt.show()",
    "id": "0bf30bd72fed4edaae215154202b0881",
    "idx": 73,
    "time": "2021-01-18T03:54:42.206Z",
    "type": "execution"
   },
   {
    "id": "0bf30bd72fed4edaae215154202b0881",
    "time": "2021-01-18T03:54:42.441Z",
    "type": "completion"
   },
   {
    "code": "#plt.scatter(ESG['Capacity_MW'], ESG['Total_Var_Cost_USDperMWH'])\nplt.scatter(ESG['Total_Var_Cost_USDperMWH'], ESG['Carbon_tonsperMWH'])\nplt.show()",
    "id": "0bf30bd72fed4edaae215154202b0881",
    "idx": 73,
    "time": "2021-01-18T03:54:51.296Z",
    "type": "execution"
   },
   {
    "id": "0bf30bd72fed4edaae215154202b0881",
    "time": "2021-01-18T03:54:51.492Z",
    "type": "completion"
   },
   {
    "code": "ESG.sort('Total_Var_Cost_USDperMWH')",
    "id": "ae33c6c531f34523a3691ae37fba16e7",
    "idx": 74,
    "time": "2021-01-18T03:56:24.228Z",
    "type": "execution"
   },
   {
    "id": "ae33c6c531f34523a3691ae37fba16e7",
    "time": "2021-01-18T03:56:24.293Z",
    "type": "completion"
   },
   {
    "code": "ESG.sort_values('Total_Var_Cost_USDperMWH')",
    "id": "ae33c6c531f34523a3691ae37fba16e7",
    "idx": 74,
    "time": "2021-01-18T03:56:52.740Z",
    "type": "execution"
   },
   {
    "id": "ae33c6c531f34523a3691ae37fba16e7",
    "time": "2021-01-18T03:56:52.871Z",
    "type": "completion"
   },
   {
    "code": "#plt.scatter(ESG['Capacity_MW'], ESG['Total_Var_Cost_USDperMWH'])\nplt.scatter(ESG['Total_Var_Cost_USDperMWH'], ESG['Carbon_tonsperMWH'])\nplt.xlabel('Total Variable Cost USD per MWH')\nplt.ylabel('Carbon Tons per MWH')\nplt.show()",
    "id": "0bf30bd72fed4edaae215154202b0881",
    "idx": 73,
    "time": "2021-01-18T03:58:03.678Z",
    "type": "execution"
   },
   {
    "id": "0bf30bd72fed4edaae215154202b0881",
    "time": "2021-01-18T03:58:03.939Z",
    "type": "completion"
   },
   {
    "code": "#plt.scatter(ESG['Capacity_MW'], ESG['Total_Var_Cost_USDperMWH'])\nplt.scatter(ESG['Total_Var_Cost_USDperMWH'], ESG['Carbon_tonsperMWH'])\nplt.title('Variable Cost vs. Emissions')\nplt.xlabel('Total Variable Cost USD per MWH')\nplt.ylabel('Carbon Tons per MWH')\nplt.show()",
    "id": "0bf30bd72fed4edaae215154202b0881",
    "idx": 73,
    "time": "2021-01-18T03:58:16.052Z",
    "type": "execution"
   },
   {
    "id": "0bf30bd72fed4edaae215154202b0881",
    "time": "2021-01-18T03:58:16.313Z",
    "type": "completion"
   },
   {
    "code": "#plt.scatter(ESG['Capacity_MW'], ESG['Total_Var_Cost_USDperMWH'])\nplt.scatter(x = ESG['Total_Var_Cost_USDperMWH'], y = ESG['Carbon_tonsperMWH'])\nplt.title('Variable Cost vs. Emissions')\nplt.xlabel('Total Variable Cost USD per MWH')\nplt.ylabel('Carbon Tons per MWH')\nplt.show()",
    "id": "0bf30bd72fed4edaae215154202b0881",
    "idx": 73,
    "time": "2021-01-18T03:58:27.200Z",
    "type": "execution"
   },
   {
    "id": "0bf30bd72fed4edaae215154202b0881",
    "time": "2021-01-18T03:58:27.456Z",
    "type": "completion"
   },
   {
    "code": "#plt.scatter(ESG['Capacity_MW'], ESG['Total_Var_Cost_USDperMWH'])\nplt.scatter(x = ESG['Total_Var_Cost_USDperMWH'], y = ESG['Carbon_tonsperMWH'], color = ESG['Group'])\nplt.title('Variable Cost vs. Emissions')\nplt.xlabel('Total Variable Cost USD per MWH')\nplt.ylabel('Carbon Tons per MWH')\nplt.show()",
    "id": "ae33c6c531f34523a3691ae37fba16e7",
    "idx": 74,
    "time": "2021-01-18T04:00:38.094Z",
    "type": "execution"
   },
   {
    "id": "ae33c6c531f34523a3691ae37fba16e7",
    "time": "2021-01-18T04:00:38.294Z",
    "type": "completion"
   },
   {
    "code": "#plt.scatter(ESG['Capacity_MW'], ESG['Total_Var_Cost_USDperMWH'])\nplt.scatter(x = ESG['Total_Var_Cost_USDperMWH'], y = ESG['Carbon_tonsperMWH'], c = ESG['Group'])\nplt.title('Variable Cost vs. Emissions')\nplt.xlabel('Total Variable Cost USD per MWH')\nplt.ylabel('Carbon Tons per MWH')\nplt.show()",
    "id": "ae33c6c531f34523a3691ae37fba16e7",
    "idx": 74,
    "time": "2021-01-18T04:01:09.572Z",
    "type": "execution"
   },
   {
    "id": "ae33c6c531f34523a3691ae37fba16e7",
    "time": "2021-01-18T04:01:09.797Z",
    "type": "completion"
   },
   {
    "code": "%who",
    "id": "7ff2ab7b9ba042378a44dfc56237775d",
    "idx": 79,
    "time": "2021-01-18T04:05:58.005Z",
    "type": "execution"
   },
   {
    "id": "7ff2ab7b9ba042378a44dfc56237775d",
    "time": "2021-01-18T04:05:58.070Z",
    "type": "completion"
   },
   {
    "code": "ESG = ESG.sort_values(Total_Var_Cost_USDperMWH)\ndisplay(ESG)",
    "id": "c1c5c9f267f04b0db4bec0156fb1f570",
    "idx": 75,
    "time": "2021-01-18T05:05:12.700Z",
    "type": "execution"
   },
   {
    "id": "c1c5c9f267f04b0db4bec0156fb1f570",
    "time": "2021-01-18T05:05:12.790Z",
    "type": "completion"
   },
   {
    "code": "ESG = ESG.sort_values('Total_Var_Cost_USDperMWH')\ndisplay(ESG)",
    "id": "c1c5c9f267f04b0db4bec0156fb1f570",
    "idx": 75,
    "time": "2021-01-18T05:05:23.366Z",
    "type": "execution"
   },
   {
    "id": "c1c5c9f267f04b0db4bec0156fb1f570",
    "time": "2021-01-18T05:05:23.492Z",
    "type": "completion"
   },
   {
    "code": "ESG = ESG.sort_values('Total_Var_Cost_USDperMWH', ascending = True, ignore_index = True)\ndisplay(ESG)",
    "id": "c1c5c9f267f04b0db4bec0156fb1f570",
    "idx": 75,
    "time": "2021-01-18T05:06:16.315Z",
    "type": "execution"
   },
   {
    "id": "c1c5c9f267f04b0db4bec0156fb1f570",
    "time": "2021-01-18T05:06:16.437Z",
    "type": "completion"
   },
   {
    "code": "ESG = ESG.sort_values('Total_Var_Cost_USDperMWH', ascending = True, ignore_index = True)\ndisplay(ESG)",
    "id": "c1c5c9f267f04b0db4bec0156fb1f570",
    "idx": 75,
    "time": "2021-01-18T05:07:35.587Z",
    "type": "execution"
   },
   {
    "id": "c1c5c9f267f04b0db4bec0156fb1f570",
    "time": "2021-01-18T05:07:35.713Z",
    "type": "completion"
   },
   {
    "code": "ESG = ESG.sort_values('Total_Var_Cost_USDperMWH', ascending = True, ignore_index = True)\ndisplay(ESG.head())",
    "id": "c1c5c9f267f04b0db4bec0156fb1f570",
    "idx": 75,
    "time": "2021-01-18T05:07:55.936Z",
    "type": "execution"
   },
   {
    "id": "c1c5c9f267f04b0db4bec0156fb1f570",
    "time": "2021-01-18T05:07:56.042Z",
    "type": "completion"
   },
   {
    "code": "import numpy as np\n\nESG['Cumulative_Capacity'] = np.cumsum(ESG['Capacity_MW'])\ndisplay(ESG.head())",
    "id": "98eaf84225e542f9b65d83a07f51e644",
    "idx": 77,
    "time": "2021-01-18T05:11:20.165Z",
    "type": "execution"
   },
   {
    "id": "98eaf84225e542f9b65d83a07f51e644",
    "time": "2021-01-18T05:11:20.245Z",
    "type": "completion"
   },
   {
    "code": "plt.scatter(x = ESG['Cumulative_Capacity'], y = ESG['Total_Var_Cost_USDperMWH'])\nplt.title('Variable Cost vs. Emissions')\nplt.xlabel('Total Variable Cost USD per MWH')\nplt.ylabel('Carbon Tons per MWH')\nplt.show()",
    "id": "d058130297964a8088a34a58310abfba",
    "idx": 79,
    "time": "2021-01-18T05:14:21.900Z",
    "type": "execution"
   },
   {
    "id": "d058130297964a8088a34a58310abfba",
    "time": "2021-01-18T05:14:22.138Z",
    "type": "completion"
   },
   {
    "code": "ESG = ESG.sort_values('Total_Var_Cost_USDperMWH', ascending = True, ignore_index = True)\ndisplay(ESG.head())",
    "id": "e2bedd881469458aac0c500e12558366",
    "idx": 81,
    "time": "2021-01-18T05:23:17.790Z",
    "type": "execution"
   },
   {
    "id": "e2bedd881469458aac0c500e12558366",
    "time": "2021-01-18T05:23:17.871Z",
    "type": "completion"
   },
   {
    "code": "import numpy as np\n\nESG['Cumulative_Capacity'] = np.cumsum(ESG['Capacity_MW'])\ndisplay(ESG.head())",
    "id": "0afc64790d5446b68589a3d9533b2040",
    "idx": 83,
    "time": "2021-01-18T05:26:43.356Z",
    "type": "execution"
   },
   {
    "id": "0afc64790d5446b68589a3d9533b2040",
    "time": "2021-01-18T05:26:43.435Z",
    "type": "completion"
   },
   {
    "code": "plt.scatter(x = ESG['Cumulative_Capacity'], y = ESG['Total_Var_Cost_USDperMWH'])\nplt.title('Variable Cost vs. Emissions')\nplt.xlabel('Total Variable Cost USD per MWH')\nplt.ylabel('Carbon Tons per MWH')\nplt.show()",
    "id": "b9bda35e89a543838d1687d729a4b552",
    "idx": 85,
    "time": "2021-01-18T05:27:43.393Z",
    "type": "execution"
   },
   {
    "id": "b9bda35e89a543838d1687d729a4b552",
    "time": "2021-01-18T05:27:43.692Z",
    "type": "completion"
   },
   {
    "code": "plt.scatter(x = ESG['Cumulative_Capacity'], y = ESG['Total_Var_Cost_USDperMWH'])\nplt.title('Electricity Supply')\nplt.xlabel('Quantity')\nplt.ylabel('Price')\nplt.show()",
    "id": "b9bda35e89a543838d1687d729a4b552",
    "idx": 85,
    "time": "2021-01-18T05:28:14.003Z",
    "type": "execution"
   },
   {
    "id": "b9bda35e89a543838d1687d729a4b552",
    "time": "2021-01-18T05:28:14.247Z",
    "type": "completion"
   },
   {
    "code": "plt.plot(x = ESG['Cumulative_Capacity'], y = ESG['Total_Var_Cost_USDperMWH'])\nplt.title('Electricity Supply')\nplt.xlabel('Quantity')\nplt.ylabel('Price')\nplt.show()",
    "id": "b9bda35e89a543838d1687d729a4b552",
    "idx": 85,
    "time": "2021-01-18T05:28:34.790Z",
    "type": "execution"
   },
   {
    "id": "b9bda35e89a543838d1687d729a4b552",
    "time": "2021-01-18T05:28:34.991Z",
    "type": "completion"
   },
   {
    "code": "plt.scatter(x = ESG['Cumulative_Capacity'], y = ESG['Total_Var_Cost_USDperMWH'])\nplt.title('Electricity Supply')\nplt.xlabel('Quantity')\nplt.ylabel('Price')\nplt.show()",
    "id": "b9bda35e89a543838d1687d729a4b552",
    "idx": 85,
    "time": "2021-01-18T05:28:43.679Z",
    "type": "execution"
   },
   {
    "id": "b9bda35e89a543838d1687d729a4b552",
    "time": "2021-01-18T05:28:43.858Z",
    "type": "completion"
   },
   {
    "code": "plt.line(x = ESG['Cumulative_Capacity'], y = ESG['Total_Var_Cost_USDperMWH'])\nplt.title('Electricity Supply')\nplt.xlabel('Quantity')\nplt.ylabel('Price')\nplt.show()",
    "id": "b9bda35e89a543838d1687d729a4b552",
    "idx": 85,
    "time": "2021-01-18T05:28:46.367Z",
    "type": "execution"
   },
   {
    "id": "b9bda35e89a543838d1687d729a4b552",
    "time": "2021-01-18T05:28:46.495Z",
    "type": "completion"
   },
   {
    "code": "plt.lineplot(x = ESG['Cumulative_Capacity'], y = ESG['Total_Var_Cost_USDperMWH'])\nplt.title('Electricity Supply')\nplt.xlabel('Quantity')\nplt.ylabel('Price')\nplt.show()",
    "id": "b9bda35e89a543838d1687d729a4b552",
    "idx": 85,
    "time": "2021-01-18T05:28:48.945Z",
    "type": "execution"
   },
   {
    "id": "b9bda35e89a543838d1687d729a4b552",
    "time": "2021-01-18T05:28:49.012Z",
    "type": "completion"
   },
   {
    "code": "plt.scattter(x = ESG['Cumulative_Capacity'], y = ESG['Total_Var_Cost_USDperMWH'])\nplt.title('Electricity Supply')\nplt.xlabel('Quantity')\nplt.ylabel('Price')\nplt.show()",
    "id": "b9bda35e89a543838d1687d729a4b552",
    "idx": 85,
    "time": "2021-01-18T05:28:54.617Z",
    "type": "execution"
   },
   {
    "id": "b9bda35e89a543838d1687d729a4b552",
    "time": "2021-01-18T05:28:54.682Z",
    "type": "completion"
   },
   {
    "code": "plt.scatter(x = ESG['Cumulative_Capacity'], y = ESG['Total_Var_Cost_USDperMWH'])\nplt.title('Electricity Supply')\nplt.xlabel('Quantity')\nplt.ylabel('Price')\nplt.show()",
    "id": "b9bda35e89a543838d1687d729a4b552",
    "idx": 85,
    "time": "2021-01-18T05:29:00.098Z",
    "type": "execution"
   },
   {
    "id": "b9bda35e89a543838d1687d729a4b552",
    "time": "2021-01-18T05:29:00.322Z",
    "type": "completion"
   },
   {
    "code": "mylist = []\nprint(mylist)",
    "id": "c0077a220e194139a9a1eddf16f10400",
    "idx": 31,
    "time": "2021-01-20T23:06:52.439Z",
    "type": "execution"
   },
   {
    "id": "c0077a220e194139a9a1eddf16f10400",
    "time": "2021-01-20T23:06:52.608Z",
    "type": "completion"
   },
   {
    "code": "x = 2\n\nif (x == 2) | (x == 3):\n    print (True)\nelse:\n    print (False)",
    "id": "4d7f38ac7a8646e69ceb5b0073b7988b",
    "idx": 51,
    "time": "2021-01-20T23:08:02.256Z",
    "type": "execution"
   },
   {
    "id": "4d7f38ac7a8646e69ceb5b0073b7988b",
    "time": "2021-01-20T23:08:02.422Z",
    "type": "completion"
   },
   {
    "code": "x = 2\n\nif (x == 2) | (x == 3):\n    print (True)\nelse:\n    print (False)",
    "id": "4d7f38ac7a8646e69ceb5b0073b7988b",
    "idx": 52,
    "time": "2021-01-20T23:12:43.017Z",
    "type": "execution"
   },
   {
    "id": "4d7f38ac7a8646e69ceb5b0073b7988b",
    "time": "2021-01-20T23:12:43.203Z",
    "type": "completion"
   },
   {
    "code": "ESG = ESG.sort_values('Total_Var_Cost_USDperMWH', ascending = True, ignore_index = True)\ndisplay(ESG.head())",
    "id": "71884ed959a14a19846e60312525d1f9",
    "idx": 76,
    "time": "2021-01-20T23:19:21.775Z",
    "type": "execution"
   },
   {
    "id": "71884ed959a14a19846e60312525d1f9",
    "time": "2021-01-20T23:19:21.975Z",
    "type": "completion"
   },
   {
    "code": "ESG = pd.read_csv('ESGPorfolios.csv')\ndisplay(ESG.head())",
    "id": "86468e54e2714f4a84791d9918f1a20b",
    "idx": 66,
    "time": "2021-01-20T23:19:29.775Z",
    "type": "execution"
   },
   {
    "id": "86468e54e2714f4a84791d9918f1a20b",
    "time": "2021-01-20T23:19:29.942Z",
    "type": "completion"
   },
   {
    "code": "import pandas as pd",
    "id": "e212ec66590345a68938585d29ccab0f",
    "idx": 64,
    "time": "2021-01-20T23:19:32.018Z",
    "type": "execution"
   },
   {
    "id": "e212ec66590345a68938585d29ccab0f",
    "time": "2021-01-20T23:19:32.447Z",
    "type": "completion"
   },
   {
    "code": "ESG = pd.read_csv('ESGPorfolios.csv')\ndisplay(ESG.head())",
    "id": "86468e54e2714f4a84791d9918f1a20b",
    "idx": 66,
    "time": "2021-01-20T23:19:33.378Z",
    "type": "execution"
   },
   {
    "id": "86468e54e2714f4a84791d9918f1a20b",
    "time": "2021-01-20T23:19:33.551Z",
    "type": "completion"
   },
   {
    "code": "ESG['Capacity_MW'].head()",
    "id": "da0017614521433c827758d0862207ba",
    "idx": 68,
    "time": "2021-01-20T23:19:35.761Z",
    "type": "execution"
   },
   {
    "id": "da0017614521433c827758d0862207ba",
    "time": "2021-01-20T23:19:35.931Z",
    "type": "completion"
   },
   {
    "code": "ESG[ESG['Group'] == 'East Bay']",
    "id": "fef346366eee4beb81325f9cb3f9e48d",
    "idx": 70,
    "time": "2021-01-20T23:19:37.762Z",
    "type": "execution"
   },
   {
    "id": "fef346366eee4beb81325f9cb3f9e48d",
    "time": "2021-01-20T23:19:37.969Z",
    "type": "completion"
   },
   {
    "code": "import matplotlib.pyplot as plt",
    "id": "eac2daec186a4d0e994c7376e4249a1e",
    "idx": 72,
    "time": "2021-01-20T23:19:40.087Z",
    "type": "execution"
   },
   {
    "id": "eac2daec186a4d0e994c7376e4249a1e",
    "time": "2021-01-20T23:19:40.466Z",
    "type": "completion"
   },
   {
    "code": "plt.scatter(x = ESG['Total_Var_Cost_USDperMWH'], y = ESG['Carbon_tonsperMWH'])\nplt.title('Variable Cost vs. Emissions')\nplt.xlabel('Total Variable Cost USD per MWH')\nplt.ylabel('Carbon Tons per MWH')\nplt.show()",
    "id": "4b291b64b30a42eab46ea2cc187d17c6",
    "idx": 74,
    "time": "2021-01-20T23:19:41.418Z",
    "type": "execution"
   },
   {
    "id": "4b291b64b30a42eab46ea2cc187d17c6",
    "time": "2021-01-20T23:19:41.937Z",
    "type": "completion"
   },
   {
    "code": "plt.scatter(x = ESG['Total_Var_Cost_USDperMWH'], y = ESG['Carbon_tonsperMWH'])\nplt.title('Variable Cost vs. Emissions')\nplt.xlabel('Total Variable Cost USD per MWH')\nplt.ylabel('Carbon Tons per MWH')\nplt.show()",
    "id": "4b291b64b30a42eab46ea2cc187d17c6",
    "idx": 74,
    "time": "2021-01-20T23:20:07.595Z",
    "type": "execution"
   },
   {
    "id": "4b291b64b30a42eab46ea2cc187d17c6",
    "time": "2021-01-20T23:20:07.944Z",
    "type": "completion"
   },
   {
    "code": "import numpy as np\n\nESG['Total_Carbon_Emissions'] = ESG['Capacity_MW'] * ESG['Carbon_tonsperMWH']\ndisplay(ESG.head())",
    "id": "996c09bf66a24af79d91b7fa57460898",
    "idx": 78,
    "time": "2021-01-20T23:22:54.987Z",
    "type": "execution"
   },
   {
    "id": "996c09bf66a24af79d91b7fa57460898",
    "time": "2021-01-20T23:22:55.189Z",
    "type": "completion"
   },
   {
    "code": "ESG = ESG.sort_values('Total_Var_Cost_USDperMWH', ascending=True, ignore_index=True)\ndisplay(ESG.head())",
    "id": "71884ed959a14a19846e60312525d1f9",
    "idx": 76,
    "time": "2021-01-20T23:23:13.832Z",
    "type": "execution"
   },
   {
    "id": "71884ed959a14a19846e60312525d1f9",
    "time": "2021-01-20T23:23:14.030Z",
    "type": "completion"
   },
   {
    "code": "ESG = ESG.sort_values('Total_Var_Cost_USDperMWH', ascending=True, ignore_index=True)\ndisplay(ESG)",
    "id": "71884ed959a14a19846e60312525d1f9",
    "idx": 76,
    "time": "2021-01-20T23:23:22.820Z",
    "type": "execution"
   },
   {
    "id": "71884ed959a14a19846e60312525d1f9",
    "time": "2021-01-20T23:23:23.255Z",
    "type": "completion"
   },
   {
    "code": "ESG = ESG.sort_values('Total_Var_Cost_USDperMWH', ascending=True, ignore_index=True)\ndisplay(ESG.head())",
    "id": "71884ed959a14a19846e60312525d1f9",
    "idx": 76,
    "time": "2021-01-20T23:25:23.349Z",
    "type": "execution"
   },
   {
    "id": "71884ed959a14a19846e60312525d1f9",
    "time": "2021-01-20T23:25:23.587Z",
    "type": "completion"
   },
   {
    "code": "import numpy as np\n\nESG['Total_Carbon_Emissions'] = ESG['Capacity_MW'] * ESG['Carbon_tonsperMWH']\ndisplay(ESG.head())",
    "id": "996c09bf66a24af79d91b7fa57460898",
    "idx": 78,
    "time": "2021-01-20T23:25:25.755Z",
    "type": "execution"
   },
   {
    "id": "996c09bf66a24af79d91b7fa57460898",
    "time": "2021-01-20T23:25:26.007Z",
    "type": "completion"
   },
   {
    "code": "ESG.loc[ESG['UNIT NAME'] == 'HELMS', 'Capacity_MW']",
    "id": "32e0cfad528a46fb9c56241a034be90f",
    "idx": 80,
    "time": "2021-01-20T23:30:56.661Z",
    "type": "execution"
   },
   {
    "id": "32e0cfad528a46fb9c56241a034be90f",
    "time": "2021-01-20T23:30:56.817Z",
    "type": "completion"
   },
   {
    "code": "dtype(ESG.loc[ESG['UNIT NAME'] == 'HELMS', 'Capacity_MW'])",
    "id": "32e0cfad528a46fb9c56241a034be90f",
    "idx": 80,
    "time": "2021-01-20T23:31:59.932Z",
    "type": "execution"
   },
   {
    "id": "32e0cfad528a46fb9c56241a034be90f",
    "time": "2021-01-20T23:32:00.148Z",
    "type": "completion"
   },
   {
    "code": "type(ESG.loc[ESG['UNIT NAME'] == 'HELMS', 'Capacity_MW'])",
    "id": "32e0cfad528a46fb9c56241a034be90f",
    "idx": 80,
    "time": "2021-01-20T23:32:02.770Z",
    "type": "execution"
   },
   {
    "id": "32e0cfad528a46fb9c56241a034be90f",
    "time": "2021-01-20T23:32:02.951Z",
    "type": "completion"
   },
   {
    "code": "ESG.loc[ESG['UNIT NAME'] == 'HELMS', 'Capacity_MW']",
    "id": "32e0cfad528a46fb9c56241a034be90f",
    "idx": 80,
    "time": "2021-01-20T23:32:08.227Z",
    "type": "execution"
   },
   {
    "id": "32e0cfad528a46fb9c56241a034be90f",
    "time": "2021-01-20T23:32:08.422Z",
    "type": "completion"
   },
   {
    "code": "ESG.loc[ESG['UNIT NAME'] == 'HELMS', 'Capacity_MW'].values[0]",
    "id": "33e81f76479746f78bd6e205840a9ff5",
    "idx": 82,
    "time": "2021-01-20T23:32:24.632Z",
    "type": "execution"
   },
   {
    "id": "33e81f76479746f78bd6e205840a9ff5",
    "time": "2021-01-20T23:32:24.785Z",
    "type": "completion"
   },
   {
    "code": "helms_capacity = ESG.loc[ESG['UNIT NAME'] == 'HELMS', 'Capacity_MW']\nprint(helms_capacity)",
    "id": "32e0cfad528a46fb9c56241a034be90f",
    "idx": 80,
    "time": "2021-01-20T23:36:07.498Z",
    "type": "execution"
   },
   {
    "id": "32e0cfad528a46fb9c56241a034be90f",
    "time": "2021-01-20T23:36:07.661Z",
    "type": "completion"
   },
   {
    "code": "helms_capacity = ESG.loc[ESG['UNIT NAME'] == 'HELMS', 'Capacity_MW'].values[0]\nprint(helms_capacity)",
    "id": "33e81f76479746f78bd6e205840a9ff5",
    "idx": 82,
    "time": "2021-01-20T23:36:08.950Z",
    "type": "execution"
   },
   {
    "id": "33e81f76479746f78bd6e205840a9ff5",
    "time": "2021-01-20T23:36:09.106Z",
    "type": "completion"
   },
   {
    "code": "helms_capacity = ESG.loc[ESG['UNIT NAME'] == 'HELMS', 'Capacity_MW']\ndisplay(helms_capacity)",
    "id": "32e0cfad528a46fb9c56241a034be90f",
    "idx": 80,
    "time": "2021-01-20T23:36:16.879Z",
    "type": "execution"
   },
   {
    "id": "32e0cfad528a46fb9c56241a034be90f",
    "time": "2021-01-20T23:36:17.409Z",
    "type": "completion"
   },
   {
    "code": "display(ESG.loc[ESG['Carbon_tonsperMWH'] >= 50])",
    "id": "1b971edc704e45168327f82f92e09ad9",
    "idx": 84,
    "time": "2021-01-20T23:37:15.613Z",
    "type": "execution"
   },
   {
    "id": "1b971edc704e45168327f82f92e09ad9",
    "time": "2021-01-20T23:37:15.797Z",
    "type": "completion"
   },
   {
    "code": "display(ESG.loc[ESG['Carbon_tonsperMWH'] >= 30])",
    "id": "1b971edc704e45168327f82f92e09ad9",
    "idx": 84,
    "time": "2021-01-20T23:37:20.250Z",
    "type": "execution"
   },
   {
    "id": "1b971edc704e45168327f82f92e09ad9",
    "time": "2021-01-20T23:37:20.416Z",
    "type": "completion"
   },
   {
    "code": "display(ESG.loc[ESG['Carbon_tonsperMWH'] >= 3])",
    "id": "1b971edc704e45168327f82f92e09ad9",
    "idx": 84,
    "time": "2021-01-20T23:37:22.775Z",
    "type": "execution"
   },
   {
    "id": "1b971edc704e45168327f82f92e09ad9",
    "time": "2021-01-20T23:37:22.932Z",
    "type": "completion"
   },
   {
    "code": "display(ESG.loc[ESG['Carbon_tonsperMWH'] >= 1])",
    "id": "1b971edc704e45168327f82f92e09ad9",
    "idx": 84,
    "time": "2021-01-20T23:37:33.840Z",
    "type": "execution"
   },
   {
    "id": "1b971edc704e45168327f82f92e09ad9",
    "time": "2021-01-20T23:37:34.007Z",
    "type": "completion"
   },
   {
    "code": "display(ESG.loc[ESG['Carbon_tonsperMWH'] >= .5])",
    "id": "1b971edc704e45168327f82f92e09ad9",
    "idx": 84,
    "time": "2021-01-20T23:37:40.655Z",
    "type": "execution"
   },
   {
    "id": "1b971edc704e45168327f82f92e09ad9",
    "time": "2021-01-20T23:37:41.014Z",
    "type": "completion"
   },
   {
    "code": "display(ESG.loc[ESG['Carbon_tonsperMWH'] >= .8])",
    "id": "1b971edc704e45168327f82f92e09ad9",
    "idx": 84,
    "time": "2021-01-20T23:37:46.322Z",
    "type": "execution"
   },
   {
    "id": "1b971edc704e45168327f82f92e09ad9",
    "time": "2021-01-20T23:37:46.487Z",
    "type": "completion"
   },
   {
    "code": "display(ESG.loc[(ESG['Carbon_tonsperMWH']>=.8) & (ESG['Group']=='Big Coal')])",
    "id": "01ced54d9ca146f1a5d91e29e7ee0513",
    "idx": 86,
    "time": "2021-01-20T23:40:45.599Z",
    "type": "execution"
   },
   {
    "id": "01ced54d9ca146f1a5d91e29e7ee0513",
    "time": "2021-01-20T23:40:45.766Z",
    "type": "completion"
   },
   {
    "code": "print(ESG.loc[(ESG['Carbon_tonsperMWH']>=.8) & (ESG['Group']=='Big Coal'), 'Capacity_MW'].sum())",
    "id": "b3d4812934a0419a89fe0f7f6e8f0395",
    "idx": 88,
    "time": "2021-01-20T23:43:00.621Z",
    "type": "execution"
   },
   {
    "id": "b3d4812934a0419a89fe0f7f6e8f0395",
    "time": "2021-01-20T23:43:00.785Z",
    "type": "completion"
   },
   {
    "code": "3+5",
    "id": "8432cd00f05948f7b10ba843e79d6bac",
    "idx": 5,
    "time": "2021-01-20T23:44:53.054Z",
    "type": "execution"
   },
   {
    "code": "140-20",
    "id": "f9138ed827804815bc89efda2fe123d0",
    "idx": 6,
    "time": "2021-01-20T23:44:53.062Z",
    "type": "execution"
   },
   {
    "code": "40/2",
    "id": "42738dd701e048fb82ddb7c3c1843904",
    "idx": 7,
    "time": "2021-01-20T23:44:53.065Z",
    "type": "execution"
   },
   {
    "code": "2*2",
    "id": "c2cd2cf997114ee18483779d3c8c84e0",
    "idx": 8,
    "time": "2021-01-20T23:44:53.068Z",
    "type": "execution"
   },
   {
    "code": "2*(5+1)",
    "id": "08667b00a2ff4afb8844d011df3f20ea",
    "idx": 9,
    "time": "2021-01-20T23:44:53.072Z",
    "type": "execution"
   },
   {
    "code": "3**3",
    "id": "db903c42345646349f62084f86cb0cfa",
    "idx": 11,
    "time": "2021-01-20T23:44:53.076Z",
    "type": "execution"
   },
   {
    "code": "x = 2\ny = 3",
    "id": "e02eb1e33bf24efcbef83ab29fc75ed1",
    "idx": 14,
    "time": "2021-01-20T23:44:53.080Z",
    "type": "execution"
   },
   {
    "code": "print(x)\nprint(y)",
    "id": "2df2d78427a642f588c0715f62629b69",
    "idx": 15,
    "time": "2021-01-20T23:44:53.083Z",
    "type": "execution"
   },
   {
    "code": "x + 3",
    "id": "6ded274a22494f02880e4ed32b9108f9",
    "idx": 17,
    "time": "2021-01-20T23:44:53.087Z",
    "type": "execution"
   },
   {
    "code": "x + y\nprint(x)\nprint(y)",
    "id": "5ea458573eed492b8bc922caec794997",
    "idx": 18,
    "time": "2021-01-20T23:44:53.089Z",
    "type": "execution"
   },
   {
    "code": "x = x + y\nprint(x)\nprint(y)",
    "id": "7de3c978da5346c9a0221082ee95535f",
    "idx": 19,
    "time": "2021-01-20T23:44:53.094Z",
    "type": "execution"
   },
   {
    "code": "print(x)\nprint(y)",
    "id": "73e1e46d20eb4f2abd937b044d053f98",
    "idx": 21,
    "time": "2021-01-20T23:44:53.098Z",
    "type": "execution"
   },
   {
    "code": "print('This is a string')\nprint(\"This is also a string\")",
    "id": "66f0c6bb10a9499f885743e3784be380",
    "idx": 24,
    "time": "2021-01-20T23:44:53.107Z",
    "type": "execution"
   },
   {
    "code": "\"string 1\" + \"string 2\"",
    "id": "25f88d253dcc4e8182c473423399fcce",
    "idx": 26,
    "time": "2021-01-20T23:44:53.110Z",
    "type": "execution"
   },
   {
    "code": "my_string = 'This variable is a string'\nprint(my_string)",
    "id": "e60695c2ec7144759ccec2f9b499101e",
    "idx": 28,
    "time": "2021-01-20T23:44:53.114Z",
    "type": "execution"
   },
   {
    "code": "mylist = []\nprint(mylist)",
    "id": "c0077a220e194139a9a1eddf16f10400",
    "idx": 31,
    "time": "2021-01-20T23:44:53.123Z",
    "type": "execution"
   },
   {
    "code": "mylist = [100]\nprint(mylist)",
    "id": "2cfcd6607d574e09802307ea3f9decb1",
    "idx": 33,
    "time": "2021-01-20T23:44:53.130Z",
    "type": "execution"
   },
   {
    "code": "mylist = [100, 200]\nprint(mylist)",
    "id": "5738ec1c5e15496b93b4eae90062815d",
    "idx": 34,
    "time": "2021-01-20T23:44:53.133Z",
    "type": "execution"
   },
   {
    "code": "mylist = [100, 'a string']\nprint(mylist)",
    "id": "35ff073373bd4e5698955892587c5ac2",
    "idx": 35,
    "time": "2021-01-20T23:44:53.136Z",
    "type": "execution"
   },
   {
    "code": "mylist = [100, 200]\nmylist.append(300)\nprint(mylist)",
    "id": "f7af24eeafbb4ce1b9069605d33a9a9e",
    "idx": 37,
    "time": "2021-01-20T23:44:53.139Z",
    "type": "execution"
   },
   {
    "code": "print(mylist[1])",
    "id": "4bf0db875c8c4aac909fc3166265ba04",
    "idx": 39,
    "time": "2021-01-20T23:44:53.143Z",
    "type": "execution"
   },
   {
    "code": "min(1, 3, 0, 10)",
    "id": "2af46c858ee54bde878be322eb9593cc",
    "idx": 42,
    "time": "2021-01-20T23:44:53.147Z",
    "type": "execution"
   },
   {
    "code": "max(1, 3, 0, 10)",
    "id": "2ac53a59a23f4955bebb95ef583bd4b7",
    "idx": 43,
    "time": "2021-01-20T23:44:53.151Z",
    "type": "execution"
   },
   {
    "code": "x = 2\n\nif x == 3:\n    print (True)",
    "id": "19115bb8524b4233aef01b6d83b9324d",
    "idx": 49,
    "time": "2021-01-20T23:44:53.157Z",
    "type": "execution"
   },
   {
    "code": "x = 2\n\nif x == 3:\n    print (True)\nelse:\n    print (False)",
    "id": "811691031f524f5ebf6b5f9d95611ae5",
    "idx": 50,
    "time": "2021-01-20T23:44:53.160Z",
    "type": "execution"
   },
   {
    "code": "x = 2\n\nif (x == 2) | (x == 3):\n    print (True)\nelse:\n    print (False)",
    "id": "4d7f38ac7a8646e69ceb5b0073b7988b",
    "idx": 52,
    "time": "2021-01-20T23:44:53.163Z",
    "type": "execution"
   },
   {
    "code": "for i in [3, 2, 1]:   \n    print(i)\n\nprint(i)",
    "id": "493127b96a7a4f7dbb9e1a3548d5c748",
    "idx": 56,
    "time": "2021-01-20T23:44:53.175Z",
    "type": "execution"
   },
   {
    "code": "for i in range(3):\n    print(i)",
    "id": "a4c5b917179445d29218031ab1b9d2f8",
    "idx": 59,
    "time": "2021-01-20T23:44:53.181Z",
    "type": "execution"
   },
   {
    "code": "mylist = [100, 200, 300]\nfor i in range(len(mylist)):\n    print(i, mylist[i])",
    "id": "c894f2595439421e855d8628e23e0b7b",
    "idx": 61,
    "time": "2021-01-20T23:44:53.186Z",
    "type": "execution"
   },
   {
    "code": "import pandas as pd",
    "id": "e212ec66590345a68938585d29ccab0f",
    "idx": 64,
    "time": "2021-01-20T23:44:53.190Z",
    "type": "execution"
   },
   {
    "code": "ESG = pd.read_csv('ESGPorfolios.csv')\ndisplay(ESG.head())",
    "id": "86468e54e2714f4a84791d9918f1a20b",
    "idx": 66,
    "time": "2021-01-20T23:44:53.198Z",
    "type": "execution"
   },
   {
    "code": "ESG['Capacity_MW'].head()",
    "id": "da0017614521433c827758d0862207ba",
    "idx": 68,
    "time": "2021-01-20T23:44:53.208Z",
    "type": "execution"
   },
   {
    "code": "ESG[ESG['Group'] == 'East Bay']",
    "id": "fef346366eee4beb81325f9cb3f9e48d",
    "idx": 70,
    "time": "2021-01-20T23:44:53.214Z",
    "type": "execution"
   },
   {
    "code": "import matplotlib.pyplot as plt",
    "id": "eac2daec186a4d0e994c7376e4249a1e",
    "idx": 72,
    "time": "2021-01-20T23:44:53.219Z",
    "type": "execution"
   },
   {
    "code": "plt.scatter(x = ESG['Total_Var_Cost_USDperMWH'], y = ESG['Carbon_tonsperMWH'])\nplt.title('Variable Cost vs. Emissions')\nplt.xlabel('Total Variable Cost USD per MWH')\nplt.ylabel('Carbon Tons per MWH')\nplt.show()",
    "id": "4b291b64b30a42eab46ea2cc187d17c6",
    "idx": 74,
    "time": "2021-01-20T23:44:53.228Z",
    "type": "execution"
   },
   {
    "code": "ESG = ESG.sort_values('Total_Var_Cost_USDperMWH', ascending=True, ignore_index=True)\ndisplay(ESG.head())",
    "id": "71884ed959a14a19846e60312525d1f9",
    "idx": 76,
    "time": "2021-01-20T23:44:53.236Z",
    "type": "execution"
   },
   {
    "code": "import numpy as np\n\nESG['Total_Carbon_Emissions'] = ESG['Capacity_MW'] * ESG['Carbon_tonsperMWH']\ndisplay(ESG.head())",
    "id": "996c09bf66a24af79d91b7fa57460898",
    "idx": 78,
    "time": "2021-01-20T23:44:53.245Z",
    "type": "execution"
   },
   {
    "code": "helms_capacity = ESG.loc[ESG['UNIT NAME'] == 'HELMS', 'Capacity_MW']\nprint(helms_capacity)",
    "id": "32e0cfad528a46fb9c56241a034be90f",
    "idx": 80,
    "time": "2021-01-20T23:44:53.252Z",
    "type": "execution"
   },
   {
    "code": "helms_capacity = ESG.loc[ESG['UNIT NAME'] == 'HELMS', 'Capacity_MW'].values[0]\nprint(helms_capacity)",
    "id": "33e81f76479746f78bd6e205840a9ff5",
    "idx": 82,
    "time": "2021-01-20T23:44:53.256Z",
    "type": "execution"
   },
   {
    "code": "display(ESG.loc[ESG['Carbon_tonsperMWH']>=.8])",
    "id": "1b971edc704e45168327f82f92e09ad9",
    "idx": 84,
    "time": "2021-01-20T23:44:53.268Z",
    "type": "execution"
   },
   {
    "code": "display(ESG.loc[(ESG['Carbon_tonsperMWH']>=.8) & (ESG['Group']=='Big Coal')])",
    "id": "01ced54d9ca146f1a5d91e29e7ee0513",
    "idx": 86,
    "time": "2021-01-20T23:44:53.275Z",
    "type": "execution"
   },
   {
    "code": "print(ESG.loc[(ESG['Carbon_tonsperMWH']>=.8) & (ESG['Group']=='Big Coal'), 'Capacity_MW'].sum())",
    "id": "b3d4812934a0419a89fe0f7f6e8f0395",
    "idx": 88,
    "time": "2021-01-20T23:44:53.282Z",
    "type": "execution"
   },
   {
    "code": "help(plt.scatter)",
    "id": "ef858998169a440086446a5a9d198977",
    "idx": 92,
    "time": "2021-01-20T23:44:53.289Z",
    "type": "execution"
   },
   {
    "code": "%who",
    "id": "0f2c5d28dfbe46168b7d1959c1c9ec30",
    "idx": 94,
    "time": "2021-01-20T23:44:53.294Z",
    "type": "execution"
   },
   {
    "id": "8432cd00f05948f7b10ba843e79d6bac",
    "time": "2021-01-20T23:44:53.521Z",
    "type": "completion"
   },
   {
    "id": "f9138ed827804815bc89efda2fe123d0",
    "time": "2021-01-20T23:44:53.530Z",
    "type": "completion"
   },
   {
    "id": "42738dd701e048fb82ddb7c3c1843904",
    "time": "2021-01-20T23:44:53.533Z",
    "type": "completion"
   },
   {
    "id": "c2cd2cf997114ee18483779d3c8c84e0",
    "time": "2021-01-20T23:44:53.535Z",
    "type": "completion"
   },
   {
    "id": "08667b00a2ff4afb8844d011df3f20ea",
    "time": "2021-01-20T23:44:53.538Z",
    "type": "completion"
   },
   {
    "id": "db903c42345646349f62084f86cb0cfa",
    "time": "2021-01-20T23:44:53.543Z",
    "type": "completion"
   },
   {
    "id": "e02eb1e33bf24efcbef83ab29fc75ed1",
    "time": "2021-01-20T23:44:53.545Z",
    "type": "completion"
   },
   {
    "id": "2df2d78427a642f588c0715f62629b69",
    "time": "2021-01-20T23:44:53.548Z",
    "type": "completion"
   },
   {
    "id": "6ded274a22494f02880e4ed32b9108f9",
    "time": "2021-01-20T23:44:53.551Z",
    "type": "completion"
   },
   {
    "id": "5ea458573eed492b8bc922caec794997",
    "time": "2021-01-20T23:44:53.553Z",
    "type": "completion"
   },
   {
    "id": "7de3c978da5346c9a0221082ee95535f",
    "time": "2021-01-20T23:44:53.611Z",
    "type": "completion"
   },
   {
    "id": "73e1e46d20eb4f2abd937b044d053f98",
    "time": "2021-01-20T23:44:53.613Z",
    "type": "completion"
   },
   {
    "id": "66f0c6bb10a9499f885743e3784be380",
    "time": "2021-01-20T23:44:53.619Z",
    "type": "completion"
   },
   {
    "id": "25f88d253dcc4e8182c473423399fcce",
    "time": "2021-01-20T23:44:53.627Z",
    "type": "completion"
   },
   {
    "id": "e60695c2ec7144759ccec2f9b499101e",
    "time": "2021-01-20T23:44:53.630Z",
    "type": "completion"
   },
   {
    "id": "c0077a220e194139a9a1eddf16f10400",
    "time": "2021-01-20T23:44:53.632Z",
    "type": "completion"
   },
   {
    "id": "2cfcd6607d574e09802307ea3f9decb1",
    "time": "2021-01-20T23:44:53.636Z",
    "type": "completion"
   },
   {
    "id": "5738ec1c5e15496b93b4eae90062815d",
    "time": "2021-01-20T23:44:53.646Z",
    "type": "completion"
   },
   {
    "id": "35ff073373bd4e5698955892587c5ac2",
    "time": "2021-01-20T23:44:53.648Z",
    "type": "completion"
   },
   {
    "id": "f7af24eeafbb4ce1b9069605d33a9a9e",
    "time": "2021-01-20T23:44:53.650Z",
    "type": "completion"
   },
   {
    "id": "4bf0db875c8c4aac909fc3166265ba04",
    "time": "2021-01-20T23:44:53.652Z",
    "type": "completion"
   },
   {
    "id": "2af46c858ee54bde878be322eb9593cc",
    "time": "2021-01-20T23:44:53.655Z",
    "type": "completion"
   },
   {
    "id": "2ac53a59a23f4955bebb95ef583bd4b7",
    "time": "2021-01-20T23:44:53.658Z",
    "type": "completion"
   },
   {
    "id": "19115bb8524b4233aef01b6d83b9324d",
    "time": "2021-01-20T23:44:53.659Z",
    "type": "completion"
   },
   {
    "id": "811691031f524f5ebf6b5f9d95611ae5",
    "time": "2021-01-20T23:44:53.660Z",
    "type": "completion"
   },
   {
    "id": "4d7f38ac7a8646e69ceb5b0073b7988b",
    "time": "2021-01-20T23:44:53.729Z",
    "type": "completion"
   },
   {
    "id": "493127b96a7a4f7dbb9e1a3548d5c748",
    "time": "2021-01-20T23:44:53.735Z",
    "type": "completion"
   },
   {
    "id": "a4c5b917179445d29218031ab1b9d2f8",
    "time": "2021-01-20T23:44:53.746Z",
    "type": "completion"
   },
   {
    "id": "c894f2595439421e855d8628e23e0b7b",
    "time": "2021-01-20T23:44:53.749Z",
    "type": "completion"
   },
   {
    "id": "e212ec66590345a68938585d29ccab0f",
    "time": "2021-01-20T23:44:53.802Z",
    "type": "completion"
   },
   {
    "id": "86468e54e2714f4a84791d9918f1a20b",
    "time": "2021-01-20T23:44:53.810Z",
    "type": "completion"
   },
   {
    "id": "da0017614521433c827758d0862207ba",
    "time": "2021-01-20T23:44:53.816Z",
    "type": "completion"
   },
   {
    "id": "fef346366eee4beb81325f9cb3f9e48d",
    "time": "2021-01-20T23:44:53.818Z",
    "type": "completion"
   },
   {
    "id": "eac2daec186a4d0e994c7376e4249a1e",
    "time": "2021-01-20T23:44:53.967Z",
    "type": "completion"
   },
   {
    "id": "4b291b64b30a42eab46ea2cc187d17c6",
    "time": "2021-01-20T23:44:54.261Z",
    "type": "completion"
   },
   {
    "id": "71884ed959a14a19846e60312525d1f9",
    "time": "2021-01-20T23:44:54.268Z",
    "type": "completion"
   },
   {
    "id": "996c09bf66a24af79d91b7fa57460898",
    "time": "2021-01-20T23:44:54.275Z",
    "type": "completion"
   },
   {
    "id": "32e0cfad528a46fb9c56241a034be90f",
    "time": "2021-01-20T23:44:54.278Z",
    "type": "completion"
   },
   {
    "id": "33e81f76479746f78bd6e205840a9ff5",
    "time": "2021-01-20T23:44:54.279Z",
    "type": "completion"
   },
   {
    "id": "1b971edc704e45168327f82f92e09ad9",
    "time": "2021-01-20T23:44:54.336Z",
    "type": "completion"
   },
   {
    "id": "01ced54d9ca146f1a5d91e29e7ee0513",
    "time": "2021-01-20T23:44:54.352Z",
    "type": "completion"
   },
   {
    "id": "b3d4812934a0419a89fe0f7f6e8f0395",
    "time": "2021-01-20T23:44:54.360Z",
    "type": "completion"
   },
   {
    "id": "ef858998169a440086446a5a9d198977",
    "time": "2021-01-20T23:44:54.362Z",
    "type": "completion"
   },
   {
    "id": "0f2c5d28dfbe46168b7d1959c1c9ec30",
    "time": "2021-01-20T23:44:54.365Z",
    "type": "completion"
   },
   {
    "code": "row_conditions = (ESG['Carbon_tonsperMWH']>=.8) & (ESG['Group']=='Big Coal')\ndisplay(ESG.loc[row_conditions])",
    "id": "bb6970345db341b08012e5e6f6c7b0c2",
    "idx": 88,
    "time": "2021-01-20T23:47:14.269Z",
    "type": "execution"
   },
   {
    "id": "bb6970345db341b08012e5e6f6c7b0c2",
    "time": "2021-01-20T23:47:14.434Z",
    "type": "completion"
   },
   {
    "code": "print(ESG.loc[row_conditions, 'Capacity_MW'].sum())",
    "id": "b3d4812934a0419a89fe0f7f6e8f0395",
    "idx": 90,
    "time": "2021-01-20T23:47:24.082Z",
    "type": "execution"
   },
   {
    "id": "b3d4812934a0419a89fe0f7f6e8f0395",
    "time": "2021-01-20T23:47:24.238Z",
    "type": "completion"
   },
   {
    "code": "3+5",
    "id": "8432cd00f05948f7b10ba843e79d6bac",
    "idx": 5,
    "time": "2021-01-20T23:51:56.143Z",
    "type": "execution"
   },
   {
    "code": "140-20",
    "id": "f9138ed827804815bc89efda2fe123d0",
    "idx": 6,
    "time": "2021-01-20T23:51:56.153Z",
    "type": "execution"
   },
   {
    "code": "40/2",
    "id": "42738dd701e048fb82ddb7c3c1843904",
    "idx": 7,
    "time": "2021-01-20T23:51:56.157Z",
    "type": "execution"
   },
   {
    "code": "2*2",
    "id": "c2cd2cf997114ee18483779d3c8c84e0",
    "idx": 8,
    "time": "2021-01-20T23:51:56.160Z",
    "type": "execution"
   },
   {
    "code": "2*(5+1)",
    "id": "08667b00a2ff4afb8844d011df3f20ea",
    "idx": 9,
    "time": "2021-01-20T23:51:56.164Z",
    "type": "execution"
   },
   {
    "code": "3**3",
    "id": "db903c42345646349f62084f86cb0cfa",
    "idx": 11,
    "time": "2021-01-20T23:51:56.172Z",
    "type": "execution"
   },
   {
    "code": "x = 2\ny = 3",
    "id": "e02eb1e33bf24efcbef83ab29fc75ed1",
    "idx": 14,
    "time": "2021-01-20T23:51:56.178Z",
    "type": "execution"
   },
   {
    "code": "print(x)\nprint(y)",
    "id": "2df2d78427a642f588c0715f62629b69",
    "idx": 15,
    "time": "2021-01-20T23:51:56.183Z",
    "type": "execution"
   },
   {
    "code": "x + 3",
    "id": "6ded274a22494f02880e4ed32b9108f9",
    "idx": 17,
    "time": "2021-01-20T23:51:56.188Z",
    "type": "execution"
   },
   {
    "code": "x + y\nprint(x)\nprint(y)",
    "id": "5ea458573eed492b8bc922caec794997",
    "idx": 18,
    "time": "2021-01-20T23:51:56.192Z",
    "type": "execution"
   },
   {
    "code": "x = x + y\nprint(x)\nprint(y)",
    "id": "7de3c978da5346c9a0221082ee95535f",
    "idx": 19,
    "time": "2021-01-20T23:51:56.196Z",
    "type": "execution"
   },
   {
    "code": "print(x)\nprint(y)",
    "id": "73e1e46d20eb4f2abd937b044d053f98",
    "idx": 21,
    "time": "2021-01-20T23:51:56.202Z",
    "type": "execution"
   },
   {
    "code": "print('This is a string')\nprint(\"This is also a string\")",
    "id": "66f0c6bb10a9499f885743e3784be380",
    "idx": 24,
    "time": "2021-01-20T23:51:56.209Z",
    "type": "execution"
   },
   {
    "code": "\"string 1\" + \"string 2\"",
    "id": "25f88d253dcc4e8182c473423399fcce",
    "idx": 26,
    "time": "2021-01-20T23:51:56.213Z",
    "type": "execution"
   },
   {
    "code": "my_string = 'This variable is a string'\nprint(my_string)",
    "id": "e60695c2ec7144759ccec2f9b499101e",
    "idx": 28,
    "time": "2021-01-20T23:51:56.220Z",
    "type": "execution"
   },
   {
    "code": "mylist = []\nprint(mylist)",
    "id": "c0077a220e194139a9a1eddf16f10400",
    "idx": 31,
    "time": "2021-01-20T23:51:56.234Z",
    "type": "execution"
   },
   {
    "code": "mylist = [100]\nprint(mylist)",
    "id": "2cfcd6607d574e09802307ea3f9decb1",
    "idx": 33,
    "time": "2021-01-20T23:51:56.241Z",
    "type": "execution"
   },
   {
    "code": "mylist = [100, 200]\nprint(mylist)",
    "id": "5738ec1c5e15496b93b4eae90062815d",
    "idx": 34,
    "time": "2021-01-20T23:51:56.245Z",
    "type": "execution"
   },
   {
    "code": "mylist = [100, 'a string']\nprint(mylist)",
    "id": "35ff073373bd4e5698955892587c5ac2",
    "idx": 35,
    "time": "2021-01-20T23:51:56.258Z",
    "type": "execution"
   },
   {
    "code": "mylist = [100, 200]\nmylist.append(300)\nprint(mylist)",
    "id": "f7af24eeafbb4ce1b9069605d33a9a9e",
    "idx": 37,
    "time": "2021-01-20T23:51:56.262Z",
    "type": "execution"
   },
   {
    "code": "print(mylist[1])",
    "id": "4bf0db875c8c4aac909fc3166265ba04",
    "idx": 39,
    "time": "2021-01-20T23:51:56.267Z",
    "type": "execution"
   },
   {
    "code": "min(1, 3, 0, 10)",
    "id": "2af46c858ee54bde878be322eb9593cc",
    "idx": 42,
    "time": "2021-01-20T23:51:56.272Z",
    "type": "execution"
   },
   {
    "code": "max(1, 3, 0, 10)",
    "id": "2ac53a59a23f4955bebb95ef583bd4b7",
    "idx": 43,
    "time": "2021-01-20T23:51:56.275Z",
    "type": "execution"
   },
   {
    "code": "x = 2\n\nif x == 3:\n    print (True)",
    "id": "19115bb8524b4233aef01b6d83b9324d",
    "idx": 49,
    "time": "2021-01-20T23:51:56.281Z",
    "type": "execution"
   },
   {
    "code": "x = 2\n\nif x == 3:\n    print (True)\nelse:\n    print (False)",
    "id": "811691031f524f5ebf6b5f9d95611ae5",
    "idx": 50,
    "time": "2021-01-20T23:51:56.284Z",
    "type": "execution"
   },
   {
    "code": "x = 2\n\nif (x == 2) | (x == 3):\n    print (True)\nelse:\n    print (False)",
    "id": "4d7f38ac7a8646e69ceb5b0073b7988b",
    "idx": 52,
    "time": "2021-01-20T23:51:56.288Z",
    "type": "execution"
   },
   {
    "code": "for i in [3, 2, 1]:   \n    print(i)\n\nprint(i)",
    "id": "493127b96a7a4f7dbb9e1a3548d5c748",
    "idx": 56,
    "time": "2021-01-20T23:51:56.292Z",
    "type": "execution"
   },
   {
    "code": "for i in range(3):\n    print(i)",
    "id": "a4c5b917179445d29218031ab1b9d2f8",
    "idx": 59,
    "time": "2021-01-20T23:51:56.299Z",
    "type": "execution"
   },
   {
    "code": "mylist = [100, 200, 300]\nfor i in range(len(mylist)):\n    print(i, mylist[i])",
    "id": "c894f2595439421e855d8628e23e0b7b",
    "idx": 61,
    "time": "2021-01-20T23:51:56.303Z",
    "type": "execution"
   },
   {
    "code": "import pandas as pd",
    "id": "e212ec66590345a68938585d29ccab0f",
    "idx": 64,
    "time": "2021-01-20T23:51:56.307Z",
    "type": "execution"
   },
   {
    "code": "ESG = pd.read_csv('ESGPorfolios.csv')\ndisplay(ESG.head())",
    "id": "86468e54e2714f4a84791d9918f1a20b",
    "idx": 66,
    "time": "2021-01-20T23:51:56.314Z",
    "type": "execution"
   },
   {
    "code": "ESG['Capacity_MW'].head()",
    "id": "da0017614521433c827758d0862207ba",
    "idx": 68,
    "time": "2021-01-20T23:51:56.321Z",
    "type": "execution"
   },
   {
    "code": "ESG[ESG['Group'] == 'East Bay']",
    "id": "fef346366eee4beb81325f9cb3f9e48d",
    "idx": 70,
    "time": "2021-01-20T23:51:56.328Z",
    "type": "execution"
   },
   {
    "code": "import matplotlib.pyplot as plt",
    "id": "eac2daec186a4d0e994c7376e4249a1e",
    "idx": 72,
    "time": "2021-01-20T23:51:56.337Z",
    "type": "execution"
   },
   {
    "code": "plt.scatter(x = ESG['Total_Var_Cost_USDperMWH'], y = ESG['Carbon_tonsperMWH'])\nplt.title('Variable Cost vs. Emissions')\nplt.xlabel('Total Variable Cost USD per MWH')\nplt.ylabel('Carbon Tons per MWH')\nplt.show()",
    "id": "4b291b64b30a42eab46ea2cc187d17c6",
    "idx": 74,
    "time": "2021-01-20T23:51:56.342Z",
    "type": "execution"
   },
   {
    "code": "ESG = ESG.sort_values('Total_Var_Cost_USDperMWH', ascending=True, ignore_index=True)\ndisplay(ESG.head())",
    "id": "71884ed959a14a19846e60312525d1f9",
    "idx": 76,
    "time": "2021-01-20T23:51:56.349Z",
    "type": "execution"
   },
   {
    "code": "import numpy as np\n\nESG['Total_Carbon_Emissions'] = ESG['Capacity_MW'] * ESG['Carbon_tonsperMWH']\ndisplay(ESG.head())",
    "id": "996c09bf66a24af79d91b7fa57460898",
    "idx": 78,
    "time": "2021-01-20T23:51:56.354Z",
    "type": "execution"
   },
   {
    "code": "helms_capacity = ESG.loc[ESG['UNIT NAME'] == 'HELMS', 'Capacity_MW']\nprint(helms_capacity)",
    "id": "32e0cfad528a46fb9c56241a034be90f",
    "idx": 80,
    "time": "2021-01-20T23:51:56.359Z",
    "type": "execution"
   },
   {
    "code": "helms_capacity = ESG.loc[ESG['UNIT NAME'] == 'HELMS', 'Capacity_MW'].values[0]\nprint(helms_capacity)",
    "id": "33e81f76479746f78bd6e205840a9ff5",
    "idx": 82,
    "time": "2021-01-20T23:51:56.364Z",
    "type": "execution"
   },
   {
    "code": "display(ESG.loc[ESG['Carbon_tonsperMWH']>=.8])",
    "id": "1b971edc704e45168327f82f92e09ad9",
    "idx": 84,
    "time": "2021-01-20T23:51:56.370Z",
    "type": "execution"
   },
   {
    "code": "display(ESG.loc[(ESG['Carbon_tonsperMWH']>=.8) & (ESG['Group']=='Big Coal')])",
    "id": "01ced54d9ca146f1a5d91e29e7ee0513",
    "idx": 86,
    "time": "2021-01-20T23:51:56.375Z",
    "type": "execution"
   },
   {
    "code": "row_conditions = (ESG['Carbon_tonsperMWH']>=.8) & (ESG['Group']=='Big Coal')\ndisplay(ESG.loc[row_conditions])",
    "id": "bb6970345db341b08012e5e6f6c7b0c2",
    "idx": 88,
    "time": "2021-01-20T23:51:56.385Z",
    "type": "execution"
   },
   {
    "code": "print(ESG.loc[row_conditions, 'Capacity_MW'].sum())",
    "id": "b3d4812934a0419a89fe0f7f6e8f0395",
    "idx": 90,
    "time": "2021-01-20T23:51:56.392Z",
    "type": "execution"
   },
   {
    "code": "help(plt.scatter)",
    "id": "ef858998169a440086446a5a9d198977",
    "idx": 94,
    "time": "2021-01-20T23:51:56.398Z",
    "type": "execution"
   },
   {
    "code": "%who",
    "id": "0f2c5d28dfbe46168b7d1959c1c9ec30",
    "idx": 96,
    "time": "2021-01-20T23:51:56.401Z",
    "type": "execution"
   },
   {
    "id": "8432cd00f05948f7b10ba843e79d6bac",
    "time": "2021-01-20T23:51:56.500Z",
    "type": "completion"
   },
   {
    "id": "f9138ed827804815bc89efda2fe123d0",
    "time": "2021-01-20T23:51:56.524Z",
    "type": "completion"
   },
   {
    "id": "42738dd701e048fb82ddb7c3c1843904",
    "time": "2021-01-20T23:51:56.527Z",
    "type": "completion"
   },
   {
    "id": "c2cd2cf997114ee18483779d3c8c84e0",
    "time": "2021-01-20T23:51:56.532Z",
    "type": "completion"
   },
   {
    "id": "08667b00a2ff4afb8844d011df3f20ea",
    "time": "2021-01-20T23:51:56.535Z",
    "type": "completion"
   },
   {
    "id": "db903c42345646349f62084f86cb0cfa",
    "time": "2021-01-20T23:51:56.659Z",
    "type": "completion"
   },
   {
    "id": "e02eb1e33bf24efcbef83ab29fc75ed1",
    "time": "2021-01-20T23:51:56.662Z",
    "type": "completion"
   },
   {
    "id": "2df2d78427a642f588c0715f62629b69",
    "time": "2021-01-20T23:51:56.676Z",
    "type": "completion"
   },
   {
    "id": "6ded274a22494f02880e4ed32b9108f9",
    "time": "2021-01-20T23:51:56.691Z",
    "type": "completion"
   },
   {
    "id": "5ea458573eed492b8bc922caec794997",
    "time": "2021-01-20T23:51:56.696Z",
    "type": "completion"
   },
   {
    "id": "7de3c978da5346c9a0221082ee95535f",
    "time": "2021-01-20T23:51:56.753Z",
    "type": "completion"
   },
   {
    "id": "73e1e46d20eb4f2abd937b044d053f98",
    "time": "2021-01-20T23:51:56.771Z",
    "type": "completion"
   },
   {
    "id": "66f0c6bb10a9499f885743e3784be380",
    "time": "2021-01-20T23:51:56.776Z",
    "type": "completion"
   },
   {
    "id": "25f88d253dcc4e8182c473423399fcce",
    "time": "2021-01-20T23:51:56.781Z",
    "type": "completion"
   },
   {
    "id": "e60695c2ec7144759ccec2f9b499101e",
    "time": "2021-01-20T23:51:56.796Z",
    "type": "completion"
   },
   {
    "id": "c0077a220e194139a9a1eddf16f10400",
    "time": "2021-01-20T23:51:56.888Z",
    "type": "completion"
   },
   {
    "id": "2cfcd6607d574e09802307ea3f9decb1",
    "time": "2021-01-20T23:51:56.894Z",
    "type": "completion"
   },
   {
    "id": "5738ec1c5e15496b93b4eae90062815d",
    "time": "2021-01-20T23:51:56.897Z",
    "type": "completion"
   },
   {
    "id": "35ff073373bd4e5698955892587c5ac2",
    "time": "2021-01-20T23:51:56.930Z",
    "type": "completion"
   },
   {
    "id": "f7af24eeafbb4ce1b9069605d33a9a9e",
    "time": "2021-01-20T23:51:57.023Z",
    "type": "completion"
   },
   {
    "id": "4bf0db875c8c4aac909fc3166265ba04",
    "time": "2021-01-20T23:51:57.027Z",
    "type": "completion"
   },
   {
    "id": "2af46c858ee54bde878be322eb9593cc",
    "time": "2021-01-20T23:51:57.033Z",
    "type": "completion"
   },
   {
    "id": "2ac53a59a23f4955bebb95ef583bd4b7",
    "time": "2021-01-20T23:51:57.057Z",
    "type": "completion"
   },
   {
    "id": "19115bb8524b4233aef01b6d83b9324d",
    "time": "2021-01-20T23:51:57.105Z",
    "type": "completion"
   },
   {
    "id": "811691031f524f5ebf6b5f9d95611ae5",
    "time": "2021-01-20T23:51:57.165Z",
    "type": "completion"
   },
   {
    "id": "4d7f38ac7a8646e69ceb5b0073b7988b",
    "time": "2021-01-20T23:51:57.170Z",
    "type": "completion"
   },
   {
    "id": "493127b96a7a4f7dbb9e1a3548d5c748",
    "time": "2021-01-20T23:51:57.173Z",
    "type": "completion"
   },
   {
    "id": "a4c5b917179445d29218031ab1b9d2f8",
    "time": "2021-01-20T23:51:57.195Z",
    "type": "completion"
   },
   {
    "id": "c894f2595439421e855d8628e23e0b7b",
    "time": "2021-01-20T23:51:57.240Z",
    "type": "completion"
   },
   {
    "id": "e212ec66590345a68938585d29ccab0f",
    "time": "2021-01-20T23:51:57.300Z",
    "type": "completion"
   },
   {
    "id": "86468e54e2714f4a84791d9918f1a20b",
    "time": "2021-01-20T23:51:57.321Z",
    "type": "completion"
   },
   {
    "id": "da0017614521433c827758d0862207ba",
    "time": "2021-01-20T23:51:57.434Z",
    "type": "completion"
   },
   {
    "id": "fef346366eee4beb81325f9cb3f9e48d",
    "time": "2021-01-20T23:51:57.439Z",
    "type": "completion"
   },
   {
    "id": "eac2daec186a4d0e994c7376e4249a1e",
    "time": "2021-01-20T23:51:57.440Z",
    "type": "completion"
   },
   {
    "id": "4b291b64b30a42eab46ea2cc187d17c6",
    "time": "2021-01-20T23:51:57.590Z",
    "type": "completion"
   },
   {
    "id": "71884ed959a14a19846e60312525d1f9",
    "time": "2021-01-20T23:51:57.601Z",
    "type": "completion"
   },
   {
    "id": "996c09bf66a24af79d91b7fa57460898",
    "time": "2021-01-20T23:51:57.630Z",
    "type": "completion"
   },
   {
    "id": "32e0cfad528a46fb9c56241a034be90f",
    "time": "2021-01-20T23:51:57.653Z",
    "type": "completion"
   },
   {
    "id": "33e81f76479746f78bd6e205840a9ff5",
    "time": "2021-01-20T23:51:57.711Z",
    "type": "completion"
   },
   {
    "id": "1b971edc704e45168327f82f92e09ad9",
    "time": "2021-01-20T23:51:57.726Z",
    "type": "completion"
   },
   {
    "id": "01ced54d9ca146f1a5d91e29e7ee0513",
    "time": "2021-01-20T23:51:57.794Z",
    "type": "completion"
   },
   {
    "id": "bb6970345db341b08012e5e6f6c7b0c2",
    "time": "2021-01-20T23:51:57.853Z",
    "type": "completion"
   },
   {
    "id": "b3d4812934a0419a89fe0f7f6e8f0395",
    "time": "2021-01-20T23:51:57.858Z",
    "type": "completion"
   },
   {
    "id": "ef858998169a440086446a5a9d198977",
    "time": "2021-01-20T23:51:57.927Z",
    "type": "completion"
   },
   {
    "id": "0f2c5d28dfbe46168b7d1959c1c9ec30",
    "time": "2021-01-20T23:51:57.938Z",
    "type": "completion"
   },
   {
    "code": "3+5",
    "id": "1b046196a11741f68f057ed87ec242be",
    "idx": 5,
    "time": "2021-01-26T00:08:06.757Z",
    "type": "execution"
   },
   {
    "code": "140-20",
    "id": "cf508e89e9e64f1c826ae0cf742ee900",
    "idx": 6,
    "time": "2021-01-26T00:08:06.769Z",
    "type": "execution"
   },
   {
    "code": "40/2",
    "id": "0ae99f348e75415d8744ab3a9c09c925",
    "idx": 7,
    "time": "2021-01-26T00:08:06.774Z",
    "type": "execution"
   },
   {
    "code": "2*2",
    "id": "10a0c61538a94780881bf30acd4b380a",
    "idx": 8,
    "time": "2021-01-26T00:08:06.779Z",
    "type": "execution"
   },
   {
    "code": "2*(5+1)",
    "id": "60bd4ef6394448208beaf80b13964fa7",
    "idx": 9,
    "time": "2021-01-26T00:08:06.785Z",
    "type": "execution"
   },
   {
    "code": "3**3",
    "id": "c2637f11d02e481ebf88a2b73688b57f",
    "idx": 11,
    "time": "2021-01-26T00:08:06.790Z",
    "type": "execution"
   },
   {
    "code": "x = 2\ny = 3",
    "id": "78f4e6c6573e4356827ba4c878214097",
    "idx": 14,
    "time": "2021-01-26T00:08:06.795Z",
    "type": "execution"
   },
   {
    "code": "print(x)\nprint(y)",
    "id": "a11b29a459e541268b3e61f5694c68d6",
    "idx": 15,
    "time": "2021-01-26T00:08:06.801Z",
    "type": "execution"
   },
   {
    "code": "x + 3",
    "id": "64cb4ebe08f243a78d0b9a7273f1db5e",
    "idx": 17,
    "time": "2021-01-26T00:08:06.807Z",
    "type": "execution"
   },
   {
    "code": "x + y\nprint(x)\nprint(y)",
    "id": "365b8d92773a430093dd820c56447da1",
    "idx": 18,
    "time": "2021-01-26T00:08:06.812Z",
    "type": "execution"
   },
   {
    "code": "x = x + y\nprint(x)\nprint(y)",
    "id": "86942a6bb7ed4a4199e235dae5d899df",
    "idx": 19,
    "time": "2021-01-26T00:08:06.817Z",
    "type": "execution"
   },
   {
    "code": "print(x)\nprint(y)",
    "id": "1ef811885a794273874f858bf5904482",
    "idx": 21,
    "time": "2021-01-26T00:08:06.824Z",
    "type": "execution"
   },
   {
    "code": "print('This is a string')\nprint(\"This is also a string\")",
    "id": "26af8d778e38496a9dc562875aa56ff4",
    "idx": 24,
    "time": "2021-01-26T00:08:06.830Z",
    "type": "execution"
   },
   {
    "code": "\"string 1\" + \"string 2\"",
    "id": "7c1163295aa44dffa972982dbbf0a75a",
    "idx": 26,
    "time": "2021-01-26T00:08:06.836Z",
    "type": "execution"
   },
   {
    "code": "my_string = 'This variable is a string'\nprint(my_string)",
    "id": "2b8b09d318c14c3e88dc5c6b14f0ca65",
    "idx": 28,
    "time": "2021-01-26T00:08:06.842Z",
    "type": "execution"
   },
   {
    "code": "mylist = []\nprint(mylist)",
    "id": "ea0b002ba2fc447b8862429326d0bc09",
    "idx": 31,
    "time": "2021-01-26T00:08:06.848Z",
    "type": "execution"
   },
   {
    "code": "mylist = [100]\nprint(mylist)",
    "id": "60cc0971039441e886270e2b333bc8ef",
    "idx": 33,
    "time": "2021-01-26T00:08:06.854Z",
    "type": "execution"
   },
   {
    "code": "mylist = [100, 200]\nprint(mylist)",
    "id": "3d734252848940ee9841b0adeb5fff3a",
    "idx": 34,
    "time": "2021-01-26T00:08:06.858Z",
    "type": "execution"
   },
   {
    "code": "mylist = [100, 'a string']\nprint(mylist)",
    "id": "88eb6adef1ee4111ad66b43785f783a0",
    "idx": 35,
    "time": "2021-01-26T00:08:06.865Z",
    "type": "execution"
   },
   {
    "code": "mylist = [100, 200]\nmylist.append(300)\nprint(mylist)",
    "id": "f892c8bf72894f5db889fe921b0d3c51",
    "idx": 37,
    "time": "2021-01-26T00:08:06.873Z",
    "type": "execution"
   },
   {
    "code": "print(mylist[1])",
    "id": "636109077d5a40f28136c66af3031618",
    "idx": 39,
    "time": "2021-01-26T00:08:06.880Z",
    "type": "execution"
   },
   {
    "code": "min(1, 3, 0, 10)",
    "id": "52ddad3aa58b458a8a578f12507d116d",
    "idx": 42,
    "time": "2021-01-26T00:08:06.889Z",
    "type": "execution"
   },
   {
    "code": "max(1, 3, 0, 10)",
    "id": "2ace0afe391b456b86844f2814152faf",
    "idx": 43,
    "time": "2021-01-26T00:08:06.893Z",
    "type": "execution"
   },
   {
    "code": "x = 2\n\nif x == 3:\n    print (True)",
    "id": "a482daded811496db0333c013371726b",
    "idx": 49,
    "time": "2021-01-26T00:08:06.901Z",
    "type": "execution"
   },
   {
    "code": "x = 2\n\nif x == 3:\n    print (True)\nelse:\n    print (False)",
    "id": "616bbef4e4d2415380b5dd021bc4c90a",
    "idx": 50,
    "time": "2021-01-26T00:08:06.906Z",
    "type": "execution"
   },
   {
    "code": "x = 2\n\nif (x == 2) | (x == 3):\n    print (True)\nelse:\n    print (False)",
    "id": "4c5ba321d5fb44beb274fcd9021d366e",
    "idx": 52,
    "time": "2021-01-26T00:08:06.913Z",
    "type": "execution"
   },
   {
    "code": "for i in [3, 2, 1]:   \n    print(i)\n\nprint(i)",
    "id": "ed99b3c42df043f48d75df8615963850",
    "idx": 56,
    "time": "2021-01-26T00:08:06.920Z",
    "type": "execution"
   },
   {
    "code": "for i in range(3):\n    print(i)",
    "id": "aa6edf74938b4ca2b4a27b0e9ba1d5c5",
    "idx": 59,
    "time": "2021-01-26T00:08:06.926Z",
    "type": "execution"
   },
   {
    "code": "mylist = [100, 200, 300]\nfor i in range(len(mylist)):\n    print(i, mylist[i])",
    "id": "5b877d430d9b4ec7928d9984b265ac00",
    "idx": 61,
    "time": "2021-01-26T00:08:06.933Z",
    "type": "execution"
   },
   {
    "code": "import pandas as pd",
    "id": "fabbc8b7cf4646a9ace90d32fab2715c",
    "idx": 64,
    "time": "2021-01-26T00:08:06.938Z",
    "type": "execution"
   },
   {
    "code": "ESG = pd.read_csv('ESGPortfolios.csv')\ndisplay(ESG.head())",
    "id": "cf76faf33da342e3895a161117368786",
    "idx": 66,
    "time": "2021-01-26T00:08:06.945Z",
    "type": "execution"
   },
   {
    "code": "ESG['Capacity_MW'].head()",
    "id": "306b5e8243294762ae32cbd66ab71cbb",
    "idx": 68,
    "time": "2021-01-26T00:08:06.955Z",
    "type": "execution"
   },
   {
    "code": "ESG[ESG['Group'] == 'East Bay']",
    "id": "b2fbe812cc754bcf8d84ff3b77b8f383",
    "idx": 70,
    "time": "2021-01-26T00:08:06.961Z",
    "type": "execution"
   },
   {
    "code": "import matplotlib.pyplot as plt",
    "id": "c84253bc241e48f39bc24c3307e16807",
    "idx": 72,
    "time": "2021-01-26T00:08:06.968Z",
    "type": "execution"
   },
   {
    "code": "plt.scatter(x = ESG['Var_Cost_USDperMWH'], y = ESG['Carbon_tonsperMWH'])\nplt.title('Variable Cost vs. Emissions')\nplt.xlabel('Total Variable Cost USD per MWH')\nplt.ylabel('Carbon Tons per MWH')\nplt.show()",
    "id": "d54626ffea6147098dac50cce34a7beb",
    "idx": 74,
    "time": "2021-01-26T00:08:06.988Z",
    "type": "execution"
   },
   {
    "code": "ESG = ESG.sort_values('Var_Cost_USDperMWH', ascending=True, ignore_index=True)\ndisplay(ESG.head())",
    "id": "35f54236558644da870cd7d6e3f63b01",
    "idx": 76,
    "time": "2021-01-26T00:08:06.995Z",
    "type": "execution"
   },
   {
    "code": "import numpy as np\n\nESG['Total_Carbon_Emissions'] = ESG['Capacity_MW'] * ESG['Carbon_tonsperMWH']\ndisplay(ESG.head())",
    "id": "0babdb2251d24b5b850a575ac68b2d52",
    "idx": 78,
    "time": "2021-01-26T00:08:07.001Z",
    "type": "execution"
   },
   {
    "code": "helms_capacity = ESG.loc[ESG['UNIT NAME'] == 'HELMS', 'Capacity_MW']\nprint(helms_capacity)",
    "id": "a144df552af447d3991b7de509655deb",
    "idx": 80,
    "time": "2021-01-26T00:08:07.006Z",
    "type": "execution"
   },
   {
    "code": "helms_capacity = ESG.loc[ESG['UNIT NAME'] == 'HELMS', 'Capacity_MW'].values[0]\nprint(helms_capacity)",
    "id": "4eb91915bdc4436a806906378bbbd086",
    "idx": 82,
    "time": "2021-01-26T00:08:07.012Z",
    "type": "execution"
   },
   {
    "code": "display(ESG.loc[ESG['Carbon_tonsperMWH']>=.8])",
    "id": "dd372a4cc23d47b78bd322b2d418c0bf",
    "idx": 84,
    "time": "2021-01-26T00:08:07.018Z",
    "type": "execution"
   },
   {
    "code": "display(ESG.loc[(ESG['Carbon_tonsperMWH']>=.8) & (ESG['Group']=='Big Coal')])",
    "id": "f298129db1854366b466d35bfb5313dd",
    "idx": 86,
    "time": "2021-01-26T00:08:07.023Z",
    "type": "execution"
   },
   {
    "code": "row_conditions = (ESG['Carbon_tonsperMWH']>=.8) & (ESG['Group']=='Big Coal')\ndisplay(ESG.loc[row_conditions])",
    "id": "1a05eee5e00b49818953aa5b550a3bd4",
    "idx": 88,
    "time": "2021-01-26T00:08:07.029Z",
    "type": "execution"
   },
   {
    "code": "print(ESG.loc[row_conditions, 'Capacity_MW'].sum())",
    "id": "e1e89befc3ea482e80a05bd3452f0f0a",
    "idx": 90,
    "time": "2021-01-26T00:08:07.035Z",
    "type": "execution"
   },
   {
    "code": "help(plt.scatter)",
    "id": "2fb941083de34a6c91a57ba87487cb46",
    "idx": 94,
    "time": "2021-01-26T00:08:07.040Z",
    "type": "execution"
   },
   {
    "code": "%who",
    "id": "59d146ccb8c342a3818ae646bb012c08",
    "idx": 96,
    "time": "2021-01-26T00:08:07.045Z",
    "type": "execution"
   },
   {
    "id": "1b046196a11741f68f057ed87ec242be",
    "time": "2021-01-26T00:08:07.229Z",
    "type": "completion"
   },
   {
    "id": "cf508e89e9e64f1c826ae0cf742ee900",
    "time": "2021-01-26T00:08:07.238Z",
    "type": "completion"
   },
   {
    "id": "0ae99f348e75415d8744ab3a9c09c925",
    "time": "2021-01-26T00:08:07.245Z",
    "type": "completion"
   },
   {
    "id": "10a0c61538a94780881bf30acd4b380a",
    "time": "2021-01-26T00:08:07.248Z",
    "type": "completion"
   },
   {
    "id": "60bd4ef6394448208beaf80b13964fa7",
    "time": "2021-01-26T00:08:07.255Z",
    "type": "completion"
   },
   {
    "id": "c2637f11d02e481ebf88a2b73688b57f",
    "time": "2021-01-26T00:08:07.260Z",
    "type": "completion"
   },
   {
    "id": "78f4e6c6573e4356827ba4c878214097",
    "time": "2021-01-26T00:08:07.263Z",
    "type": "completion"
   },
   {
    "id": "a11b29a459e541268b3e61f5694c68d6",
    "time": "2021-01-26T00:08:07.269Z",
    "type": "completion"
   },
   {
    "id": "64cb4ebe08f243a78d0b9a7273f1db5e",
    "time": "2021-01-26T00:08:07.274Z",
    "type": "completion"
   },
   {
    "id": "365b8d92773a430093dd820c56447da1",
    "time": "2021-01-26T00:08:07.282Z",
    "type": "completion"
   },
   {
    "id": "86942a6bb7ed4a4199e235dae5d899df",
    "time": "2021-01-26T00:08:07.288Z",
    "type": "completion"
   },
   {
    "id": "1ef811885a794273874f858bf5904482",
    "time": "2021-01-26T00:08:07.294Z",
    "type": "completion"
   },
   {
    "id": "26af8d778e38496a9dc562875aa56ff4",
    "time": "2021-01-26T00:08:07.299Z",
    "type": "completion"
   },
   {
    "id": "7c1163295aa44dffa972982dbbf0a75a",
    "time": "2021-01-26T00:08:07.306Z",
    "type": "completion"
   },
   {
    "id": "2b8b09d318c14c3e88dc5c6b14f0ca65",
    "time": "2021-01-26T00:08:07.312Z",
    "type": "completion"
   },
   {
    "id": "ea0b002ba2fc447b8862429326d0bc09",
    "time": "2021-01-26T00:08:07.346Z",
    "type": "completion"
   },
   {
    "id": "60cc0971039441e886270e2b333bc8ef",
    "time": "2021-01-26T00:08:07.357Z",
    "type": "completion"
   },
   {
    "id": "3d734252848940ee9841b0adeb5fff3a",
    "time": "2021-01-26T00:08:07.369Z",
    "type": "completion"
   },
   {
    "id": "88eb6adef1ee4111ad66b43785f783a0",
    "time": "2021-01-26T00:08:07.372Z",
    "type": "completion"
   },
   {
    "id": "f892c8bf72894f5db889fe921b0d3c51",
    "time": "2021-01-26T00:08:07.380Z",
    "type": "completion"
   },
   {
    "id": "636109077d5a40f28136c66af3031618",
    "time": "2021-01-26T00:08:07.385Z",
    "type": "completion"
   },
   {
    "id": "52ddad3aa58b458a8a578f12507d116d",
    "time": "2021-01-26T00:08:07.390Z",
    "type": "completion"
   },
   {
    "id": "2ace0afe391b456b86844f2814152faf",
    "time": "2021-01-26T00:08:07.396Z",
    "type": "completion"
   },
   {
    "id": "a482daded811496db0333c013371726b",
    "time": "2021-01-26T00:08:07.398Z",
    "type": "completion"
   },
   {
    "id": "616bbef4e4d2415380b5dd021bc4c90a",
    "time": "2021-01-26T00:08:07.403Z",
    "type": "completion"
   },
   {
    "id": "4c5ba321d5fb44beb274fcd9021d366e",
    "time": "2021-01-26T00:08:07.411Z",
    "type": "completion"
   },
   {
    "id": "ed99b3c42df043f48d75df8615963850",
    "time": "2021-01-26T00:08:07.415Z",
    "type": "completion"
   },
   {
    "id": "aa6edf74938b4ca2b4a27b0e9ba1d5c5",
    "time": "2021-01-26T00:08:07.422Z",
    "type": "completion"
   },
   {
    "id": "5b877d430d9b4ec7928d9984b265ac00",
    "time": "2021-01-26T00:08:07.425Z",
    "type": "completion"
   },
   {
    "id": "fabbc8b7cf4646a9ace90d32fab2715c",
    "time": "2021-01-26T00:08:07.484Z",
    "type": "completion"
   },
   {
    "id": "cf76faf33da342e3895a161117368786",
    "time": "2021-01-26T00:08:07.495Z",
    "type": "completion"
   },
   {
    "id": "306b5e8243294762ae32cbd66ab71cbb",
    "time": "2021-01-26T00:08:07.604Z",
    "type": "completion"
   },
   {
    "id": "b2fbe812cc754bcf8d84ff3b77b8f383",
    "time": "2021-01-26T00:08:07.615Z",
    "type": "completion"
   },
   {
    "id": "c84253bc241e48f39bc24c3307e16807",
    "time": "2021-01-26T00:08:07.759Z",
    "type": "completion"
   },
   {
    "id": "d54626ffea6147098dac50cce34a7beb",
    "time": "2021-01-26T00:08:07.980Z",
    "type": "completion"
   },
   {
    "id": "35f54236558644da870cd7d6e3f63b01",
    "time": "2021-01-26T00:08:07.994Z",
    "type": "completion"
   },
   {
    "id": "0babdb2251d24b5b850a575ac68b2d52",
    "time": "2021-01-26T00:08:07.999Z",
    "type": "completion"
   },
   {
    "id": "a144df552af447d3991b7de509655deb",
    "time": "2021-01-26T00:08:08.033Z",
    "type": "completion"
   },
   {
    "id": "4eb91915bdc4436a806906378bbbd086",
    "time": "2021-01-26T00:08:08.036Z",
    "type": "completion"
   },
   {
    "id": "dd372a4cc23d47b78bd322b2d418c0bf",
    "time": "2021-01-26T00:08:08.044Z",
    "type": "completion"
   },
   {
    "id": "f298129db1854366b466d35bfb5313dd",
    "time": "2021-01-26T00:08:08.091Z",
    "type": "completion"
   },
   {
    "id": "1a05eee5e00b49818953aa5b550a3bd4",
    "time": "2021-01-26T00:08:08.099Z",
    "type": "completion"
   },
   {
    "id": "e1e89befc3ea482e80a05bd3452f0f0a",
    "time": "2021-01-26T00:08:08.104Z",
    "type": "completion"
   },
   {
    "id": "2fb941083de34a6c91a57ba87487cb46",
    "time": "2021-01-26T00:08:08.106Z",
    "type": "completion"
   },
   {
    "id": "59d146ccb8c342a3818ae646bb012c08",
    "time": "2021-01-26T00:08:08.141Z",
    "type": "completion"
   },
   {
    "code": "3+5",
    "id": "1b046196a11741f68f057ed87ec242be",
    "idx": 5,
    "time": "2021-01-26T00:10:13.923Z",
    "type": "execution"
   },
   {
    "code": "140-20",
    "id": "cf508e89e9e64f1c826ae0cf742ee900",
    "idx": 6,
    "time": "2021-01-26T00:10:13.930Z",
    "type": "execution"
   },
   {
    "code": "40/2",
    "id": "0ae99f348e75415d8744ab3a9c09c925",
    "idx": 7,
    "time": "2021-01-26T00:10:13.933Z",
    "type": "execution"
   },
   {
    "code": "2*2",
    "id": "10a0c61538a94780881bf30acd4b380a",
    "idx": 8,
    "time": "2021-01-26T00:10:13.937Z",
    "type": "execution"
   },
   {
    "code": "2*(5+1)",
    "id": "60bd4ef6394448208beaf80b13964fa7",
    "idx": 9,
    "time": "2021-01-26T00:10:13.940Z",
    "type": "execution"
   },
   {
    "code": "3**3",
    "id": "c2637f11d02e481ebf88a2b73688b57f",
    "idx": 11,
    "time": "2021-01-26T00:10:13.943Z",
    "type": "execution"
   },
   {
    "code": "x = 2\ny = 3",
    "id": "78f4e6c6573e4356827ba4c878214097",
    "idx": 14,
    "time": "2021-01-26T00:10:13.947Z",
    "type": "execution"
   },
   {
    "code": "print(x)\nprint(y)",
    "id": "a11b29a459e541268b3e61f5694c68d6",
    "idx": 15,
    "time": "2021-01-26T00:10:13.949Z",
    "type": "execution"
   },
   {
    "code": "x + 3",
    "id": "64cb4ebe08f243a78d0b9a7273f1db5e",
    "idx": 17,
    "time": "2021-01-26T00:10:13.953Z",
    "type": "execution"
   },
   {
    "code": "x + y\nprint(x)\nprint(y)",
    "id": "365b8d92773a430093dd820c56447da1",
    "idx": 18,
    "time": "2021-01-26T00:10:13.956Z",
    "type": "execution"
   },
   {
    "code": "x = x + y\nprint(x)\nprint(y)",
    "id": "86942a6bb7ed4a4199e235dae5d899df",
    "idx": 19,
    "time": "2021-01-26T00:10:13.959Z",
    "type": "execution"
   },
   {
    "code": "print(x)\nprint(y)",
    "id": "1ef811885a794273874f858bf5904482",
    "idx": 21,
    "time": "2021-01-26T00:10:13.962Z",
    "type": "execution"
   },
   {
    "code": "print('This is a string')\nprint(\"This is also a string\")",
    "id": "26af8d778e38496a9dc562875aa56ff4",
    "idx": 24,
    "time": "2021-01-26T00:10:13.966Z",
    "type": "execution"
   },
   {
    "code": "\"string 1\" + \"string 2\"",
    "id": "7c1163295aa44dffa972982dbbf0a75a",
    "idx": 26,
    "time": "2021-01-26T00:10:13.968Z",
    "type": "execution"
   },
   {
    "code": "my_string = 'This variable is a string'\nprint(my_string)",
    "id": "2b8b09d318c14c3e88dc5c6b14f0ca65",
    "idx": 28,
    "time": "2021-01-26T00:10:13.972Z",
    "type": "execution"
   },
   {
    "code": "mylist = []\nprint(mylist)",
    "id": "ea0b002ba2fc447b8862429326d0bc09",
    "idx": 31,
    "time": "2021-01-26T00:10:13.975Z",
    "type": "execution"
   },
   {
    "code": "mylist = [100]\nprint(mylist)",
    "id": "60cc0971039441e886270e2b333bc8ef",
    "idx": 33,
    "time": "2021-01-26T00:10:13.979Z",
    "type": "execution"
   },
   {
    "code": "mylist = [100, 200]\nprint(mylist)",
    "id": "3d734252848940ee9841b0adeb5fff3a",
    "idx": 34,
    "time": "2021-01-26T00:10:13.983Z",
    "type": "execution"
   },
   {
    "code": "mylist = [100, 'a string']\nprint(mylist)",
    "id": "88eb6adef1ee4111ad66b43785f783a0",
    "idx": 35,
    "time": "2021-01-26T00:10:13.987Z",
    "type": "execution"
   },
   {
    "code": "mylist = [100, 200]\nmylist.append(300)\nprint(mylist)",
    "id": "f892c8bf72894f5db889fe921b0d3c51",
    "idx": 37,
    "time": "2021-01-26T00:10:13.991Z",
    "type": "execution"
   },
   {
    "code": "print(mylist[1])",
    "id": "636109077d5a40f28136c66af3031618",
    "idx": 39,
    "time": "2021-01-26T00:10:13.994Z",
    "type": "execution"
   },
   {
    "code": "min(1, 3, 0, 10)",
    "id": "52ddad3aa58b458a8a578f12507d116d",
    "idx": 42,
    "time": "2021-01-26T00:10:13.998Z",
    "type": "execution"
   },
   {
    "code": "max(1, 3, 0, 10)",
    "id": "2ace0afe391b456b86844f2814152faf",
    "idx": 43,
    "time": "2021-01-26T00:10:14.000Z",
    "type": "execution"
   },
   {
    "code": "x = 2\n\nif x == 3:\n    print (True)",
    "id": "a482daded811496db0333c013371726b",
    "idx": 49,
    "time": "2021-01-26T00:10:14.004Z",
    "type": "execution"
   },
   {
    "code": "x = 2\n\nif x == 3:\n    print (True)\nelse:\n    print (False)",
    "id": "616bbef4e4d2415380b5dd021bc4c90a",
    "idx": 50,
    "time": "2021-01-26T00:10:14.007Z",
    "type": "execution"
   },
   {
    "code": "x = 2\n\nif (x == 2) | (x == 3):\n    print (True)\nelse:\n    print (False)",
    "id": "4c5ba321d5fb44beb274fcd9021d366e",
    "idx": 52,
    "time": "2021-01-26T00:10:14.011Z",
    "type": "execution"
   },
   {
    "code": "for i in [3, 2, 1]:   \n    print(i)\n\nprint(i)",
    "id": "ed99b3c42df043f48d75df8615963850",
    "idx": 56,
    "time": "2021-01-26T00:10:14.015Z",
    "type": "execution"
   },
   {
    "code": "for i in range(3):\n    print(i)",
    "id": "aa6edf74938b4ca2b4a27b0e9ba1d5c5",
    "idx": 59,
    "time": "2021-01-26T00:10:14.018Z",
    "type": "execution"
   },
   {
    "code": "mylist = [100, 200, 300]\nfor i in range(len(mylist)):\n    print(i, mylist[i])",
    "id": "5b877d430d9b4ec7928d9984b265ac00",
    "idx": 61,
    "time": "2021-01-26T00:10:14.021Z",
    "type": "execution"
   },
   {
    "code": "import pandas as pd",
    "id": "fabbc8b7cf4646a9ace90d32fab2715c",
    "idx": 64,
    "time": "2021-01-26T00:10:14.026Z",
    "type": "execution"
   },
   {
    "code": "ESG = pd.read_csv('ESGPortfolios.csv')\ndisplay(ESG.head())",
    "id": "cf76faf33da342e3895a161117368786",
    "idx": 66,
    "time": "2021-01-26T00:10:14.030Z",
    "type": "execution"
   },
   {
    "code": "ESG['Capacity_MW'].head()",
    "id": "306b5e8243294762ae32cbd66ab71cbb",
    "idx": 68,
    "time": "2021-01-26T00:10:14.033Z",
    "type": "execution"
   },
   {
    "code": "ESG[ESG['Group'] == 'East Bay']",
    "id": "b2fbe812cc754bcf8d84ff3b77b8f383",
    "idx": 70,
    "time": "2021-01-26T00:10:14.037Z",
    "type": "execution"
   },
   {
    "code": "import matplotlib.pyplot as plt",
    "id": "c84253bc241e48f39bc24c3307e16807",
    "idx": 72,
    "time": "2021-01-26T00:10:14.043Z",
    "type": "execution"
   },
   {
    "code": "plt.scatter(x = ESG['Var_Cost_USDperMWH'], y = ESG['Carbon_tonsperMWH'])\nplt.title('Variable Cost vs. Emissions')\nplt.xlabel('Total Variable Cost USD per MWH')\nplt.ylabel('Carbon Tons per MWH')\nplt.show()",
    "id": "d54626ffea6147098dac50cce34a7beb",
    "idx": 74,
    "time": "2021-01-26T00:10:14.048Z",
    "type": "execution"
   },
   {
    "code": "ESG = ESG.sort_values('Var_Cost_USDperMWH', ascending=True, ignore_index=True)\ndisplay(ESG.head())",
    "id": "35f54236558644da870cd7d6e3f63b01",
    "idx": 76,
    "time": "2021-01-26T00:10:14.051Z",
    "type": "execution"
   },
   {
    "code": "import numpy as np\n\nESG['Total_Carbon_Emissions'] = ESG['Capacity_MW'] * ESG['Carbon_tonsperMWH']\ndisplay(ESG.head())",
    "id": "0babdb2251d24b5b850a575ac68b2d52",
    "idx": 78,
    "time": "2021-01-26T00:10:14.055Z",
    "type": "execution"
   },
   {
    "code": "helms_capacity = ESG.loc[ESG['UNIT NAME'] == 'HELMS', 'Capacity_MW']\nprint(helms_capacity)",
    "id": "a144df552af447d3991b7de509655deb",
    "idx": 80,
    "time": "2021-01-26T00:10:14.059Z",
    "type": "execution"
   },
   {
    "code": "helms_capacity = ESG.loc[ESG['UNIT NAME'] == 'HELMS', 'Capacity_MW'].values[0]\nprint(helms_capacity)",
    "id": "4eb91915bdc4436a806906378bbbd086",
    "idx": 82,
    "time": "2021-01-26T00:10:14.064Z",
    "type": "execution"
   },
   {
    "code": "display(ESG.loc[ESG['Carbon_tonsperMWH']>=.8])",
    "id": "dd372a4cc23d47b78bd322b2d418c0bf",
    "idx": 84,
    "time": "2021-01-26T00:10:14.069Z",
    "type": "execution"
   },
   {
    "code": "display(ESG.loc[(ESG['Carbon_tonsperMWH']>=.8) & (ESG['Group']=='Big Coal')])",
    "id": "f298129db1854366b466d35bfb5313dd",
    "idx": 86,
    "time": "2021-01-26T00:10:14.073Z",
    "type": "execution"
   },
   {
    "code": "row_conditions = (ESG['Carbon_tonsperMWH']>=.8) & (ESG['Group']=='Big Coal')\ndisplay(ESG.loc[row_conditions])",
    "id": "1a05eee5e00b49818953aa5b550a3bd4",
    "idx": 88,
    "time": "2021-01-26T00:10:14.078Z",
    "type": "execution"
   },
   {
    "code": "print(ESG.loc[row_conditions, 'Capacity_MW'].sum())",
    "id": "e1e89befc3ea482e80a05bd3452f0f0a",
    "idx": 90,
    "time": "2021-01-26T00:10:14.082Z",
    "type": "execution"
   },
   {
    "code": "help(plt.scatter)",
    "id": "2fb941083de34a6c91a57ba87487cb46",
    "idx": 94,
    "time": "2021-01-26T00:10:14.085Z",
    "type": "execution"
   },
   {
    "code": "%who",
    "id": "59d146ccb8c342a3818ae646bb012c08",
    "idx": 96,
    "time": "2021-01-26T00:10:14.089Z",
    "type": "execution"
   },
   {
    "id": "1b046196a11741f68f057ed87ec242be",
    "time": "2021-01-26T00:10:14.176Z",
    "type": "completion"
   },
   {
    "id": "cf508e89e9e64f1c826ae0cf742ee900",
    "time": "2021-01-26T00:10:14.179Z",
    "type": "completion"
   },
   {
    "id": "0ae99f348e75415d8744ab3a9c09c925",
    "time": "2021-01-26T00:10:14.181Z",
    "type": "completion"
   },
   {
    "id": "10a0c61538a94780881bf30acd4b380a",
    "time": "2021-01-26T00:10:14.184Z",
    "type": "completion"
   },
   {
    "id": "60bd4ef6394448208beaf80b13964fa7",
    "time": "2021-01-26T00:10:14.186Z",
    "type": "completion"
   },
   {
    "id": "c2637f11d02e481ebf88a2b73688b57f",
    "time": "2021-01-26T00:10:14.188Z",
    "type": "completion"
   },
   {
    "id": "78f4e6c6573e4356827ba4c878214097",
    "time": "2021-01-26T00:10:14.191Z",
    "type": "completion"
   },
   {
    "id": "a11b29a459e541268b3e61f5694c68d6",
    "time": "2021-01-26T00:10:14.193Z",
    "type": "completion"
   },
   {
    "id": "64cb4ebe08f243a78d0b9a7273f1db5e",
    "time": "2021-01-26T00:10:14.195Z",
    "type": "completion"
   },
   {
    "id": "365b8d92773a430093dd820c56447da1",
    "time": "2021-01-26T00:10:14.197Z",
    "type": "completion"
   },
   {
    "id": "86942a6bb7ed4a4199e235dae5d899df",
    "time": "2021-01-26T00:10:14.200Z",
    "type": "completion"
   },
   {
    "id": "1ef811885a794273874f858bf5904482",
    "time": "2021-01-26T00:10:14.203Z",
    "type": "completion"
   },
   {
    "id": "26af8d778e38496a9dc562875aa56ff4",
    "time": "2021-01-26T00:10:14.205Z",
    "type": "completion"
   },
   {
    "id": "7c1163295aa44dffa972982dbbf0a75a",
    "time": "2021-01-26T00:10:14.207Z",
    "type": "completion"
   },
   {
    "id": "2b8b09d318c14c3e88dc5c6b14f0ca65",
    "time": "2021-01-26T00:10:14.209Z",
    "type": "completion"
   },
   {
    "id": "ea0b002ba2fc447b8862429326d0bc09",
    "time": "2021-01-26T00:10:14.211Z",
    "type": "completion"
   },
   {
    "id": "60cc0971039441e886270e2b333bc8ef",
    "time": "2021-01-26T00:10:14.213Z",
    "type": "completion"
   },
   {
    "id": "3d734252848940ee9841b0adeb5fff3a",
    "time": "2021-01-26T00:10:14.215Z",
    "type": "completion"
   },
   {
    "id": "88eb6adef1ee4111ad66b43785f783a0",
    "time": "2021-01-26T00:10:14.216Z",
    "type": "completion"
   },
   {
    "id": "f892c8bf72894f5db889fe921b0d3c51",
    "time": "2021-01-26T00:10:14.249Z",
    "type": "completion"
   },
   {
    "id": "636109077d5a40f28136c66af3031618",
    "time": "2021-01-26T00:10:14.253Z",
    "type": "completion"
   },
   {
    "id": "52ddad3aa58b458a8a578f12507d116d",
    "time": "2021-01-26T00:10:14.258Z",
    "type": "completion"
   },
   {
    "id": "2ace0afe391b456b86844f2814152faf",
    "time": "2021-01-26T00:10:14.263Z",
    "type": "completion"
   },
   {
    "id": "a482daded811496db0333c013371726b",
    "time": "2021-01-26T00:10:14.266Z",
    "type": "completion"
   },
   {
    "id": "616bbef4e4d2415380b5dd021bc4c90a",
    "time": "2021-01-26T00:10:14.269Z",
    "type": "completion"
   },
   {
    "id": "4c5ba321d5fb44beb274fcd9021d366e",
    "time": "2021-01-26T00:10:14.275Z",
    "type": "completion"
   },
   {
    "id": "ed99b3c42df043f48d75df8615963850",
    "time": "2021-01-26T00:10:14.282Z",
    "type": "completion"
   },
   {
    "id": "aa6edf74938b4ca2b4a27b0e9ba1d5c5",
    "time": "2021-01-26T00:10:14.284Z",
    "type": "completion"
   },
   {
    "id": "5b877d430d9b4ec7928d9984b265ac00",
    "time": "2021-01-26T00:10:14.286Z",
    "type": "completion"
   },
   {
    "id": "fabbc8b7cf4646a9ace90d32fab2715c",
    "time": "2021-01-26T00:10:14.538Z",
    "type": "completion"
   },
   {
    "id": "cf76faf33da342e3895a161117368786",
    "time": "2021-01-26T00:10:14.588Z",
    "type": "completion"
   },
   {
    "id": "306b5e8243294762ae32cbd66ab71cbb",
    "time": "2021-01-26T00:10:14.592Z",
    "type": "completion"
   },
   {
    "id": "b2fbe812cc754bcf8d84ff3b77b8f383",
    "time": "2021-01-26T00:10:14.598Z",
    "type": "completion"
   },
   {
    "id": "c84253bc241e48f39bc24c3307e16807",
    "time": "2021-01-26T00:10:14.933Z",
    "type": "completion"
   },
   {
    "id": "d54626ffea6147098dac50cce34a7beb",
    "time": "2021-01-26T00:10:15.060Z",
    "type": "completion"
   },
   {
    "id": "35f54236558644da870cd7d6e3f63b01",
    "time": "2021-01-26T00:10:15.065Z",
    "type": "completion"
   },
   {
    "id": "0babdb2251d24b5b850a575ac68b2d52",
    "time": "2021-01-26T00:10:15.102Z",
    "type": "completion"
   },
   {
    "id": "a144df552af447d3991b7de509655deb",
    "time": "2021-01-26T00:10:15.105Z",
    "type": "completion"
   },
   {
    "id": "4eb91915bdc4436a806906378bbbd086",
    "time": "2021-01-26T00:10:15.110Z",
    "type": "completion"
   },
   {
    "id": "dd372a4cc23d47b78bd322b2d418c0bf",
    "time": "2021-01-26T00:10:15.118Z",
    "type": "completion"
   },
   {
    "id": "f298129db1854366b466d35bfb5313dd",
    "time": "2021-01-26T00:10:15.154Z",
    "type": "completion"
   },
   {
    "id": "1a05eee5e00b49818953aa5b550a3bd4",
    "time": "2021-01-26T00:10:15.171Z",
    "type": "completion"
   },
   {
    "id": "e1e89befc3ea482e80a05bd3452f0f0a",
    "time": "2021-01-26T00:10:15.174Z",
    "type": "completion"
   },
   {
    "id": "2fb941083de34a6c91a57ba87487cb46",
    "time": "2021-01-26T00:10:15.176Z",
    "type": "completion"
   },
   {
    "id": "59d146ccb8c342a3818ae646bb012c08",
    "time": "2021-01-26T00:10:15.210Z",
    "type": "completion"
   }
  ],
  "kernelspec": {
   "display_name": "Python 3",
   "language": "python",
   "name": "python3"
  },
  "language_info": {
   "codemirror_mode": {
    "name": "ipython",
    "version": 3
   },
   "file_extension": ".py",
   "mimetype": "text/x-python",
   "name": "python",
   "nbconvert_exporter": "python",
   "pygments_lexer": "ipython3",
   "version": "3.8.6"
  }
 },
 "nbformat": 4,
 "nbformat_minor": 2
}
