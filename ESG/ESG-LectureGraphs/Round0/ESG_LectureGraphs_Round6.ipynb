{
 "cells": [
  {
   "cell_type": "markdown",
   "metadata": {},
   "source": [
    " # <font color = #254117>[EEP 147]: ESG Analysis Lecture Graphs</font>"
   ]
  },
  {
   "cell_type": "markdown",
   "metadata": {},
   "source": [
    "<div style=\"width:image width px; font-size:80%; text-align:center;\"><img src=\"big_creek.jpg\" alt=\"alternate text\" width=\"500\" height=\"height\" style=\"padding-bottom:0.5em;\" />Big Creek Hydroelectric Project - Southern California Edison</div>"
   ]
  },
  {
   "cell_type": "markdown",
   "metadata": {},
   "source": [
    "This notebook can be utilized for analysis of the Electricity Strategy Game. This notebook builds on the Round 0 notebook by allowing carbon prices to be adjusted in more of the function, including separately for each of Rounds 4, 5, and 6 in the NPV of expected profits function."
   ]
  },
  {
   "cell_type": "markdown",
   "metadata": {},
   "source": [
    "First on our agenda is to import **<font color = ##008700>dependencies</font>** -- packages in Python that add to the basic functions in Python -- same as before."
   ]
  },
  {
   "cell_type": "code",
   "execution_count": 2,
   "metadata": {},
   "outputs": [],
   "source": [
    "from datascience import *\n",
    "import matplotlib.pyplot as plt\n",
    "import matplotlib.patches as mpatches\n",
    "%matplotlib inline\n",
    "import numpy as np\n",
    "import pandas as pd\n",
    "from ipywidgets import interact, interactive, Dropdown, IntSlider\n",
    "import ipywidgets as widgets\n",
    "from functools import partial\n",
    "from matplotlib.lines import Line2D\n",
    "plt.style.use('fivethirtyeight')\n",
    "plt.rcParams[\"figure.figsize\"] = [10,6]"
   ]
  },
  {
   "cell_type": "markdown",
   "metadata": {},
   "source": [
    "Next, let's select your portfolio. In the cell below, assign **section** to the section code (including quotes) that corresponds to your own according to the following table.\n",
    "\n",
    "| Code | Section Time  |\n",
    "|---------|---------------|\n",
    "| \"W8\" | Wednesday 8am |\n",
    "| \"W9\" | Wednesday 9am |\n",
    "| \"F2\" | Friday 2pm |\n",
    "| \"F3\" | Friday 3pm |\n",
    "\n",
    "\n",
    "The variable **current_period** should contain the current round.\n",
    "\n",
    "The variable **pab_periods** should contain each of the periods for which there was or will be a pay-as-bid auction.  This shouldn't change."
   ]
  },
  {
   "cell_type": "code",
   "execution_count": 3,
   "metadata": {},
   "outputs": [],
   "source": [
    "section = \"W9\"\n",
    "current_period = 1\n",
    "pab_periods = [1]"
   ]
  },
  {
   "cell_type": "markdown",
   "metadata": {},
   "source": [
    "Next we import the demand forecasts."
   ]
  },
  {
   "cell_type": "code",
   "execution_count": 4,
   "metadata": {},
   "outputs": [
    {
     "ename": "NameError",
     "evalue": "name 'Table' is not defined",
     "output_type": "error",
     "traceback": [
      "\u001b[1;31m---------------------------------------------------------------------------\u001b[0m",
      "\u001b[1;31mNameError\u001b[0m                                 Traceback (most recent call last)",
      "\u001b[1;32m<ipython-input-4-8c331c82b15c>\u001b[0m in \u001b[0;36m<module>\u001b[1;34m\u001b[0m\n\u001b[1;32m----> 1\u001b[1;33m \u001b[0mdemand_table\u001b[0m \u001b[1;33m=\u001b[0m \u001b[0mTable\u001b[0m\u001b[1;33m.\u001b[0m\u001b[0mread_table\u001b[0m\u001b[1;33m(\u001b[0m\u001b[1;34m'demand.csv'\u001b[0m\u001b[1;33m)\u001b[0m\u001b[1;33m\u001b[0m\u001b[1;33m\u001b[0m\u001b[0m\n\u001b[0m",
      "\u001b[1;31mNameError\u001b[0m: name 'Table' is not defined"
     ]
    }
   ],
   "source": [
    "demand_table = Table.read_table('demand.csv')"
   ]
  },
  {
   "cell_type": "markdown",
   "metadata": {},
   "source": [
    "Next we import our Bids and Porfolios tables."
   ]
  },
  {
   "cell_type": "code",
   "execution_count": null,
   "metadata": {},
   "outputs": [],
   "source": [
    "bids_mc = Table.read_table('Bids/MC_bids.csv').sort('PORTFOLIO')\n",
    "ESG = Table.read_table('ESGPorfolios.csv')"
   ]
  },
  {
   "cell_type": "markdown",
   "metadata": {},
   "source": [
    "In the following cell we will join the tables based on the column **Plant_ID**.  We will incorporate the actual bids of the rounds completed."
   ]
  },
  {
   "cell_type": "code",
   "execution_count": null,
   "metadata": {
    "scrolled": true
   },
   "outputs": [],
   "source": [
    "def get_bids(section):\n",
    "    bids_all = bids_mc.copy()\n",
    "    if current_period > 1:\n",
    "        bids_all_df = bids_all.sort(\"PLANT_ID\").to_df()\n",
    "        bids_actual = Table.read_table('Bids/' + section + '_bids_' + str(current_period - 1) + '.csv').sort('PORTFOLIO')\n",
    "        bids_actual_df = bids_actual.sort(\"PLANT_ID\").to_df()\n",
    "        for period_i in range(1,current_period):\n",
    "            bids_all_df.loc[bids_all_df[\"PERIOD\"] == period_i] = bids_actual_df.loc[bids_actual_df[\"PERIOD\"] == period_i].values\n",
    "        bids_all = Table.from_df(bids_all_df)\n",
    "        \n",
    "    joined_table_all = bids_all.join(\"PLANT_ID\", ESG, \"Plant_ID\").sort(\"PLANT_ID\")\n",
    "    return(joined_table_all)\n",
    "\n",
    "joined_table_all = get_bids(section)"
   ]
  },
  {
   "cell_type": "markdown",
   "metadata": {},
   "source": [
    "Now, let's create a function to determine the price given the bids and demand."
   ]
  },
  {
   "cell_type": "code",
   "execution_count": null,
   "metadata": {},
   "outputs": [],
   "source": [
    "def price_calc(input_table, demand, hour, period):\n",
    "    #hour and period determine which bids are taken from joined_table\n",
    "    joined_table = input_table.copy()\n",
    "    sorted_table = joined_table.where(\"PERIOD\", period).sort(\"PRICE\" + str(hour), descending = False)\n",
    "    price = 0\n",
    "    sum_cap = 0\n",
    "    for i in range(0,len(sorted_table['Capacity_MW'])):\n",
    "        if sum_cap + sorted_table['Capacity_MW'][i] > demand:\n",
    "            price = sorted_table['PRICE' + str(hour)][i]\n",
    "            break\n",
    "        else:\n",
    "            sum_cap += sorted_table['Capacity_MW'][i]\n",
    "            price = sorted_table['PRICE' + str(hour)][i]\n",
    "    return price"
   ]
  },
  {
   "cell_type": "markdown",
   "metadata": {},
   "source": [
    "Now, let's create a function to plot the market in a given hour and period."
   ]
  },
  {
   "cell_type": "code",
   "execution_count": null,
   "metadata": {},
   "outputs": [],
   "source": [
    "energy_colors_dict = {'Bay Views' : '#EC5F67', 'Beachfront' : '#F29056', 'Big Coal' : '#F9C863', 'Big Gas' : '#99C794', \n",
    "                      'East Bay' : '#5FB3B3', 'Fossil Light' : '#6699CC', 'Old Timers' : '#C594C5'}\n",
    "\n",
    "def find_x_pos(widths):\n",
    "    cumulative_widths = [0]\n",
    "    cumulative_widths.extend(np.cumsum(widths))\n",
    "    half_widths = [i/2 for i in widths]\n",
    "    x_pos = []\n",
    "    for i in range(0, len(half_widths)):\n",
    "        x_pos.append(half_widths[i] + cumulative_widths[i])\n",
    "    return x_pos\n",
    "\n",
    "def price_line_plot(price):\n",
    "    plt.axhline(y=price, color='r', linewidth = 2)\n",
    "    \n",
    "def demand_plot(demand):\n",
    "    plt.axvline(x=demand, color='r', linewidth = 2)\n",
    "    \n",
    "def adjust_bids_by_cp(input_table, hour, period, carbon_price):\n",
    "    joined_table = input_table.copy()\n",
    "    joined_table[\"Total_Var_Cost_USDperMWH\"] += carbon_price * joined_table[\"Carbon_tonsperMWH\"]\n",
    "    joined_table[\"PRICE\" + str(hour)] += carbon_price * joined_table[\"Carbon_tonsperMWH\"]\n",
    "    return(joined_table)\n",
    "    \n",
    "def user_defined_bids(input_table, hour, period, my_portfolio, def_my_bids, def_others_bids):\n",
    "    joined_table = input_table.copy()\n",
    "    joined_df = joined_table.to_df()\n",
    "    if def_my_bids:\n",
    "        joined_df.loc[(joined_df[\"Group\"] == my_portfolio) & \n",
    "                      (joined_df[\"PERIOD\"] == period), \n",
    "                      \"PRICE\" + str(hour)] =  list(globals()[\"bids_\" + my_portfolio.replace(\" \", \"\").lower()].values())\n",
    "    if def_others_bids:\n",
    "        for group in set(joined_table['Group']):\n",
    "            if group != my_portfolio:\n",
    "                joined_df.loc[(joined_df[\"Group\"] == group) & \n",
    "                              (joined_df[\"PERIOD\"] == period), \n",
    "                              \"PRICE\" + str(hour)] =  list(globals()[\"bids_\" + group.replace(\" \", \"\").lower()].values())\n",
    "    joined_table = Table.from_df(joined_df)\n",
    "    return(joined_table)\n",
    "\n",
    "def market_plot(section, hour, period, carbon_price, my_portfolio, def_my_bids, def_others_bids):\n",
    "    demand = demand_table.where(\"round\", period).where(\"hour\", hour)[\"load\"].item()\n",
    "    joined_table = get_bids(section)\n",
    "    if period >= current_period:\n",
    "        joined_table = adjust_bids_by_cp(joined_table, hour, period, carbon_price)\n",
    "    joined_table = user_defined_bids(joined_table, hour, period, my_portfolio, def_my_bids, def_others_bids)\n",
    "    \n",
    "    sorted_joined_table = joined_table.where(\"PERIOD\", period).sort(\"PRICE\" + str(hour), descending = False)\n",
    "    width = sorted_joined_table.column(\"Capacity_MW\")\n",
    "    height = sorted_joined_table.column('PRICE' + str(hour))\n",
    "    x_vals = find_x_pos(width)\n",
    "    colors_mapped = list(pd.Series(sorted_joined_table['Group']).map(energy_colors_dict))\n",
    "    sorted_joined_table = sorted_joined_table.with_column('Color', colors_mapped)\n",
    "    group_colors = sorted_joined_table.group(\"Group\", lambda x: x).select(\"Group\", \"Color\")\n",
    "    group_colors[\"Color\"] = group_colors.apply(lambda x: x[0], \"Color\")\n",
    "    price = price_calc(sorted_joined_table, demand, hour, period)\n",
    "    # Make the plot\n",
    "    plt.figure(figsize=(9,6))\n",
    "    plt.bar(x_vals, height, width=width, color=sorted_joined_table['Color'], edgecolor = \"black\")\n",
    "    \n",
    "    num_plants = len(width)\n",
    "    height_mc = sorted_joined_table.column(\"Total_Var_Cost_USDperMWH\")\n",
    "    x_vec = np.zeros(num_plants * 2)\n",
    "    h_vec = np.zeros(num_plants * 2)\n",
    "    for i, (w, h) in enumerate(zip(width, height_mc)):\n",
    "        h_vec[2*i] = h\n",
    "        h_vec[2*i+1] = h\n",
    "        if i == 0:\n",
    "            x_vec[1] = w\n",
    "        else: \n",
    "            x_vec[2*i] = x_vec[2*i - 1]\n",
    "            x_vec[2*i + 1] = x_vec[2*i] + w\n",
    "                   \n",
    "    #x_vec = np.zeros(num_plants*2 + 2)\n",
    "    #h_vec = np.zeros(num_plants*2 + 2)\n",
    "    #for i, (w, h) in enumerate(zip(width, height_mc)):\n",
    "    #    x_vec[2*i + 1] = x_vec[2*i]\n",
    "    #    x_vec[2*i + 2] = x_vec[2*i + 1] + w\n",
    "    #    h_vec[2*i + 1] = h\n",
    "    #    h_vec[2*i + 2] = h\n",
    "    #x_vec[-1] = x_vec[-2]\n",
    "    \n",
    "    \n",
    "    line_mc = plt.plot(x_vec, h_vec, '--k', label='Marginal Cost', linewidth=2)\n",
    "    \n",
    "    patches = []\n",
    "    for row in group_colors.rows:\n",
    "        patches += [mpatches.Patch(color=row.item(\"Color\"), label=row.item(\"Group\"))]\n",
    "    patches += line_mc\n",
    "    plt.legend(handles=patches, bbox_to_anchor=(1.1,1))\n",
    "    \n",
    "    plt.title('Section ' + section + ', Round ' + str(period) + ', Hour ' + str(hour) + \n",
    "              '\\ndemand = ' + str(demand) + ', price = ' + str(price))\n",
    "    plt.xlabel('Capacity_MW')\n",
    "    plt.ylabel('Price')\n",
    "    price_line_plot(price)\n",
    "    demand_plot(demand)\n",
    "    #plt.ylim((0, 100))"
   ]
  },
  {
   "cell_type": "code",
   "execution_count": null,
   "metadata": {
    "scrolled": false
   },
   "outputs": [],
   "source": [
    "period=current_period - 1\n",
    "for section in [\"W9\"]:\n",
    "    for hour in range(1,5):\n",
    "        market_plot(section = section,\n",
    "                    hour = hour,\n",
    "                    period = period,\n",
    "                    carbon_price = 0,\n",
    "                    my_portfolio = 'Bay Views',\n",
    "                    def_my_bids = False,\n",
    "                    def_others_bids = False)"
   ]
  },
  {
   "cell_type": "markdown",
   "metadata": {},
   "source": [
    "Thanks for help from: Alec Kan, Alma Pineda, Aarish Irfan, Elaine Chien, Octavian Sima, and Eric Van Dusen."
   ]
  }
 ],
 "metadata": {
  "kernelspec": {
   "display_name": "Python 3",
   "language": "python",
   "name": "python3"
  },
  "language_info": {
   "codemirror_mode": {
    "name": "ipython",
    "version": 3
   },
   "file_extension": ".py",
   "mimetype": "text/x-python",
   "name": "python",
   "nbconvert_exporter": "python",
   "pygments_lexer": "ipython3",
   "version": "3.6.13"
  }
 },
 "nbformat": 4,
 "nbformat_minor": 2
}
