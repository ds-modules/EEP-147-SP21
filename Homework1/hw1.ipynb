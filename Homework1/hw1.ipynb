{
 "cells": [
  {
   "cell_type": "markdown",
   "metadata": {},
   "source": [
    "## ENVECON 147 - Homework 1\n",
    "\n",
    "In this assignment, we will work with the electricity market data that we will use in the Electricity Strategy game to learn how to use the data to create an electricity supply curve, how to determine the market clearing price for a given demand, and how to determine both industry-wide profits and profits for a specific portfolio."
   ]
  },
  {
   "cell_type": "markdown",
   "metadata": {},
   "source": [
    "1. Load in Pandas, Numpy, and Pyplot from Matplotlib.  You can find how to import pandas and pyplot in the section notes.  For numpy, use:\n",
    "\n",
    "    import numpy as np"
   ]
  },
  {
   "cell_type": "code",
   "execution_count": null,
   "metadata": {},
   "outputs": [],
   "source": []
  },
  {
   "cell_type": "markdown",
   "metadata": {},
   "source": [
    "2. Import the file ESGPortfolios.csv as a Pandas dataframe.  Save it as ESG.  Display the first few rows."
   ]
  },
  {
   "cell_type": "code",
   "execution_count": null,
   "metadata": {
    "scrolled": true
   },
   "outputs": [],
   "source": []
  },
  {
   "cell_type": "markdown",
   "metadata": {},
   "source": [
    "3. Capacity_MW is the quantity that each plant can produce.  Var_Cost_USDperMWH is the price at which the plant produces.  In order to create a supply curve, we will need to order our plants from lowest to highest cost.  Sort the dataframe on Var_Cost_USDperMWH from lowest to highest.  Display the first few rows."
   ]
  },
  {
   "cell_type": "code",
   "execution_count": null,
   "metadata": {},
   "outputs": [],
   "source": []
  },
  {
   "cell_type": "markdown",
   "metadata": {},
   "source": [
    "4. Now, we will need to determine how much quantity is available for each price. For any price p, a plant will produce if its cost is smaller than p.  Then for any price, the quantity supplied will be equal to the capacity of all plants with a cost less than or equal to p.  Let's treat the cost in each row of our dataframe as a possible price.  We will create a new column which will equal the total quantity supplied at that price.\n",
    "\n",
    "    Since the plants are sorted from lowest to highest cost, we just need to sum up the capacity of all plants up until and including the current row.  We can use numpy's cumsum() function to get the cumulative sum of a list.  Use np.cumsum() on ESG['Capacity_MW'] and add this to ESG as a new column called 'Cumulative_Capacity'.  Display the first few rows."
   ]
  },
  {
   "cell_type": "code",
   "execution_count": null,
   "metadata": {},
   "outputs": [],
   "source": []
  },
  {
   "cell_type": "markdown",
   "metadata": {},
   "source": [
    "5. Now, create a supply curve!  Plot a scatterplot with price (cost) as a function of quantity (cumulative capacity). (We will see later that the actual supply curve is a step-function.)"
   ]
  },
  {
   "cell_type": "code",
   "execution_count": null,
   "metadata": {},
   "outputs": [],
   "source": []
  },
  {
   "cell_type": "markdown",
   "metadata": {},
   "source": [
    "6. Now suppose demand were perfectly inelastic, equal to 14300MWH.  The market clearing price will be in the row such that the cumulative capacity (quantity supplied) is equal to demand.  You can find this row by indexing the ESG dataframe with the row index ESG['Cumulative_Capacity']==14300.  Get the price using ESG.loc[].values[0] with the appropriate row and column.  Save the market clearing price to a variable called cleaning_price.  Print clearing_price."
   ]
  },
  {
   "cell_type": "code",
   "execution_count": null,
   "metadata": {},
   "outputs": [],
   "source": []
  },
  {
   "cell_type": "markdown",
   "metadata": {},
   "source": [
    "7. Next, we want to determine the total profits for the electricity sector.  First, we will determine revenue, which is price * quantity.  Save the revenue to a variable called total_revenue, and print it."
   ]
  },
  {
   "cell_type": "code",
   "execution_count": null,
   "metadata": {},
   "outputs": [],
   "source": []
  },
  {
   "cell_type": "markdown",
   "metadata": {},
   "source": [
    "8. Now, we want to get the total cost.  The cost of each plant that produces will be equal to the variable cost of each plant, multiplied by the quantity that each plant is producing. First, let's print the cost of operating each plant.  Create a new column in ESG called 'total_cost', which multiplies the appropriate quantity column (for the plant, not cumulative) with the variable cost.  \n",
    "\n",
    "    Second, sum up the total cost for all plants which have a variable cost less than or equal to the clearing price (these are the operating plants).  For this second step, you will use a statement of the form ESG.loc[].sum(), filling in the appropriate row and column selection in the .loc[] method.  You can select the rows using an index statement similar to the one in the previous exercise.  Save the sum as a variable called total_cost.  Print the value."
   ]
  },
  {
   "cell_type": "code",
   "execution_count": null,
   "metadata": {},
   "outputs": [],
   "source": []
  },
  {
   "cell_type": "markdown",
   "metadata": {},
   "source": [
    "9. Now, subtract total cost from total revenue to get industry profits.  Save the value as a variable called industry_profit.  Print it."
   ]
  },
  {
   "cell_type": "code",
   "execution_count": null,
   "metadata": {},
   "outputs": [],
   "source": []
  },
  {
   "cell_type": "markdown",
   "metadata": {},
   "source": [
    "10. As a final challenge, determine the profits of Bay Views ('Bay Views' in the 'Group' column).  This can be done using similar steps as parts 7., 8., and 9., making sure to add the condition to the look only at Bay Views' rows.  When you have multiple conditions, use the format (condition 1) & (condition 2).  Save Bay Views' profit as a variable called bay_views_profit, and print it.\n",
    "\n",
    "    Hint 1: For calculating revenue, you will now need to calculate the quantity that Bay Views alone is supplying to meet demand.  You can do this using a similar statement as in the second step of part 8., summing over the appropriate column.  Remember that the quantity produced by each plant can be found in the 'Capacity_MW' column.\n",
    "    \n",
    "    Hint 2: You don't need to define the 'total_cost' column again from the first step of part 8., but this column will be useful.\n",
    "    \n",
    "    Hint 3: With all of these conditions, the .loc[] statements will look somewhat messy.  You can first save the conditions for selecting the appropriate rows as:\n",
    "    \n",
    "    rows = (condition 1) & (condition 2)\n",
    "    \n",
    "    Then using rows to index the rows:\n",
    "    \n",
    "    ESG.loc[rows, 'column name']"
   ]
  },
  {
   "cell_type": "code",
   "execution_count": null,
   "metadata": {},
   "outputs": [],
   "source": []
  },
  {
   "cell_type": "markdown",
   "metadata": {},
   "source": [
    "---\n",
    "\n",
    "## Submission\n",
    "\n",
    "Congrats on finishing your first lab notebook! Before submitting the assignment, click Kernel in the ribbon at the top, then click Restart & Run All.  Make sure that there are no errors and that all output is displayed appropriately.  To turn in this homework assignment, go to File > Download As and select **PDF via HTML**; upload the PDF this generates to Gradescope."
   ]
  }
 ],
 "metadata": {
  "history": [
   {
    "code": "import pandas as pd\nimport numpy as np\nimport matplotlib.pyplot as plt",
    "id": "7ac1821aaf58451cbbf23c71d6179eed",
    "idx": 2,
    "time": "2021-01-19T00:59:01.585Z",
    "type": "execution"
   },
   {
    "id": "7ac1821aaf58451cbbf23c71d6179eed",
    "time": "2021-01-19T00:59:02.286Z",
    "type": "completion"
   },
   {
    "code": "ESG = pd.read_csv('ESG.csv')",
    "id": "074169439a3d4e96b519a40baf7c8aaf",
    "idx": 4,
    "time": "2021-01-19T01:00:22.697Z",
    "type": "execution"
   },
   {
    "id": "074169439a3d4e96b519a40baf7c8aaf",
    "time": "2021-01-19T01:00:22.898Z",
    "type": "completion"
   },
   {
    "code": "ESG = pd.read_csv('ESGPortfolios.csv')",
    "id": "074169439a3d4e96b519a40baf7c8aaf",
    "idx": 4,
    "time": "2021-01-19T01:01:03.295Z",
    "type": "execution"
   },
   {
    "id": "074169439a3d4e96b519a40baf7c8aaf",
    "time": "2021-01-19T01:01:03.411Z",
    "type": "completion"
   },
   {
    "code": "ESG = pd.read_csv('ESGPorfolios.csv')",
    "id": "074169439a3d4e96b519a40baf7c8aaf",
    "idx": 4,
    "time": "2021-01-19T01:01:20.231Z",
    "type": "execution"
   },
   {
    "id": "074169439a3d4e96b519a40baf7c8aaf",
    "time": "2021-01-19T01:01:20.289Z",
    "type": "completion"
   },
   {
    "code": "ESG = pd.read_csv('ESGPorfolios.csv')\ndisplay(ESG.head())",
    "id": "074169439a3d4e96b519a40baf7c8aaf",
    "idx": 4,
    "time": "2021-01-19T01:01:40.229Z",
    "type": "execution"
   },
   {
    "id": "074169439a3d4e96b519a40baf7c8aaf",
    "time": "2021-01-19T01:01:40.332Z",
    "type": "completion"
   },
   {
    "code": "ESG.sort_values('Total_Var_Cost_USDperMWH', ascending=True, ignore_index=True, inplace=True)",
    "id": "bd2fed05a651477181cc5140a0286275",
    "idx": 6,
    "time": "2021-01-19T01:05:11.975Z",
    "type": "execution"
   },
   {
    "id": "bd2fed05a651477181cc5140a0286275",
    "time": "2021-01-19T01:05:12.034Z",
    "type": "completion"
   },
   {
    "code": "ESG.sort_values('Total_Var_Cost_USDperMWH', ascending=True, ignore_index=True, inplace=True)\ndisplay(ESG)",
    "id": "bd2fed05a651477181cc5140a0286275",
    "idx": 6,
    "time": "2021-01-19T01:05:17.376Z",
    "type": "execution"
   },
   {
    "id": "bd2fed05a651477181cc5140a0286275",
    "time": "2021-01-19T01:05:17.558Z",
    "type": "completion"
   },
   {
    "code": "ESG.sort_values('Total_Var_Cost_USDperMWH', ascending=True, ignore_index=True, inplace=True)\ndisplay(ESG.head())",
    "id": "bd2fed05a651477181cc5140a0286275",
    "idx": 6,
    "time": "2021-01-19T01:05:21.153Z",
    "type": "execution"
   },
   {
    "id": "bd2fed05a651477181cc5140a0286275",
    "time": "2021-01-19T01:05:21.217Z",
    "type": "completion"
   },
   {
    "code": "ESG['Cumulative_Capacity'] = np.cumsum(ESG['Capacity_MW'])\ndisplay(ESG.head())",
    "id": "18631347c7fe4693886ce50e7cd92ba7",
    "idx": 8,
    "time": "2021-01-19T01:15:31.344Z",
    "type": "execution"
   },
   {
    "id": "18631347c7fe4693886ce50e7cd92ba7",
    "time": "2021-01-19T01:15:31.432Z",
    "type": "completion"
   },
   {
    "code": "plt.scatter(x = ESG['Cumulative_Capacity'], y = ESG['Total_Var_Cost_USDperMWH'])\nplt.title('Electricity Supply')\nplt.xlabel('Quantity')\nplt.ylabel('Price')\nplt.show()",
    "id": "ae78ea928ee2484084019f80a38917bf",
    "idx": 10,
    "time": "2021-01-19T01:19:16.346Z",
    "type": "execution"
   },
   {
    "id": "ae78ea928ee2484084019f80a38917bf",
    "time": "2021-01-19T01:19:16.558Z",
    "type": "completion"
   },
   {
    "code": "ESG[ESG['Cumulative_Capacity']==4300]",
    "id": "f278d37a2d3446848123dfecc0307ef6",
    "idx": 11,
    "time": "2021-01-19T01:21:12.961Z",
    "type": "execution"
   },
   {
    "id": "f278d37a2d3446848123dfecc0307ef6",
    "time": "2021-01-19T01:21:13.048Z",
    "type": "completion"
   },
   {
    "code": "ESG[ESG['Cumulative_Capacity']]",
    "id": "f278d37a2d3446848123dfecc0307ef6",
    "idx": 11,
    "time": "2021-01-19T01:22:07.325Z",
    "type": "execution"
   },
   {
    "id": "f278d37a2d3446848123dfecc0307ef6",
    "time": "2021-01-19T01:22:07.428Z",
    "type": "completion"
   },
   {
    "code": "ESG['Cumulative_Capacity']",
    "id": "f278d37a2d3446848123dfecc0307ef6",
    "idx": 11,
    "time": "2021-01-19T01:22:11.594Z",
    "type": "execution"
   },
   {
    "id": "f278d37a2d3446848123dfecc0307ef6",
    "time": "2021-01-19T01:22:11.649Z",
    "type": "completion"
   },
   {
    "code": "ESG[ESG['Cumulative_Capacity']==14300]",
    "id": "f278d37a2d3446848123dfecc0307ef6",
    "idx": 11,
    "time": "2021-01-19T01:22:31.053Z",
    "type": "execution"
   },
   {
    "id": "f278d37a2d3446848123dfecc0307ef6",
    "time": "2021-01-19T01:22:31.125Z",
    "type": "completion"
   },
   {
    "code": "ESG[ESG['Cumulative_Capacity']==14300]]",
    "id": "f278d37a2d3446848123dfecc0307ef6",
    "idx": 12,
    "time": "2021-01-19T01:29:33.255Z",
    "type": "execution"
   },
   {
    "id": "f278d37a2d3446848123dfecc0307ef6",
    "time": "2021-01-19T01:29:33.315Z",
    "type": "completion"
   },
   {
    "code": "ESG[ESG['Cumulative_Capacity']==14300]",
    "id": "f278d37a2d3446848123dfecc0307ef6",
    "idx": 12,
    "time": "2021-01-19T01:29:37.583Z",
    "type": "execution"
   },
   {
    "id": "f278d37a2d3446848123dfecc0307ef6",
    "time": "2021-01-19T01:29:37.663Z",
    "type": "completion"
   },
   {
    "code": "display(ESG[ESG['Cumulative_Capacity']==14300])",
    "id": "f278d37a2d3446848123dfecc0307ef6",
    "idx": 12,
    "time": "2021-01-19T01:32:27.601Z",
    "type": "execution"
   },
   {
    "id": "f278d37a2d3446848123dfecc0307ef6",
    "time": "2021-01-19T01:32:27.673Z",
    "type": "completion"
   },
   {
    "code": "import pandas as pd\nimport numpy as np\nimport matplotlib.pyplot as plt",
    "id": "7ac1821aaf58451cbbf23c71d6179eed",
    "idx": 2,
    "time": "2021-01-19T01:33:07.627Z",
    "type": "execution"
   },
   {
    "code": "ESG = pd.read_csv('ESGPorfolios.csv')\ndisplay(ESG.head())",
    "id": "074169439a3d4e96b519a40baf7c8aaf",
    "idx": 4,
    "time": "2021-01-19T01:33:07.630Z",
    "type": "execution"
   },
   {
    "code": "ESG.sort_values('Total_Var_Cost_USDperMWH', ascending=True, ignore_index=True, inplace=True)\ndisplay(ESG.head())",
    "id": "bd2fed05a651477181cc5140a0286275",
    "idx": 6,
    "time": "2021-01-19T01:33:07.634Z",
    "type": "execution"
   },
   {
    "code": "ESG['Cumulative_Capacity'] = np.cumsum(ESG['Capacity_MW'])\ndisplay(ESG.head())",
    "id": "18631347c7fe4693886ce50e7cd92ba7",
    "idx": 8,
    "time": "2021-01-19T01:33:07.639Z",
    "type": "execution"
   },
   {
    "code": "plt.scatter(x = ESG['Cumulative_Capacity'], y = ESG['Total_Var_Cost_USDperMWH'])\nplt.title('Electricity Supply')\nplt.xlabel('Quantity')\nplt.ylabel('Price')\nplt.show()",
    "id": "ae78ea928ee2484084019f80a38917bf",
    "idx": 10,
    "time": "2021-01-19T01:33:07.643Z",
    "type": "execution"
   },
   {
    "code": "display(ESG[ESG['Cumulative_Capacity']==14300])",
    "id": "f278d37a2d3446848123dfecc0307ef6",
    "idx": 12,
    "time": "2021-01-19T01:33:07.648Z",
    "type": "execution"
   },
   {
    "id": "7ac1821aaf58451cbbf23c71d6179eed",
    "time": "2021-01-19T01:33:08.266Z",
    "type": "completion"
   },
   {
    "id": "074169439a3d4e96b519a40baf7c8aaf",
    "time": "2021-01-19T01:33:08.339Z",
    "type": "completion"
   },
   {
    "id": "bd2fed05a651477181cc5140a0286275",
    "time": "2021-01-19T01:33:08.354Z",
    "type": "completion"
   },
   {
    "id": "18631347c7fe4693886ce50e7cd92ba7",
    "time": "2021-01-19T01:33:08.357Z",
    "type": "completion"
   },
   {
    "id": "ae78ea928ee2484084019f80a38917bf",
    "time": "2021-01-19T01:33:08.493Z",
    "type": "completion"
   },
   {
    "id": "f278d37a2d3446848123dfecc0307ef6",
    "time": "2021-01-19T01:33:08.523Z",
    "type": "completion"
   },
   {
    "code": "import pandas as pd\nimport numpy as np\nimport matplotlib.pyplot as plt",
    "id": "060ba9c2c7f44b3c80b82c2a7c733b05",
    "idx": 2,
    "time": "2021-01-19T01:34:50.028Z",
    "type": "execution"
   },
   {
    "code": "ESG = pd.read_csv('ESGPorfolios.csv')\ndisplay(ESG.head())",
    "id": "59ea1c7320e64f7fabf52f346affbdf2",
    "idx": 4,
    "time": "2021-01-19T01:34:50.038Z",
    "type": "execution"
   },
   {
    "code": "ESG.sort_values('Total_Var_Cost_USDperMWH', ascending=True, ignore_index=True, inplace=True)\ndisplay(ESG.head())",
    "id": "10a60622d480443ba0ad655c082deefd",
    "idx": 6,
    "time": "2021-01-19T01:34:50.041Z",
    "type": "execution"
   },
   {
    "code": "ESG['Cumulative_Capacity'] = np.cumsum(ESG['Capacity_MW'])\ndisplay(ESG.head())",
    "id": "dc0036b205c94fbb8b5a4c88155b06bf",
    "idx": 8,
    "time": "2021-01-19T01:34:50.044Z",
    "type": "execution"
   },
   {
    "code": "plt.scatter(x = ESG['Cumulative_Capacity'], y = ESG['Total_Var_Cost_USDperMWH'])\nplt.title('Electricity Supply')\nplt.xlabel('Quantity')\nplt.ylabel('Price')\nplt.show()",
    "id": "58cecc3f03b54cb18d26c4f494b2ce9d",
    "idx": 10,
    "time": "2021-01-19T01:34:50.046Z",
    "type": "execution"
   },
   {
    "code": "display(ESG[ESG['Cumulative_Capacity']==14300])",
    "id": "810b7947b1f640c4bf609ca8fbdca96e",
    "idx": 12,
    "time": "2021-01-19T01:34:50.049Z",
    "type": "execution"
   },
   {
    "id": "060ba9c2c7f44b3c80b82c2a7c733b05",
    "time": "2021-01-19T01:34:50.661Z",
    "type": "completion"
   },
   {
    "id": "59ea1c7320e64f7fabf52f346affbdf2",
    "time": "2021-01-19T01:34:50.710Z",
    "type": "completion"
   },
   {
    "id": "10a60622d480443ba0ad655c082deefd",
    "time": "2021-01-19T01:34:50.727Z",
    "type": "completion"
   },
   {
    "id": "dc0036b205c94fbb8b5a4c88155b06bf",
    "time": "2021-01-19T01:34:50.756Z",
    "type": "completion"
   },
   {
    "id": "58cecc3f03b54cb18d26c4f494b2ce9d",
    "time": "2021-01-19T01:34:50.877Z",
    "type": "completion"
   },
   {
    "id": "810b7947b1f640c4bf609ca8fbdca96e",
    "time": "2021-01-19T01:34:50.912Z",
    "type": "completion"
   },
   {
    "code": "import pandas as pd\nimport numpy as np\nimport matplotlib.pyplot as plt",
    "id": "8d462792109d48fe9b93558fb5b32b19",
    "idx": 2,
    "time": "2021-01-19T01:49:52.179Z",
    "type": "execution"
   },
   {
    "code": "ESG = pd.read_csv('ESGPorfolios.csv')\ndisplay(ESG.head())",
    "id": "b85566b9edd5456e8cf8b45d4cc3c0de",
    "idx": 4,
    "time": "2021-01-19T01:49:52.196Z",
    "type": "execution"
   },
   {
    "code": "ESG.sort_values('Total_Var_Cost_USDperMWH', ascending=True, ignore_index=True, inplace=True)\ndisplay(ESG.head())",
    "id": "60b90463850f415196698820329ccc7f",
    "idx": 6,
    "time": "2021-01-19T01:49:52.203Z",
    "type": "execution"
   },
   {
    "code": "ESG['Cumulative_Capacity'] = np.cumsum(ESG['Capacity_MW'])\ndisplay(ESG.head())",
    "id": "99e79c1cb0bf489b8f243bdedc6e1e8e",
    "idx": 8,
    "time": "2021-01-19T01:49:52.206Z",
    "type": "execution"
   },
   {
    "code": "plt.scatter(x = ESG['Cumulative_Capacity'], y = ESG['Total_Var_Cost_USDperMWH'])\nplt.title('Electricity Supply')\nplt.xlabel('Quantity')\nplt.ylabel('Price')\nplt.show()",
    "id": "f31bf30b2c5a43c48ea51e708c4723ac",
    "idx": 10,
    "time": "2021-01-19T01:49:52.208Z",
    "type": "execution"
   },
   {
    "code": "display(ESG[ESG['Cumulative_Capacity']==14300])",
    "id": "8b284f7323b240ad92eddbd1cbcc0570",
    "idx": 12,
    "time": "2021-01-19T01:49:52.210Z",
    "type": "execution"
   },
   {
    "id": "8d462792109d48fe9b93558fb5b32b19",
    "time": "2021-01-19T01:49:52.825Z",
    "type": "completion"
   },
   {
    "id": "b85566b9edd5456e8cf8b45d4cc3c0de",
    "time": "2021-01-19T01:49:52.848Z",
    "type": "completion"
   },
   {
    "id": "60b90463850f415196698820329ccc7f",
    "time": "2021-01-19T01:49:52.998Z",
    "type": "completion"
   },
   {
    "id": "99e79c1cb0bf489b8f243bdedc6e1e8e",
    "time": "2021-01-19T01:49:53.011Z",
    "type": "completion"
   },
   {
    "id": "f31bf30b2c5a43c48ea51e708c4723ac",
    "time": "2021-01-19T01:49:53.013Z",
    "type": "completion"
   },
   {
    "id": "8b284f7323b240ad92eddbd1cbcc0570",
    "time": "2021-01-19T01:49:53.014Z",
    "type": "completion"
   },
   {
    "code": "ESG.sort_values('Var_Cost_USDperMWH', ascending=True, ignore_index=True, inplace=True)\ndisplay(ESG.head())",
    "id": "60b90463850f415196698820329ccc7f",
    "idx": 6,
    "time": "2021-01-19T01:50:09.201Z",
    "type": "execution"
   },
   {
    "id": "60b90463850f415196698820329ccc7f",
    "time": "2021-01-19T01:50:09.267Z",
    "type": "completion"
   },
   {
    "code": "import pandas as pd\nimport numpy as np\nimport matplotlib.pyplot as plt",
    "id": "8d462792109d48fe9b93558fb5b32b19",
    "idx": 2,
    "time": "2021-01-19T01:50:36.088Z",
    "type": "execution"
   },
   {
    "code": "ESG = pd.read_csv('ESGPorfolios.csv')\ndisplay(ESG.head())",
    "id": "b85566b9edd5456e8cf8b45d4cc3c0de",
    "idx": 4,
    "time": "2021-01-19T01:50:36.091Z",
    "type": "execution"
   },
   {
    "code": "ESG.sort_values('Var_Cost_USDperMWH', ascending=True, ignore_index=True, inplace=True)\ndisplay(ESG.head())",
    "id": "60b90463850f415196698820329ccc7f",
    "idx": 6,
    "time": "2021-01-19T01:50:36.100Z",
    "type": "execution"
   },
   {
    "code": "ESG['Cumulative_Capacity'] = np.cumsum(ESG['Capacity_MW'])\ndisplay(ESG.head())",
    "id": "99e79c1cb0bf489b8f243bdedc6e1e8e",
    "idx": 8,
    "time": "2021-01-19T01:50:36.102Z",
    "type": "execution"
   },
   {
    "code": "plt.scatter(x = ESG['Cumulative_Capacity'], y = ESG['Var_Cost_USDperMWH'])\nplt.title('Electricity Supply')\nplt.xlabel('Quantity')\nplt.ylabel('Price')\nplt.show()",
    "id": "f31bf30b2c5a43c48ea51e708c4723ac",
    "idx": 10,
    "time": "2021-01-19T01:50:36.105Z",
    "type": "execution"
   },
   {
    "code": "display(ESG[ESG['Cumulative_Capacity']==14300])",
    "id": "8b284f7323b240ad92eddbd1cbcc0570",
    "idx": 12,
    "time": "2021-01-19T01:50:36.108Z",
    "type": "execution"
   },
   {
    "id": "8d462792109d48fe9b93558fb5b32b19",
    "time": "2021-01-19T01:50:36.696Z",
    "type": "completion"
   },
   {
    "id": "b85566b9edd5456e8cf8b45d4cc3c0de",
    "time": "2021-01-19T01:50:36.710Z",
    "type": "completion"
   },
   {
    "id": "60b90463850f415196698820329ccc7f",
    "time": "2021-01-19T01:50:36.897Z",
    "type": "completion"
   },
   {
    "id": "99e79c1cb0bf489b8f243bdedc6e1e8e",
    "time": "2021-01-19T01:50:36.908Z",
    "type": "completion"
   },
   {
    "id": "f31bf30b2c5a43c48ea51e708c4723ac",
    "time": "2021-01-19T01:50:36.931Z",
    "type": "completion"
   },
   {
    "id": "8b284f7323b240ad92eddbd1cbcc0570",
    "time": "2021-01-19T01:50:36.943Z",
    "type": "completion"
   },
   {
    "code": "import pandas as pd\nimport numpy as np\nimport matplotlib.pyplot as plt",
    "id": "8d462792109d48fe9b93558fb5b32b19",
    "idx": 2,
    "time": "2021-01-19T01:52:19.057Z",
    "type": "execution"
   },
   {
    "code": "ESG = pd.read_csv('ESGPorfolios.csv')\ndisplay(ESG.head())",
    "id": "b85566b9edd5456e8cf8b45d4cc3c0de",
    "idx": 4,
    "time": "2021-01-19T01:52:19.063Z",
    "type": "execution"
   },
   {
    "code": "ESG.sort_values('Var_Cost_USDperMWH', ascending=True, ignore_index=True, inplace=True)\ndisplay(ESG.head())",
    "id": "60b90463850f415196698820329ccc7f",
    "idx": 6,
    "time": "2021-01-19T01:52:19.067Z",
    "type": "execution"
   },
   {
    "code": "ESG['Cumulative_Capacity'] = np.cumsum(ESG['Capacity_MW'])\ndisplay(ESG.head())",
    "id": "99e79c1cb0bf489b8f243bdedc6e1e8e",
    "idx": 8,
    "time": "2021-01-19T01:52:19.070Z",
    "type": "execution"
   },
   {
    "code": "plt.scatter(x = ESG['Cumulative_Capacity'], y = ESG['Var_Cost_USDperMWH'])\nplt.title('Electricity Supply')\nplt.xlabel('Quantity')\nplt.ylabel('Price')\nplt.show()",
    "id": "f31bf30b2c5a43c48ea51e708c4723ac",
    "idx": 10,
    "time": "2021-01-19T01:52:19.074Z",
    "type": "execution"
   },
   {
    "code": "display(ESG[ESG['Cumulative_Capacity']==14300])",
    "id": "8b284f7323b240ad92eddbd1cbcc0570",
    "idx": 12,
    "time": "2021-01-19T01:52:19.077Z",
    "type": "execution"
   },
   {
    "id": "8d462792109d48fe9b93558fb5b32b19",
    "time": "2021-01-19T01:52:19.697Z",
    "type": "completion"
   },
   {
    "id": "b85566b9edd5456e8cf8b45d4cc3c0de",
    "time": "2021-01-19T01:52:19.745Z",
    "type": "completion"
   },
   {
    "id": "60b90463850f415196698820329ccc7f",
    "time": "2021-01-19T01:52:19.760Z",
    "type": "completion"
   },
   {
    "id": "99e79c1cb0bf489b8f243bdedc6e1e8e",
    "time": "2021-01-19T01:52:19.779Z",
    "type": "completion"
   },
   {
    "id": "f31bf30b2c5a43c48ea51e708c4723ac",
    "time": "2021-01-19T01:52:19.932Z",
    "type": "completion"
   },
   {
    "id": "8b284f7323b240ad92eddbd1cbcc0570",
    "time": "2021-01-19T01:52:19.941Z",
    "type": "completion"
   },
   {
    "code": "import pandas as pd\nimport numpy as np\nimport matplotlib.pyplot as plt",
    "id": "8d462792109d48fe9b93558fb5b32b19",
    "idx": 2,
    "time": "2021-01-19T01:54:05.144Z",
    "type": "execution"
   },
   {
    "code": "ESG = pd.read_csv('ESGPorfolios.csv')\ndisplay(ESG.head())",
    "id": "b85566b9edd5456e8cf8b45d4cc3c0de",
    "idx": 4,
    "time": "2021-01-19T01:54:05.149Z",
    "type": "execution"
   },
   {
    "code": "ESG.sort_values('Var_Cost_USDperMWH', ascending=True, ignore_index=True, inplace=True)\ndisplay(ESG.head())",
    "id": "60b90463850f415196698820329ccc7f",
    "idx": 6,
    "time": "2021-01-19T01:54:05.154Z",
    "type": "execution"
   },
   {
    "code": "ESG['Cumulative_Capacity'] = np.cumsum(ESG['Capacity_MW'])\ndisplay(ESG.head())",
    "id": "99e79c1cb0bf489b8f243bdedc6e1e8e",
    "idx": 8,
    "time": "2021-01-19T01:54:05.156Z",
    "type": "execution"
   },
   {
    "code": "plt.scatter(x = ESG['Cumulative_Capacity'], y = ESG['Var_Cost_USDperMWH'])\nplt.title('Electricity Supply')\nplt.xlabel('Quantity')\nplt.ylabel('Price')\nplt.show()",
    "id": "f31bf30b2c5a43c48ea51e708c4723ac",
    "idx": 10,
    "time": "2021-01-19T01:54:05.157Z",
    "type": "execution"
   },
   {
    "code": "display(ESG[ESG['Cumulative_Capacity']==14300])",
    "id": "8b284f7323b240ad92eddbd1cbcc0570",
    "idx": 12,
    "time": "2021-01-19T01:54:05.159Z",
    "type": "execution"
   },
   {
    "id": "8d462792109d48fe9b93558fb5b32b19",
    "time": "2021-01-19T01:54:05.801Z",
    "type": "completion"
   },
   {
    "id": "b85566b9edd5456e8cf8b45d4cc3c0de",
    "time": "2021-01-19T01:54:05.855Z",
    "type": "completion"
   },
   {
    "id": "60b90463850f415196698820329ccc7f",
    "time": "2021-01-19T01:54:05.869Z",
    "type": "completion"
   },
   {
    "id": "99e79c1cb0bf489b8f243bdedc6e1e8e",
    "time": "2021-01-19T01:54:05.873Z",
    "type": "completion"
   },
   {
    "id": "f31bf30b2c5a43c48ea51e708c4723ac",
    "time": "2021-01-19T01:54:06.008Z",
    "type": "completion"
   },
   {
    "id": "8b284f7323b240ad92eddbd1cbcc0570",
    "time": "2021-01-19T01:54:06.049Z",
    "type": "completion"
   },
   {
    "code": "import pandas as pd\nimport numpy as np\nimport matplotlib.pyplot as plt",
    "id": "fd8d37f6fb2740c1a1e4fc6b44a3dfda",
    "idx": 2,
    "time": "2021-01-19T02:10:46.579Z",
    "type": "execution"
   },
   {
    "code": "ESG = pd.read_csv('ESGPorfolios.csv')\ndisplay(ESG.head())",
    "id": "42af6e1644bd47a7885f3312d31a36e8",
    "idx": 4,
    "time": "2021-01-19T02:10:46.587Z",
    "type": "execution"
   },
   {
    "code": "ESG.sort_values('Var_Cost_USDperMWH', ascending=True, ignore_index=True, inplace=True)\ndisplay(ESG.head())",
    "id": "967fb96dd8a147ff868fc11d671833ac",
    "idx": 6,
    "time": "2021-01-19T02:10:46.590Z",
    "type": "execution"
   },
   {
    "code": "ESG['Cumulative_Capacity'] = np.cumsum(ESG['Capacity_MW'])\ndisplay(ESG.head())",
    "id": "2acea0c9417643a6b38518e5796ddfc4",
    "idx": 8,
    "time": "2021-01-19T02:10:46.594Z",
    "type": "execution"
   },
   {
    "code": "plt.scatter(x = ESG['Cumulative_Capacity'], y = ESG['Var_Cost_USDperMWH'])\nplt.title('Electricity Supply')\nplt.xlabel('Quantity')\nplt.ylabel('Price')\nplt.show()",
    "id": "7ab3cfe08ef24d1a86b879d5b5ecc131",
    "idx": 10,
    "time": "2021-01-19T02:10:46.596Z",
    "type": "execution"
   },
   {
    "code": "display(ESG[ESG['Cumulative_Capacity']==14300])",
    "id": "a6ea56aa5c9540ed8e0fe339c2d2dc2b",
    "idx": 12,
    "time": "2021-01-19T02:10:46.603Z",
    "type": "execution"
   },
   {
    "id": "fd8d37f6fb2740c1a1e4fc6b44a3dfda",
    "time": "2021-01-19T02:10:47.192Z",
    "type": "completion"
   },
   {
    "id": "42af6e1644bd47a7885f3312d31a36e8",
    "time": "2021-01-19T02:10:47.223Z",
    "type": "completion"
   },
   {
    "id": "967fb96dd8a147ff868fc11d671833ac",
    "time": "2021-01-19T02:10:47.254Z",
    "type": "completion"
   },
   {
    "id": "2acea0c9417643a6b38518e5796ddfc4",
    "time": "2021-01-19T02:10:47.285Z",
    "type": "completion"
   },
   {
    "id": "7ab3cfe08ef24d1a86b879d5b5ecc131",
    "time": "2021-01-19T02:10:47.406Z",
    "type": "completion"
   },
   {
    "id": "a6ea56aa5c9540ed8e0fe339c2d2dc2b",
    "time": "2021-01-19T02:10:47.466Z",
    "type": "completion"
   },
   {
    "code": "display(ESG[ESG['Cumulative_Capacity']==14300]['Group'])",
    "id": "034247373fa3433689c41d30c2c5a6f0",
    "idx": 12,
    "time": "2021-01-20T21:42:29.089Z",
    "type": "execution"
   },
   {
    "id": "034247373fa3433689c41d30c2c5a6f0",
    "time": "2021-01-20T21:42:29.322Z",
    "type": "completion"
   },
   {
    "code": "import pandas as pd\nimport numpy as np\nimport matplotlib.pyplot as plt",
    "id": "f15aaeef66e041df99d089c3e67814ae",
    "idx": 2,
    "time": "2021-01-20T21:42:38.201Z",
    "type": "execution"
   },
   {
    "code": "ESG = pd.read_csv('ESGPorfolios.csv')\ndisplay(ESG.head())",
    "id": "decea76e04b544a6b1a9d8afdd6c65f0",
    "idx": 4,
    "time": "2021-01-20T21:42:38.204Z",
    "type": "execution"
   },
   {
    "code": "ESG.sort_values('Var_Cost_USDperMWH', ascending=True, ignore_index=True, inplace=True)\ndisplay(ESG.head())",
    "id": "1098c541ad854dc9b7b4dc22c88fa954",
    "idx": 6,
    "time": "2021-01-20T21:42:38.205Z",
    "type": "execution"
   },
   {
    "code": "ESG['Cumulative_Capacity'] = np.cumsum(ESG['Capacity_MW'])\ndisplay(ESG.head())",
    "id": "c36818f2f4764c1385497b017c33d34d",
    "idx": 8,
    "time": "2021-01-20T21:42:38.207Z",
    "type": "execution"
   },
   {
    "code": "plt.scatter(x = ESG['Cumulative_Capacity'], y = ESG['Var_Cost_USDperMWH'])\nplt.title('Electricity Supply')\nplt.xlabel('Quantity')\nplt.ylabel('Price')\nplt.show()",
    "id": "4b4224b890274383ab702a93813e179c",
    "idx": 10,
    "time": "2021-01-20T21:42:38.209Z",
    "type": "execution"
   },
   {
    "code": "display(ESG[ESG['Cumulative_Capacity']==14300]['Group'])",
    "id": "034247373fa3433689c41d30c2c5a6f0",
    "idx": 12,
    "time": "2021-01-20T21:42:38.215Z",
    "type": "execution"
   },
   {
    "id": "f15aaeef66e041df99d089c3e67814ae",
    "time": "2021-01-20T21:42:38.870Z",
    "type": "completion"
   },
   {
    "id": "decea76e04b544a6b1a9d8afdd6c65f0",
    "time": "2021-01-20T21:42:38.916Z",
    "type": "completion"
   },
   {
    "id": "1098c541ad854dc9b7b4dc22c88fa954",
    "time": "2021-01-20T21:42:39.055Z",
    "type": "completion"
   },
   {
    "id": "c36818f2f4764c1385497b017c33d34d",
    "time": "2021-01-20T21:42:39.060Z",
    "type": "completion"
   },
   {
    "id": "4b4224b890274383ab702a93813e179c",
    "time": "2021-01-20T21:42:39.108Z",
    "type": "completion"
   },
   {
    "id": "034247373fa3433689c41d30c2c5a6f0",
    "time": "2021-01-20T21:42:39.155Z",
    "type": "completion"
   },
   {
    "code": "display(ESG[ESG['Cumulative_Capacity']==14300])",
    "id": "034247373fa3433689c41d30c2c5a6f0",
    "idx": 12,
    "time": "2021-01-20T21:42:43.340Z",
    "type": "execution"
   },
   {
    "id": "034247373fa3433689c41d30c2c5a6f0",
    "time": "2021-01-20T21:42:43.511Z",
    "type": "completion"
   },
   {
    "code": "display(ESG[ESG['Cumulative_Capacity']==14300])\nclearing_price = ESG[ESG['Cumulative_Capacity']==14300, 'Var_Cost_USDperMWH']",
    "id": "034247373fa3433689c41d30c2c5a6f0",
    "idx": 12,
    "time": "2021-01-20T21:43:04.813Z",
    "type": "execution"
   },
   {
    "id": "034247373fa3433689c41d30c2c5a6f0",
    "time": "2021-01-20T21:43:05.124Z",
    "type": "completion"
   },
   {
    "code": "display(ESG[ESG['Cumulative_Capacity']==14300])\nclearing_price = ESG.loc[ESG['Cumulative_Capacity']==14300, 'Var_Cost_USDperMWH']",
    "id": "034247373fa3433689c41d30c2c5a6f0",
    "idx": 12,
    "time": "2021-01-20T21:43:16.066Z",
    "type": "execution"
   },
   {
    "id": "034247373fa3433689c41d30c2c5a6f0",
    "time": "2021-01-20T21:43:16.246Z",
    "type": "completion"
   },
   {
    "code": "revenue = 14300 * clearing_price\nprint(revenue)",
    "id": "4bcb42a9e339444386e6f587d9e11663",
    "idx": 14,
    "time": "2021-01-20T21:45:18.045Z",
    "type": "execution"
   },
   {
    "id": "4bcb42a9e339444386e6f587d9e11663",
    "time": "2021-01-20T21:45:18.210Z",
    "type": "completion"
   },
   {
    "code": "clearing_price = ESG.loc[ESG['Cumulative_Capacity']==14300, 'Var_Cost_USDperMWH']\nprint(clearing_price)",
    "id": "034247373fa3433689c41d30c2c5a6f0",
    "idx": 12,
    "time": "2021-01-20T21:47:33.361Z",
    "type": "execution"
   },
   {
    "id": "034247373fa3433689c41d30c2c5a6f0",
    "time": "2021-01-20T21:47:33.557Z",
    "type": "completion"
   },
   {
    "code": "clearing_price = ESG.loc[ESG['Cumulative_Capacity']==14300, 'Var_Cost_USDperMWH']\ndisplay(clearing_price)",
    "id": "034247373fa3433689c41d30c2c5a6f0",
    "idx": 12,
    "time": "2021-01-20T21:47:42.053Z",
    "type": "execution"
   },
   {
    "id": "034247373fa3433689c41d30c2c5a6f0",
    "time": "2021-01-20T21:47:42.217Z",
    "type": "completion"
   },
   {
    "code": "clearing_price = ESG.loc[ESG['Cumulative_Capacity']==14300, 'Var_Cost_USDperMWH']\nprint(clearing_price)",
    "id": "034247373fa3433689c41d30c2c5a6f0",
    "idx": 12,
    "time": "2021-01-20T21:47:45.647Z",
    "type": "execution"
   },
   {
    "id": "034247373fa3433689c41d30c2c5a6f0",
    "time": "2021-01-20T21:47:45.814Z",
    "type": "completion"
   },
   {
    "code": "clearing_price = ESG.loc[ESG['Cumulative_Capacity']==14300, 'Var_Cost_USDperMWH'].value\nprint(clearing_price)",
    "id": "034247373fa3433689c41d30c2c5a6f0",
    "idx": 12,
    "time": "2021-01-20T21:48:23.413Z",
    "type": "execution"
   },
   {
    "id": "034247373fa3433689c41d30c2c5a6f0",
    "time": "2021-01-20T21:48:23.606Z",
    "type": "completion"
   },
   {
    "code": "clearing_price = ESG.loc[ESG['Cumulative_Capacity']==14300, 'Var_Cost_USDperMWH'].values\nprint(clearing_price)",
    "id": "034247373fa3433689c41d30c2c5a6f0",
    "idx": 12,
    "time": "2021-01-20T21:48:25.510Z",
    "type": "execution"
   },
   {
    "id": "034247373fa3433689c41d30c2c5a6f0",
    "time": "2021-01-20T21:48:25.669Z",
    "type": "completion"
   },
   {
    "code": "revenue = 14300 * clearing_price\nprint(revenue)",
    "id": "4bcb42a9e339444386e6f587d9e11663",
    "idx": 14,
    "time": "2021-01-20T21:48:56.043Z",
    "type": "execution"
   },
   {
    "id": "4bcb42a9e339444386e6f587d9e11663",
    "time": "2021-01-20T21:48:56.208Z",
    "type": "completion"
   },
   {
    "code": "clearing_price = ESG.loc[ESG['Cumulative_Capacity']==14300, 'Var_Cost_USDperMWH'][0]\nprint(clearing_price)",
    "id": "034247373fa3433689c41d30c2c5a6f0",
    "idx": 12,
    "time": "2021-01-20T21:49:12.759Z",
    "type": "execution"
   },
   {
    "id": "034247373fa3433689c41d30c2c5a6f0",
    "time": "2021-01-20T21:49:13.044Z",
    "type": "completion"
   },
   {
    "code": "clearing_price = ESG.loc[ESG['Cumulative_Capacity']==14300, 'Var_Cost_USDperMWH'].values[0]\nprint(clearing_price)",
    "id": "034247373fa3433689c41d30c2c5a6f0",
    "idx": 12,
    "time": "2021-01-20T21:49:18.282Z",
    "type": "execution"
   },
   {
    "id": "034247373fa3433689c41d30c2c5a6f0",
    "time": "2021-01-20T21:49:18.440Z",
    "type": "completion"
   },
   {
    "code": "revenue = 14300 * clearing_price\nprint(revenue)",
    "id": "4bcb42a9e339444386e6f587d9e11663",
    "idx": 14,
    "time": "2021-01-20T21:50:21.719Z",
    "type": "execution"
   },
   {
    "id": "4bcb42a9e339444386e6f587d9e11663",
    "time": "2021-01-20T21:50:21.880Z",
    "type": "completion"
   },
   {
    "code": "revenue = 14300 * clearing_price\nprint(revenue)",
    "id": "4bcb42a9e339444386e6f587d9e11663",
    "idx": 14,
    "time": "2021-01-20T21:50:53.990Z",
    "type": "execution"
   },
   {
    "id": "4bcb42a9e339444386e6f587d9e11663",
    "time": "2021-01-20T21:50:54.154Z",
    "type": "completion"
   },
   {
    "code": "ESG['total_cost'] = ESG['Capacity_MW'] * ESG['Var_Cost_USDperMWH']",
    "id": "e3c6a57652854b4f830b84aa9d5a9142",
    "idx": 16,
    "time": "2021-01-20T21:56:43.166Z",
    "type": "execution"
   },
   {
    "id": "e3c6a57652854b4f830b84aa9d5a9142",
    "time": "2021-01-20T21:56:43.342Z",
    "type": "completion"
   },
   {
    "code": "ESG['total_cost'] = ESG['Capacity_MW'] * ESG['Var_Cost_USDperMWH']\nESG.loc[ESG['Var_Cost_USDperMWH']<=clearing_price, 'total_cost']",
    "id": "e3c6a57652854b4f830b84aa9d5a9142",
    "idx": 16,
    "time": "2021-01-20T21:58:08.463Z",
    "type": "execution"
   },
   {
    "id": "e3c6a57652854b4f830b84aa9d5a9142",
    "time": "2021-01-20T21:58:08.650Z",
    "type": "completion"
   },
   {
    "code": "ESG['total_cost'] = ESG['Capacity_MW'] * ESG['Var_Cost_USDperMWH']\nESG.loc[ESG['Var_Cost_USDperMWH']<=clearing_price, 'total_cost'].sum()",
    "id": "e3c6a57652854b4f830b84aa9d5a9142",
    "idx": 16,
    "time": "2021-01-20T21:58:15.025Z",
    "type": "execution"
   },
   {
    "id": "e3c6a57652854b4f830b84aa9d5a9142",
    "time": "2021-01-20T21:58:15.177Z",
    "type": "completion"
   },
   {
    "code": "ESG['total_cost'] = ESG['Capacity_MW'] * ESG['Var_Cost_USDperMWH']\nESG.loc[ESG['Var_Cost_USDperMWH']<=clearing_price, 'total_cost'].sum()\nprint(total_cost)",
    "id": "e3c6a57652854b4f830b84aa9d5a9142",
    "idx": 16,
    "time": "2021-01-20T22:01:06.018Z",
    "type": "execution"
   },
   {
    "id": "e3c6a57652854b4f830b84aa9d5a9142",
    "time": "2021-01-20T22:01:06.214Z",
    "type": "completion"
   },
   {
    "code": "total_revenue = 14300 * clearing_price\nprint(total_revenue)",
    "id": "4bcb42a9e339444386e6f587d9e11663",
    "idx": 14,
    "time": "2021-01-20T22:01:24.126Z",
    "type": "execution"
   },
   {
    "id": "4bcb42a9e339444386e6f587d9e11663",
    "time": "2021-01-20T22:01:24.314Z",
    "type": "completion"
   },
   {
    "code": "ESG['total_cost'] = ESG['Capacity_MW'] * ESG['Var_Cost_USDperMWH']\ntotal_cost = ESG.loc[ESG['Var_Cost_USDperMWH']<=clearing_price, 'total_cost'].sum()\nprint(total_cost)",
    "id": "e3c6a57652854b4f830b84aa9d5a9142",
    "idx": 16,
    "time": "2021-01-20T22:01:26.110Z",
    "type": "execution"
   },
   {
    "id": "e3c6a57652854b4f830b84aa9d5a9142",
    "time": "2021-01-20T22:01:26.277Z",
    "type": "completion"
   },
   {
    "code": "industry_profits = total_revenue - total_cost\nprint(industry_profits)",
    "id": "09c1b5c8a0d4452a981c3a0c1a6efcf6",
    "idx": 18,
    "time": "2021-01-20T22:02:33.653Z",
    "type": "execution"
   },
   {
    "id": "09c1b5c8a0d4452a981c3a0c1a6efcf6",
    "time": "2021-01-20T22:02:33.816Z",
    "type": "completion"
   },
   {
    "code": "bay_views_revenue = ESG.loc[ESG['Var_Cost_USDperMWH']<=clearing_price, 'Capacity_MW'].sum() * clearing_price\nbay_views_cost = ESG.loc[ESG['Var_Cost_USDperMWH']<=clearing_price, 'total_cost'].sum()\nbay_views_profits = bay_views_revenue - bay_views_cost\nprint(bay_views_profit)",
    "id": "c1deb1e155594b6f8ef1d753169de25f",
    "idx": 20,
    "time": "2021-01-20T22:12:36.956Z",
    "type": "execution"
   },
   {
    "id": "c1deb1e155594b6f8ef1d753169de25f",
    "time": "2021-01-20T22:12:37.153Z",
    "type": "completion"
   },
   {
    "code": "bay_views_revenue = ESG.loc[ESG['Var_Cost_USDperMWH']<=clearing_price, 'Capacity_MW'].sum() * clearing_price\nbay_views_cost = ESG.loc[ESG['Var_Cost_USDperMWH']<=clearing_price, 'total_cost'].sum()\nbay_views_profit = bay_views_revenue - bay_views_cost\nprint(bay_views_profit)",
    "id": "c1deb1e155594b6f8ef1d753169de25f",
    "idx": 20,
    "time": "2021-01-20T22:12:42.282Z",
    "type": "execution"
   },
   {
    "id": "c1deb1e155594b6f8ef1d753169de25f",
    "time": "2021-01-20T22:12:42.441Z",
    "type": "completion"
   },
   {
    "code": "bay_views_revenue = ESG.loc[ESG['Var_Cost_USDperMWH']<=clearing_price & ESG['Group']=='Bay Views', 'Capacity_MW'].sum() * clearing_price\nbay_views_cost = ESG.loc[ESG['Var_Cost_USDperMWH']<=clearing_price & ESG['Group']=='Bay Views', 'total_cost'].sum()\nbay_views_profit = bay_views_revenue - bay_views_cost\nprint(bay_views_profit)",
    "id": "c1deb1e155594b6f8ef1d753169de25f",
    "idx": 20,
    "time": "2021-01-20T22:13:54.311Z",
    "type": "execution"
   },
   {
    "id": "c1deb1e155594b6f8ef1d753169de25f",
    "time": "2021-01-20T22:13:54.663Z",
    "type": "completion"
   },
   {
    "code": "ESG['Var_Cost_USDperMWH']<=clearing_price & ESG['Group']=='Bay Views'",
    "id": "d469f031dff6450fbc684df4d15275d1",
    "idx": 20,
    "time": "2021-01-20T22:14:20.590Z",
    "type": "execution"
   },
   {
    "id": "d469f031dff6450fbc684df4d15275d1",
    "time": "2021-01-20T22:14:20.933Z",
    "type": "completion"
   },
   {
    "code": "ESG['Var_Cost_USDperMWH']<=clearing_price and ESG['Group']=='Bay Views'",
    "id": "d469f031dff6450fbc684df4d15275d1",
    "idx": 20,
    "time": "2021-01-20T22:14:25.853Z",
    "type": "execution"
   },
   {
    "id": "d469f031dff6450fbc684df4d15275d1",
    "time": "2021-01-20T22:14:26.024Z",
    "type": "completion"
   },
   {
    "code": "ESG['Var_Cost_USDperMWH']<=clearing_price & ESG['Group']=='Bay Views'",
    "id": "d469f031dff6450fbc684df4d15275d1",
    "idx": 20,
    "time": "2021-01-20T22:14:33.515Z",
    "type": "execution"
   },
   {
    "id": "d469f031dff6450fbc684df4d15275d1",
    "time": "2021-01-20T22:14:33.867Z",
    "type": "completion"
   },
   {
    "code": "print(ESG['Var_Cost_USDperMWH']<=clearing_price)\n\nESG['Var_Cost_USDperMWH']<=clearing_price & ESG['Group']=='Bay Views'",
    "id": "d469f031dff6450fbc684df4d15275d1",
    "idx": 20,
    "time": "2021-01-20T22:14:43.169Z",
    "type": "execution"
   },
   {
    "id": "d469f031dff6450fbc684df4d15275d1",
    "time": "2021-01-20T22:14:43.568Z",
    "type": "completion"
   },
   {
    "code": "print(ESG['Group']=='Bay Views')\n\nESG['Var_Cost_USDperMWH']<=clearing_price & ESG['Group']=='Bay Views'",
    "id": "d469f031dff6450fbc684df4d15275d1",
    "idx": 20,
    "time": "2021-01-20T22:14:52.355Z",
    "type": "execution"
   },
   {
    "id": "d469f031dff6450fbc684df4d15275d1",
    "time": "2021-01-20T22:14:52.733Z",
    "type": "completion"
   },
   {
    "code": "ESG['Var_Cost_USDperMWH']<=clearing_price & ESG['Group']=='Bay Views'",
    "id": "d469f031dff6450fbc684df4d15275d1",
    "idx": 20,
    "time": "2021-01-20T22:15:03.363Z",
    "type": "execution"
   },
   {
    "id": "d469f031dff6450fbc684df4d15275d1",
    "time": "2021-01-20T22:15:03.707Z",
    "type": "completion"
   },
   {
    "code": "bay_views_revenue = ESG.loc[(ESG['Var_Cost_USDperMWH']<=clearing_price) & (ESG['Group']=='Bay Views'), 'Capacity_MW'].sum() * clearing_price\nbay_views_cost = ESG.loc[(ESG['Var_Cost_USDperMWH']<=clearing_price & (ESG['Group']=='Bay Views'), 'total_cost'].sum()\nbay_views_profit = bay_views_revenue - bay_views_cost\nprint(bay_views_profit)",
    "id": "c1deb1e155594b6f8ef1d753169de25f",
    "idx": 21,
    "time": "2021-01-20T22:17:57.227Z",
    "type": "execution"
   },
   {
    "id": "c1deb1e155594b6f8ef1d753169de25f",
    "time": "2021-01-20T22:17:57.403Z",
    "type": "completion"
   },
   {
    "code": "bay_views_revenue = ESG.loc[(ESG['Var_Cost_USDperMWH']<=clearing_price) & (ESG['Group']=='Bay Views'), 'Capacity_MW'].sum() * clearing_price\nbay_views_cost = ESG.loc[(ESG['Var_Cost_USDperMWH']<=clearing_price) & (ESG['Group']=='Bay Views'), 'total_cost'].sum()\nbay_views_profit = bay_views_revenue - bay_views_cost\nprint(bay_views_profit)",
    "id": "c1deb1e155594b6f8ef1d753169de25f",
    "idx": 21,
    "time": "2021-01-20T22:18:04.072Z",
    "type": "execution"
   },
   {
    "id": "c1deb1e155594b6f8ef1d753169de25f",
    "time": "2021-01-20T22:18:04.225Z",
    "type": "completion"
   },
   {
    "code": "rows = (ESG['Var_Cost_USDperMWH']<=clearing_price) & (ESG['Group']=='Bay Views')\nbay_views_revenue = ESG.loc[rows, 'Capacity_MW'].sum() * clearing_price\nbay_views_cost = ESG.loc[rows, 'total_cost'].sum()\nbay_views_profit = bay_views_revenue - bay_views_cost\nprint(bay_views_profit)",
    "id": "c1deb1e155594b6f8ef1d753169de25f",
    "idx": 20,
    "time": "2021-01-20T22:21:53.163Z",
    "type": "execution"
   },
   {
    "id": "c1deb1e155594b6f8ef1d753169de25f",
    "time": "2021-01-20T22:21:53.332Z",
    "type": "completion"
   },
   {
    "code": "import pandas as pd\nimport numpy as np\nimport matplotlib.pyplot as plt",
    "id": "f15aaeef66e041df99d089c3e67814ae",
    "idx": 2,
    "time": "2021-01-20T22:47:04.583Z",
    "type": "execution"
   },
   {
    "code": "ESG = pd.read_csv('ESGPorfolios.csv')\ndisplay(ESG.head())",
    "id": "decea76e04b544a6b1a9d8afdd6c65f0",
    "idx": 4,
    "time": "2021-01-20T22:47:04.595Z",
    "type": "execution"
   },
   {
    "code": "ESG.sort_values('Var_Cost_USDperMWH', ascending=True, ignore_index=True, inplace=True)\ndisplay(ESG.head())",
    "id": "1098c541ad854dc9b7b4dc22c88fa954",
    "idx": 6,
    "time": "2021-01-20T22:47:04.600Z",
    "type": "execution"
   },
   {
    "code": "ESG['Cumulative_Capacity'] = np.cumsum(ESG['Capacity_MW'])\ndisplay(ESG.head())",
    "id": "c36818f2f4764c1385497b017c33d34d",
    "idx": 8,
    "time": "2021-01-20T22:47:04.607Z",
    "type": "execution"
   },
   {
    "code": "plt.scatter(x = ESG['Cumulative_Capacity'], y = ESG['Var_Cost_USDperMWH'])\nplt.title('Electricity Supply')\nplt.xlabel('Quantity')\nplt.ylabel('Price')\nplt.show()",
    "id": "4b4224b890274383ab702a93813e179c",
    "idx": 10,
    "time": "2021-01-20T22:47:04.626Z",
    "type": "execution"
   },
   {
    "code": "clearing_price = ESG.loc[ESG['Cumulative_Capacity']==14300, 'Var_Cost_USDperMWH'].values[0]\nprint(clearing_price)",
    "id": "034247373fa3433689c41d30c2c5a6f0",
    "idx": 12,
    "time": "2021-01-20T22:47:04.639Z",
    "type": "execution"
   },
   {
    "code": "total_revenue = 14300 * clearing_price\nprint(total_revenue)",
    "id": "4bcb42a9e339444386e6f587d9e11663",
    "idx": 14,
    "time": "2021-01-20T22:47:04.700Z",
    "type": "execution"
   },
   {
    "code": "ESG['total_cost'] = ESG['Capacity_MW'] * ESG['Var_Cost_USDperMWH']\ntotal_cost = ESG.loc[ESG['Var_Cost_USDperMWH']<=clearing_price, 'total_cost'].sum()\nprint(total_cost)",
    "id": "e3c6a57652854b4f830b84aa9d5a9142",
    "idx": 16,
    "time": "2021-01-20T22:47:04.712Z",
    "type": "execution"
   },
   {
    "code": "industry_profit = total_revenue - total_cost\nprint(industry_profit)",
    "id": "09c1b5c8a0d4452a981c3a0c1a6efcf6",
    "idx": 18,
    "time": "2021-01-20T22:47:04.716Z",
    "type": "execution"
   },
   {
    "code": "rows = (ESG['Var_Cost_USDperMWH']<=clearing_price) & (ESG['Group']=='Bay Views')\nbay_views_revenue = ESG.loc[rows, 'Capacity_MW'].sum() * clearing_price\nbay_views_cost = ESG.loc[rows, 'total_cost'].sum()\nbay_views_profit = bay_views_revenue - bay_views_cost\nprint(bay_views_profit)",
    "id": "c1deb1e155594b6f8ef1d753169de25f",
    "idx": 20,
    "time": "2021-01-20T22:47:04.729Z",
    "type": "execution"
   },
   {
    "id": "f15aaeef66e041df99d089c3e67814ae",
    "time": "2021-01-20T22:47:05.254Z",
    "type": "completion"
   },
   {
    "id": "decea76e04b544a6b1a9d8afdd6c65f0",
    "time": "2021-01-20T22:47:05.334Z",
    "type": "completion"
   },
   {
    "id": "1098c541ad854dc9b7b4dc22c88fa954",
    "time": "2021-01-20T22:47:05.394Z",
    "type": "completion"
   },
   {
    "id": "c36818f2f4764c1385497b017c33d34d",
    "time": "2021-01-20T22:47:05.471Z",
    "type": "completion"
   },
   {
    "id": "4b4224b890274383ab702a93813e179c",
    "time": "2021-01-20T22:47:05.478Z",
    "type": "completion"
   },
   {
    "id": "034247373fa3433689c41d30c2c5a6f0",
    "time": "2021-01-20T22:47:05.530Z",
    "type": "completion"
   },
   {
    "id": "4bcb42a9e339444386e6f587d9e11663",
    "time": "2021-01-20T22:47:05.535Z",
    "type": "completion"
   },
   {
    "id": "e3c6a57652854b4f830b84aa9d5a9142",
    "time": "2021-01-20T22:47:05.542Z",
    "type": "completion"
   },
   {
    "id": "09c1b5c8a0d4452a981c3a0c1a6efcf6",
    "time": "2021-01-20T22:47:05.543Z",
    "type": "completion"
   },
   {
    "id": "c1deb1e155594b6f8ef1d753169de25f",
    "time": "2021-01-20T22:47:05.590Z",
    "type": "completion"
   },
   {
    "code": "import pandas as pd\nimport numpy as np\nimport matplotlib.pyplot as plt",
    "id": "f15aaeef66e041df99d089c3e67814ae",
    "idx": 2,
    "time": "2021-01-20T22:53:21.071Z",
    "type": "execution"
   },
   {
    "code": "ESG = pd.read_csv('ESGPorfolios.csv')\ndisplay(ESG.head())",
    "id": "decea76e04b544a6b1a9d8afdd6c65f0",
    "idx": 4,
    "time": "2021-01-20T22:53:21.080Z",
    "type": "execution"
   },
   {
    "code": "ESG.sort_values('Var_Cost_USDperMWH', ascending=True, ignore_index=True, inplace=True)\ndisplay(ESG.head())",
    "id": "1098c541ad854dc9b7b4dc22c88fa954",
    "idx": 6,
    "time": "2021-01-20T22:53:21.084Z",
    "type": "execution"
   },
   {
    "code": "ESG['Cumulative_Capacity'] = np.cumsum(ESG['Capacity_MW'])\ndisplay(ESG.head())",
    "id": "c36818f2f4764c1385497b017c33d34d",
    "idx": 8,
    "time": "2021-01-20T22:53:21.088Z",
    "type": "execution"
   },
   {
    "code": "plt.scatter(x = ESG['Cumulative_Capacity'], y = ESG['Var_Cost_USDperMWH'])\nplt.title('Electricity Supply')\nplt.xlabel('Quantity')\nplt.ylabel('Price')\nplt.show()",
    "id": "4b4224b890274383ab702a93813e179c",
    "idx": 10,
    "time": "2021-01-20T22:53:21.092Z",
    "type": "execution"
   },
   {
    "code": "clearing_price = ESG.loc[ESG['Cumulative_Capacity']==14300, 'Var_Cost_USDperMWH'].values[0]\nprint(clearing_price)",
    "id": "034247373fa3433689c41d30c2c5a6f0",
    "idx": 12,
    "time": "2021-01-20T22:53:21.094Z",
    "type": "execution"
   },
   {
    "code": "total_revenue = 14300 * clearing_price\nprint(total_revenue)",
    "id": "4bcb42a9e339444386e6f587d9e11663",
    "idx": 14,
    "time": "2021-01-20T22:53:21.096Z",
    "type": "execution"
   },
   {
    "code": "ESG['total_cost'] = ESG['Capacity_MW'] * ESG['Var_Cost_USDperMWH']\ntotal_cost = ESG.loc[ESG['Var_Cost_USDperMWH']<=clearing_price, 'total_cost'].sum()\nprint(total_cost)",
    "id": "e3c6a57652854b4f830b84aa9d5a9142",
    "idx": 16,
    "time": "2021-01-20T22:53:21.099Z",
    "type": "execution"
   },
   {
    "code": "industry_profit = total_revenue - total_cost\nprint(industry_profit)",
    "id": "09c1b5c8a0d4452a981c3a0c1a6efcf6",
    "idx": 18,
    "time": "2021-01-20T22:53:21.101Z",
    "type": "execution"
   },
   {
    "code": "rows = (ESG['Var_Cost_USDperMWH']<=clearing_price) & (ESG['Group']=='Bay Views')\nbay_views_revenue = ESG.loc[rows, 'Capacity_MW'].sum() * clearing_price\nbay_views_cost = ESG.loc[rows, 'total_cost'].sum()\nbay_views_profit = bay_views_revenue - bay_views_cost\nprint(bay_views_profit)",
    "id": "c1deb1e155594b6f8ef1d753169de25f",
    "idx": 20,
    "time": "2021-01-20T22:53:21.136Z",
    "type": "execution"
   },
   {
    "id": "f15aaeef66e041df99d089c3e67814ae",
    "time": "2021-01-20T22:53:21.809Z",
    "type": "completion"
   },
   {
    "id": "decea76e04b544a6b1a9d8afdd6c65f0",
    "time": "2021-01-20T22:53:21.842Z",
    "type": "completion"
   },
   {
    "id": "1098c541ad854dc9b7b4dc22c88fa954",
    "time": "2021-01-20T22:53:21.993Z",
    "type": "completion"
   },
   {
    "id": "c36818f2f4764c1385497b017c33d34d",
    "time": "2021-01-20T22:53:22.008Z",
    "type": "completion"
   },
   {
    "id": "4b4224b890274383ab702a93813e179c",
    "time": "2021-01-20T22:53:22.106Z",
    "type": "completion"
   },
   {
    "id": "034247373fa3433689c41d30c2c5a6f0",
    "time": "2021-01-20T22:53:22.109Z",
    "type": "completion"
   },
   {
    "id": "4bcb42a9e339444386e6f587d9e11663",
    "time": "2021-01-20T22:53:22.156Z",
    "type": "completion"
   },
   {
    "id": "e3c6a57652854b4f830b84aa9d5a9142",
    "time": "2021-01-20T22:53:22.239Z",
    "type": "completion"
   },
   {
    "id": "09c1b5c8a0d4452a981c3a0c1a6efcf6",
    "time": "2021-01-20T22:53:22.243Z",
    "type": "completion"
   },
   {
    "id": "c1deb1e155594b6f8ef1d753169de25f",
    "time": "2021-01-20T22:53:22.256Z",
    "type": "completion"
   },
   {
    "code": "rows = (ESG['Var_Cost_USDperMWH']<=clearing_price) & (ESG['Group']=='Bay Views')\nbay_views_revenue = ESG.loc[rows, 'Capacity_MW'].sum() * clearing_price\nbay_views_cost = ESG.loc[rows, 'total_cost'].sum()\nbay_views_profit = bay_views_revenue - bay_views_cost\nprint(bay_views_profit.round())",
    "id": "c1deb1e155594b6f8ef1d753169de25f",
    "idx": 20,
    "time": "2021-01-20T22:53:50.300Z",
    "type": "execution"
   },
   {
    "id": "c1deb1e155594b6f8ef1d753169de25f",
    "time": "2021-01-20T22:53:50.465Z",
    "type": "completion"
   },
   {
    "code": "rows = (ESG['Var_Cost_USDperMWH']<=clearing_price) & (ESG['Group']=='Bay Views')\nbay_views_revenue = ESG.loc[rows, 'Capacity_MW'].sum() * clearing_price\nbay_views_cost = ESG.loc[rows, 'total_cost'].sum()\nbay_views_profit = bay_views_revenue - bay_views_cost\nprint(bay_views_profit.round(2))",
    "id": "c1deb1e155594b6f8ef1d753169de25f",
    "idx": 20,
    "time": "2021-01-20T22:53:52.435Z",
    "type": "execution"
   },
   {
    "id": "c1deb1e155594b6f8ef1d753169de25f",
    "time": "2021-01-20T22:53:52.593Z",
    "type": "completion"
   },
   {
    "code": "rows = (ESG['Var_Cost_USDperMWH']<=clearing_price) & (ESG['Group']=='Bay Views')\nbay_views_revenue = ESG.loc[rows, 'Capacity_MW'].sum() * clearing_price\nbay_views_cost = ESG.loc[rows, 'total_cost'].sum()\nbay_views_profit = bay_views_revenue - bay_views_cost\nprint(bay_views_profit.round(0))",
    "id": "c1deb1e155594b6f8ef1d753169de25f",
    "idx": 20,
    "time": "2021-01-20T22:54:01.636Z",
    "type": "execution"
   },
   {
    "id": "c1deb1e155594b6f8ef1d753169de25f",
    "time": "2021-01-20T22:54:01.804Z",
    "type": "completion"
   },
   {
    "code": "rows = (ESG['Var_Cost_USDperMWH']<=clearing_price) & (ESG['Group']=='Bay Views')\nbay_views_revenue = ESG.loc[rows, 'Capacity_MW'].sum() * clearing_price\nbay_views_cost = ESG.loc[rows, 'total_cost'].sum()\nbay_views_profit = bay_views_revenue - bay_views_cost\nprint(bay_views_profit.round(-1))",
    "id": "c1deb1e155594b6f8ef1d753169de25f",
    "idx": 20,
    "time": "2021-01-20T22:54:06.865Z",
    "type": "execution"
   },
   {
    "id": "c1deb1e155594b6f8ef1d753169de25f",
    "time": "2021-01-20T22:54:07.018Z",
    "type": "completion"
   },
   {
    "code": "rows = (ESG['Var_Cost_USDperMWH']<=clearing_price) & (ESG['Group']=='Bay Views')\nbay_views_revenue = ESG.loc[rows, 'Capacity_MW'].sum() * clearing_price\nbay_views_cost = ESG.loc[rows, 'total_cost'].sum()\nbay_views_profit = bay_views_revenue - bay_views_cost\nprint(bay_views_profit.int()))",
    "id": "c1deb1e155594b6f8ef1d753169de25f",
    "idx": 20,
    "time": "2021-01-20T22:54:11.521Z",
    "type": "execution"
   },
   {
    "id": "c1deb1e155594b6f8ef1d753169de25f",
    "time": "2021-01-20T22:54:11.693Z",
    "type": "completion"
   },
   {
    "code": "rows = (ESG['Var_Cost_USDperMWH']<=clearing_price) & (ESG['Group']=='Bay Views')\nbay_views_revenue = ESG.loc[rows, 'Capacity_MW'].sum() * clearing_price\nbay_views_cost = ESG.loc[rows, 'total_cost'].sum()\nbay_views_profit = bay_views_revenue - bay_views_cost\nprint(bay_views_profit.int())",
    "id": "c1deb1e155594b6f8ef1d753169de25f",
    "idx": 20,
    "time": "2021-01-20T22:54:13.287Z",
    "type": "execution"
   },
   {
    "id": "c1deb1e155594b6f8ef1d753169de25f",
    "time": "2021-01-20T22:54:13.538Z",
    "type": "completion"
   },
   {
    "code": "import pandas as pd\nimport numpy as np\nimport matplotlib.pyplot as plt",
    "id": "f15aaeef66e041df99d089c3e67814ae",
    "idx": 2,
    "time": "2021-01-20T22:54:46.404Z",
    "type": "execution"
   },
   {
    "code": "ESG = pd.read_csv('ESGPorfolios.csv')\ndisplay(ESG.head())",
    "id": "decea76e04b544a6b1a9d8afdd6c65f0",
    "idx": 4,
    "time": "2021-01-20T22:54:46.415Z",
    "type": "execution"
   },
   {
    "code": "ESG.sort_values('Var_Cost_USDperMWH', ascending=True, ignore_index=True, inplace=True)\ndisplay(ESG.head())",
    "id": "1098c541ad854dc9b7b4dc22c88fa954",
    "idx": 6,
    "time": "2021-01-20T22:54:46.420Z",
    "type": "execution"
   },
   {
    "code": "ESG['Cumulative_Capacity'] = np.cumsum(ESG['Capacity_MW'])\ndisplay(ESG.head())",
    "id": "c36818f2f4764c1385497b017c33d34d",
    "idx": 8,
    "time": "2021-01-20T22:54:46.423Z",
    "type": "execution"
   },
   {
    "code": "plt.scatter(x = ESG['Cumulative_Capacity'], y = ESG['Var_Cost_USDperMWH'])\nplt.title('Electricity Supply')\nplt.xlabel('Quantity')\nplt.ylabel('Price')\nplt.show()",
    "id": "4b4224b890274383ab702a93813e179c",
    "idx": 10,
    "time": "2021-01-20T22:54:46.429Z",
    "type": "execution"
   },
   {
    "code": "clearing_price = ESG.loc[ESG['Cumulative_Capacity']==14300, 'Var_Cost_USDperMWH'].values[0]\nprint(clearing_price.round(2))",
    "id": "034247373fa3433689c41d30c2c5a6f0",
    "idx": 12,
    "time": "2021-01-20T22:54:46.432Z",
    "type": "execution"
   },
   {
    "code": "total_revenue = 14300 * clearing_price\nprint(total_revenue.round(2))",
    "id": "4bcb42a9e339444386e6f587d9e11663",
    "idx": 14,
    "time": "2021-01-20T22:54:46.435Z",
    "type": "execution"
   },
   {
    "code": "ESG['total_cost'] = ESG['Capacity_MW'] * ESG['Var_Cost_USDperMWH']\ntotal_cost = ESG.loc[ESG['Var_Cost_USDperMWH']<=clearing_price, 'total_cost'].sum()\nprint(total_cost.round(2))",
    "id": "e3c6a57652854b4f830b84aa9d5a9142",
    "idx": 16,
    "time": "2021-01-20T22:54:46.437Z",
    "type": "execution"
   },
   {
    "code": "industry_profit = total_revenue - total_cost\nprint(industry_profit.round(2))",
    "id": "09c1b5c8a0d4452a981c3a0c1a6efcf6",
    "idx": 18,
    "time": "2021-01-20T22:54:46.439Z",
    "type": "execution"
   },
   {
    "code": "rows = (ESG['Var_Cost_USDperMWH']<=clearing_price) & (ESG['Group']=='Bay Views')\nbay_views_revenue = ESG.loc[rows, 'Capacity_MW'].sum() * clearing_price\nbay_views_cost = ESG.loc[rows, 'total_cost'].sum()\nbay_views_profit = bay_views_revenue - bay_views_cost\nprint(bay_views_profit.round(2))",
    "id": "c1deb1e155594b6f8ef1d753169de25f",
    "idx": 20,
    "time": "2021-01-20T22:54:46.441Z",
    "type": "execution"
   },
   {
    "id": "f15aaeef66e041df99d089c3e67814ae",
    "time": "2021-01-20T22:54:47.101Z",
    "type": "completion"
   },
   {
    "id": "decea76e04b544a6b1a9d8afdd6c65f0",
    "time": "2021-01-20T22:54:47.128Z",
    "type": "completion"
   },
   {
    "id": "1098c541ad854dc9b7b4dc22c88fa954",
    "time": "2021-01-20T22:54:47.260Z",
    "type": "completion"
   },
   {
    "id": "c36818f2f4764c1385497b017c33d34d",
    "time": "2021-01-20T22:54:47.294Z",
    "type": "completion"
   },
   {
    "id": "4b4224b890274383ab702a93813e179c",
    "time": "2021-01-20T22:54:47.434Z",
    "type": "completion"
   },
   {
    "id": "034247373fa3433689c41d30c2c5a6f0",
    "time": "2021-01-20T22:54:47.439Z",
    "type": "completion"
   },
   {
    "id": "4bcb42a9e339444386e6f587d9e11663",
    "time": "2021-01-20T22:54:47.510Z",
    "type": "completion"
   },
   {
    "id": "e3c6a57652854b4f830b84aa9d5a9142",
    "time": "2021-01-20T22:54:47.534Z",
    "type": "completion"
   },
   {
    "id": "09c1b5c8a0d4452a981c3a0c1a6efcf6",
    "time": "2021-01-20T22:54:47.536Z",
    "type": "completion"
   },
   {
    "id": "c1deb1e155594b6f8ef1d753169de25f",
    "time": "2021-01-20T22:54:47.618Z",
    "type": "completion"
   },
   {
    "code": "import pandas as pd\nimport numpy as np\nimport matplotlib.pyplot as plt",
    "id": "f15aaeef66e041df99d089c3e67814ae",
    "idx": 2,
    "time": "2021-01-20T23:44:29.718Z",
    "type": "execution"
   },
   {
    "id": "f15aaeef66e041df99d089c3e67814ae",
    "time": "2021-01-20T23:44:29.868Z",
    "type": "completion"
   },
   {
    "code": "import pandas as pd\nimport numpy as np\nimport matplotlib.pyplot as plt",
    "id": "f15aaeef66e041df99d089c3e67814ae",
    "idx": 2,
    "time": "2021-01-20T23:49:34.224Z",
    "type": "execution"
   },
   {
    "code": "ESG = pd.read_csv('ESGPorfolios.csv')\ndisplay(ESG.head())",
    "id": "decea76e04b544a6b1a9d8afdd6c65f0",
    "idx": 4,
    "time": "2021-01-20T23:49:34.247Z",
    "type": "execution"
   },
   {
    "code": "ESG.sort_values('Var_Cost_USDperMWH', ascending=True, ignore_index=True, inplace=True)\ndisplay(ESG.head())",
    "id": "1098c541ad854dc9b7b4dc22c88fa954",
    "idx": 6,
    "time": "2021-01-20T23:49:34.257Z",
    "type": "execution"
   },
   {
    "code": "ESG['Cumulative_Capacity'] = np.cumsum(ESG['Capacity_MW'])\ndisplay(ESG.head())",
    "id": "c36818f2f4764c1385497b017c33d34d",
    "idx": 8,
    "time": "2021-01-20T23:49:34.269Z",
    "type": "execution"
   },
   {
    "code": "plt.scatter(x = ESG['Cumulative_Capacity'], y = ESG['Var_Cost_USDperMWH'])\nplt.title('Electricity Supply')\nplt.xlabel('Quantity')\nplt.ylabel('Price')\nplt.show()",
    "id": "4b4224b890274383ab702a93813e179c",
    "idx": 10,
    "time": "2021-01-20T23:49:34.282Z",
    "type": "execution"
   },
   {
    "code": "clearing_price = ESG.loc[ESG['Cumulative_Capacity']==14300, 'Var_Cost_USDperMWH'].values[0]\nprint(clearing_price.round(2))",
    "id": "034247373fa3433689c41d30c2c5a6f0",
    "idx": 12,
    "time": "2021-01-20T23:49:34.299Z",
    "type": "execution"
   },
   {
    "code": "total_revenue = 14300 * clearing_price\nprint(total_revenue.round(2))",
    "id": "4bcb42a9e339444386e6f587d9e11663",
    "idx": 14,
    "time": "2021-01-20T23:49:34.305Z",
    "type": "execution"
   },
   {
    "code": "ESG['total_cost'] = ESG['Capacity_MW'] * ESG['Var_Cost_USDperMWH']\ntotal_cost = ESG.loc[ESG['Var_Cost_USDperMWH']<=clearing_price, 'total_cost'].sum()\nprint(total_cost.round(2))",
    "id": "e3c6a57652854b4f830b84aa9d5a9142",
    "idx": 16,
    "time": "2021-01-20T23:49:34.315Z",
    "type": "execution"
   },
   {
    "code": "industry_profit = total_revenue - total_cost\nprint(industry_profit.round(2))",
    "id": "09c1b5c8a0d4452a981c3a0c1a6efcf6",
    "idx": 18,
    "time": "2021-01-20T23:49:34.324Z",
    "type": "execution"
   },
   {
    "code": "rows = (ESG['Var_Cost_USDperMWH']<=clearing_price) & (ESG['Group']=='Bay Views')\nbay_views_revenue = ESG.loc[rows, 'Capacity_MW'].sum() * clearing_price\nbay_views_cost = ESG.loc[rows, 'total_cost'].sum()\nbay_views_profit = bay_views_revenue - bay_views_cost\nprint(bay_views_profit.round(2))",
    "id": "c1deb1e155594b6f8ef1d753169de25f",
    "idx": 20,
    "time": "2021-01-20T23:49:34.330Z",
    "type": "execution"
   },
   {
    "id": "f15aaeef66e041df99d089c3e67814ae",
    "time": "2021-01-20T23:49:34.905Z",
    "type": "completion"
   },
   {
    "id": "decea76e04b544a6b1a9d8afdd6c65f0",
    "time": "2021-01-20T23:49:35.013Z",
    "type": "completion"
   },
   {
    "id": "1098c541ad854dc9b7b4dc22c88fa954",
    "time": "2021-01-20T23:49:35.092Z",
    "type": "completion"
   },
   {
    "id": "c36818f2f4764c1385497b017c33d34d",
    "time": "2021-01-20T23:49:35.135Z",
    "type": "completion"
   },
   {
    "id": "4b4224b890274383ab702a93813e179c",
    "time": "2021-01-20T23:49:35.249Z",
    "type": "completion"
   },
   {
    "id": "034247373fa3433689c41d30c2c5a6f0",
    "time": "2021-01-20T23:49:35.344Z",
    "type": "completion"
   },
   {
    "id": "4bcb42a9e339444386e6f587d9e11663",
    "time": "2021-01-20T23:49:35.352Z",
    "type": "completion"
   },
   {
    "id": "e3c6a57652854b4f830b84aa9d5a9142",
    "time": "2021-01-20T23:49:35.355Z",
    "type": "completion"
   },
   {
    "id": "09c1b5c8a0d4452a981c3a0c1a6efcf6",
    "time": "2021-01-20T23:49:35.357Z",
    "type": "completion"
   },
   {
    "id": "c1deb1e155594b6f8ef1d753169de25f",
    "time": "2021-01-20T23:49:35.406Z",
    "type": "completion"
   }
  ],
  "kernelspec": {
   "display_name": "Python 3",
   "language": "python",
   "name": "python3"
  },
  "language_info": {
   "codemirror_mode": {
    "name": "ipython",
    "version": 3
   },
   "file_extension": ".py",
   "mimetype": "text/x-python",
   "name": "python",
   "nbconvert_exporter": "python",
   "pygments_lexer": "ipython3",
   "version": "3.8.6"
  }
 },
 "nbformat": 4,
 "nbformat_minor": 4
}
